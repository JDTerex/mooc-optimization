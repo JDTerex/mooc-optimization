{
 "cells": [
  {
   "cell_type": "code",
   "execution_count": 1,
   "metadata": {},
   "outputs": [],
   "source": [
    "import numpy as np"
   ]
  },
  {
   "cell_type": "markdown",
   "metadata": {},
   "source": [
    "We consider the function $h:\\mathbb{R}\\to\\mathbb{R}$, that is strictly unimodal in $[\\ell,u]$. It means that it has a unique global minimum $\\alpha^*$ in $[\\ell,u]$ and the following conditions are verified: \n",
    "\n",
    "\n",
    "- $f(\\alpha_1) > f(\\alpha_2) > f(\\alpha^*)$ for each $\\alpha_1$, $\\alpha_2$ such that $\\alpha_1<\\alpha_2<\\alpha_*$,\n",
    "- $f(\\alpha_2) > f(\\alpha_1) > f(\\alpha^*)$ for each $\\alpha_1$, $\\alpha_2$ such that $\\alpha_2>\\alpha_1>\\alpha_*$."
   ]
  },
  {
   "cell_type": "code",
   "execution_count": 2,
   "metadata": {},
   "outputs": [],
   "source": [
    "def goldenSection(h, l, u, eps):\n",
    "    \"\"\" \n",
    "    :param h: function that returns the value of h\n",
    "    :type fct: f = h(x)\n",
    "    \n",
    "    :param l: lower bound of the interval\n",
    "    :type l: float\n",
    "\n",
    "    :param u: upper bound of the interval\n",
    "    :type u: float\n",
    "    \n",
    "    :param eps: required precision\n",
    "    :type eps: float\n",
    "    \n",
    "    :return: alphastar, iters, where alphastar is the global optimum if h is strictly unimodal and a \n",
    "             local optimum otherwise, and iters contains the detsails of each iteration. \n",
    "    :rtype: float\n",
    "    \"\"\"\n",
    " \n",
    "    rho = (3.0 - np.sqrt(5.0)) / 2.0\n",
    "    alpha1 = l + rho * (u - l)\n",
    "    alpha2 = u - rho * (u - l)\n",
    "    h1 = h(alpha1) \n",
    "    h2 = h(alpha2) \n",
    "    iters = list()\n",
    "    iters.append([l, alpha1, alpha2, u, h1, h2])\n",
    "    k = 1\n",
    "    while (u - l) > eps:\n",
    "        if h1 == h2:\n",
    "            l = alpha1\n",
    "            u = alpha2 \n",
    "            alpha1 = l + rho * (u - l)\n",
    "            h1 = h(alpha1)\n",
    "            alpha2 = u - rho * (u - l)\n",
    "            h2 = h(alpha2) ;\n",
    "        elif h1 > h2:\n",
    "            l = alpha1\n",
    "            alpha1 = alpha2\n",
    "            h1 = h2\n",
    "            alpha2 = u - rho * (u - l)\n",
    "            h2 = h(alpha2)\n",
    "        else:\n",
    "            u = alpha2\n",
    "            alpha2 = alpha1\n",
    "            h2 = h1\n",
    "            alpha1 = l + rho * (u - l)\n",
    "            h1 = h(alpha1)\n",
    "        k += 1\n",
    "        iters.append([l, alpha1, alpha2, u, h1, h2])\n",
    "    xstar = (l + u) / 2.0\n",
    "    return xstar,iters"
   ]
  },
  {
   "cell_type": "markdown",
   "metadata": {},
   "source": [
    "Consider the function \\\\[h(x)=(2+x) \\cos(2+x).\\\\]\n",
    "The function is strictly unimodular in the interval $[5,10]$. We apply the golden section algorithm with $\\varepsilon=10^{-3}$ to identify the global minimum of $h$ in this interval."
   ]
  },
  {
   "cell_type": "code",
   "execution_count": 3,
   "metadata": {},
   "outputs": [],
   "source": [
    "def h(x):\n",
    "    return (2.0+x)*np.cos(2.0+x)"
   ]
  },
  {
   "cell_type": "code",
   "execution_count": 4,
   "metadata": {},
   "outputs": [
    {
     "data": {
      "image/png": "[encoded data removed]",
      "text/plain": [
       "<Figure size 432x288 with 1 Axes>"
      ]
     },
     "metadata": {
      "needs_background": "light"
     },
     "output_type": "display_data"
    }
   ],
   "source": [
    "import matplotlib.pyplot as plt\n",
    "xrange = np.arange(5.0, 10.0, 0.001)\n",
    "p = plt.plot(xrange, h(xrange))"
   ]
  },
  {
   "cell_type": "code",
   "execution_count": 5,
   "metadata": {},
   "outputs": [
    {
     "name": "stdout",
     "output_type": "stream",
     "text": [
      "The optimal solution is 7.5293254974342965 and there are 19 iterations.\n"
     ]
    }
   ],
   "source": [
    "xstar, iters = goldenSection(h,5,10,1.0e-3)\n",
    "print(f'The optimal solution is {xstar} and there are {len(iters)} iterations.')"
   ]
  },
  {
   "cell_type": "markdown",
   "metadata": {},
   "source": [
    "The intervals generated during the first iterations are represented in the Figure below."
   ]
  },
  {
   "cell_type": "code",
   "execution_count": 6,
   "metadata": {},
   "outputs": [],
   "source": [
    "def plotIters(lb, ub, iters, nbr = 10):\n",
    "    plt.xlim(lb, ub)\n",
    "    for k in range(nbr):\n",
    "        l = iters[k][0]\n",
    "        u = iters[k][3]\n",
    "        plt.plot([l, u], [nbr - k / 2, nbr - k / 2])   \n",
    "    plt.tick_params(\n",
    "        axis='y',          \n",
    "        left=False,        \n",
    "        labelleft = False)      \n",
    "    plt.show() "
   ]
  },
  {
   "cell_type": "code",
   "execution_count": 7,
   "metadata": {},
   "outputs": [
    {
     "data": {
      "image/png": "[encoded data removed]",
      "text/plain": [
       "<Figure size 432x288 with 1 Axes>"
      ]
     },
     "metadata": {
      "needs_background": "light"
     },
     "output_type": "display_data"
    }
   ],
   "source": [
    "plotIters(5, 10, iters)"
   ]
  },
  {
   "cell_type": "markdown",
   "metadata": {},
   "source": [
    "Consider now the interval $[0,8]$. The function is *not* strictly unimodal in this interval."
   ]
  },
  {
   "cell_type": "code",
   "execution_count": 8,
   "metadata": {},
   "outputs": [
    {
     "data": {
      "image/png": "[encoded data removed]",
      "text/plain": [
       "<Figure size 432x288 with 1 Axes>"
      ]
     },
     "metadata": {
      "needs_background": "light"
     },
     "output_type": "display_data"
    }
   ],
   "source": [
    "xrange = np.arange(0.0, 8, 0.001)\n",
    "p = plt.plot(xrange, h(xrange))"
   ]
  },
  {
   "cell_type": "markdown",
   "metadata": {},
   "source": [
    "If we apply the algorithm, we find a local optimum. "
   ]
  },
  {
   "cell_type": "code",
   "execution_count": 9,
   "metadata": {},
   "outputs": [
    {
     "name": "stdout",
     "output_type": "stream",
     "text": [
      "The optimal solution is 1.4255516547724514 and there are 20 iterations.\n"
     ]
    }
   ],
   "source": [
    "xstar, iters = goldenSection(h,0,8,1.0e-3)\n",
    "print(f'The optimal solution is {xstar} and there are {len(iters)} iterations.')"
   ]
  },
  {
   "cell_type": "code",
   "execution_count": 10,
   "metadata": {},
   "outputs": [
    {
     "data": {
      "image/png": "[encoded data removed]",
      "text/plain": [
       "<Figure size 432x288 with 1 Axes>"
      ]
     },
     "metadata": {
      "needs_background": "light"
     },
     "output_type": "display_data"
    }
   ],
   "source": [
    "plotIters(0, 8, iters)"
   ]
  }
 ],
 "metadata": {
  "kernelspec": {
   "display_name": "Python 3",
   "language": "python",
   "name": "python3"
  },
  "language_info": {
   "codemirror_mode": {
    "name": "ipython",
    "version": 3
   },
   "file_extension": ".py",
   "mimetype": "text/x-python",
   "name": "python",
   "nbconvert_exporter": "python",
   "pygments_lexer": "ipython3",
   "version": "3.8.0"
  }
 },
 "nbformat": 4,
 "nbformat_minor": 2
}
