{
 "cells": [
  {
   "cell_type": "markdown",
   "metadata": {},
   "source": [
    "- $f(x_1,x_2)=\\frac{1}{2} x_1^2 + \\frac{9}{2} x_2^2$ at $x=(0,0)^T$.\n"
   ]
  },
  {
   "cell_type": "code",
   "execution_count": 5,
   "metadata": {},
   "outputs": [
    {
     "name": "stdout",
     "output_type": "stream",
     "text": [
      "The value of the function at x= [0 0]  is f(x)= 0.0  \n",
      " and its Hessian matrix is H(f)(x)= [[1 0]\n",
      " [0 9]]\n"
     ]
    }
   ],
   "source": [
    "import numpy as np\n",
    "\n",
    "def func1(x):\n",
    "    f = 0.5*x.item(0)**2 + 4.5*x.item(1)**2\n",
    "    g = np.array([[x.item(0)],[9*x.item(1)]])\n",
    "    h = np.array([[1,0],[0,9]])\n",
    "    return (f,g,h)\n",
    "\n",
    "x1 = np.array([0,0]).T\n",
    "(f1,g1,h1) = func1(x1)\n",
    "print('The value of the function at x=',x1,' is f(x)=',f1,' \\n and its Hessian matrix is H(f)(x)=',h1)"
   ]
  },
  {
   "cell_type": "markdown",
   "metadata": {},
   "source": [
    "Recall that the curvature in direction d at x in defined as \\\\[\\text{curvature} = \\frac{d^T \\nabla^2 f(x) d}{d^Td}.\\\\]"
   ]
  },
  {
   "cell_type": "code",
   "execution_count": 7,
   "metadata": {},
   "outputs": [
    {
     "name": "stdout",
     "output_type": "stream",
     "text": [
      "The curvature in direction d1 at x is  [[nan]] , \n",
      " the one in direction d2 at x is  [[5.]]  \n",
      " and the one in direction d3 in x is  [[6.53846154]]\n"
     ]
    },
    {
     "name": "stderr",
     "output_type": "stream",
     "text": [
      "C:\\Users\\cecil\\Anaconda3\\lib\\site-packages\\ipykernel_launcher.py:6: RuntimeWarning: invalid value encountered in true_divide\n",
      "  \n"
     ]
    }
   ],
   "source": [
    "d1x1 = - g1\n",
    "d2 = np.array([[1],[1]])\n",
    "d3 = np.array([[-2],[3]])\n",
    "\n",
    "\n",
    "curvd1x1 = np.dot(np.dot(d1x1.T,h1),d1x1)/np.dot(d1x1.T,d1x1)\n",
    "curvd2x1 = np.dot(np.dot(d2.T,h1),d2)/np.dot(d2.T,d2)\n",
    "curvd3x1 = np.dot(np.dot(d3.T,h1),d3)/np.dot(d3.T,d3)\n",
    "\n",
    "print('The curvature in direction d1 at x is ',curvd1x1,', \\n the one in direction d2 at x is ',curvd2x1,' \\n and the one in direction d3 in x is ',curvd3x1)"
   ]
  },
  {
   "cell_type": "markdown",
   "metadata": {},
   "source": [
    "- $f(x_1,x_2)=\\frac{1}{3}x_1^3 +x_2^3-x_1-x_2$ at $x=(9,1)^T$.\n"
   ]
  },
  {
   "cell_type": "code",
   "execution_count": 11,
   "metadata": {},
   "outputs": [
    {
     "name": "stdout",
     "output_type": "stream",
     "text": [
      "The value of the function at x= [9 1]  is f(x)= 226.0  \n",
      " and its Hessian matrix is H(f)(x)= [[18  0]\n",
      " [ 0  6]]\n"
     ]
    }
   ],
   "source": [
    "def func2(x):\n",
    "    f = (1/3)*x.item(0)**3 + x.item(1)**3 - x.item(0) - x.item(0)\n",
    "    g = np.array([[x.item(0)**2-1],[3*x.item(1)**2-1]])\n",
    "    h = np.array([[2*x.item(0),0],[0,6*x.item(1)]])\n",
    "    return (f,g,h)\n",
    "\n",
    "x2 = np.array([9,1]).T\n",
    "(f2,g2,h2) = func2(x2)\n",
    "print('The value of the function at x=',x2,' is f(x)=',f2,' \\n and its Hessian matrix is H(f)(x)=',h2)"
   ]
  },
  {
   "cell_type": "code",
   "execution_count": 12,
   "metadata": {
    "scrolled": true
   },
   "outputs": [
    {
     "name": "stdout",
     "output_type": "stream",
     "text": [
      "The curvature in direction d1 at x is  [[17.99250468]] , \n",
      " the one in direction d2 at x is  [[12.]]  \n",
      " and the one in direction d3 in x is  [[9.69230769]]\n"
     ]
    }
   ],
   "source": [
    "d1x2 = - g2\n",
    "\n",
    "curvd1x2 = np.dot(np.dot(d1x2.T,h2),d1x2)/np.dot(d1x2.T,d1x2)\n",
    "curvd2x2 = np.dot(np.dot(d2.T,h2),d2)/np.dot(d2.T,d2)\n",
    "curvd3x2 = np.dot(np.dot(d3.T,h2),d3)/np.dot(d3.T,d3)\n",
    "\n",
    "print('The curvature in direction d1 at x is ',curvd1x2,', \\n the one in direction d2 at x is ',curvd2x2,' \\n and the one in direction d3 in x is ',curvd3x2)"
   ]
  },
  {
   "cell_type": "markdown",
   "metadata": {},
   "source": [
    "- $f(x_1,x_2)= (x_1-2)^4 +(x_1-2)^2x_2^2 + (x_2+1)^2$ at $x=(2,-1)^T$.\n"
   ]
  },
  {
   "cell_type": "code",
   "execution_count": 13,
   "metadata": {},
   "outputs": [
    {
     "name": "stdout",
     "output_type": "stream",
     "text": [
      "The value of the function at x= [ 2 -1]  is f(x)= 0  \n",
      " and its Hessian matrix is H(f)(x)= [[2 0]\n",
      " [0 2]]\n"
     ]
    }
   ],
   "source": [
    "def func3(x):\n",
    "    f = (x.item(0)-2)**4 + (x.item(0)-2)**2*x.item(1)**2 + (x.item(1)+1)**2\n",
    "    g = np.array([[4*(x.item(0)-2)**3+2*(x.item(0)-2)*x.item(1)**2],[2*(x.item(0)-2)**2*x.item(1)+2*(x.item(1)+1)]])\n",
    "    h = np.array([[12*(x.item(0)-2)**2+2*x.item(1)**2,4*(x.item(0)-2)*x.item(1)],[4*(x.item(0)-2)*x.item(1),2*(x.item(0)-2)**2+2]])\n",
    "    return (f,g,h)\n",
    "\n",
    "x3 = np.array([2,-1]).T\n",
    "(f3,g3,h3) = func3(x3)\n",
    "print('The value of the function at x=',x3,' is f(x)=',f3,' \\n and its Hessian matrix is H(f)(x)=',h3)"
   ]
  },
  {
   "cell_type": "code",
   "execution_count": 14,
   "metadata": {},
   "outputs": [
    {
     "name": "stdout",
     "output_type": "stream",
     "text": [
      "The curvature in direction d1 at x is  [[nan]]  since the gradient is null, \n",
      " the one in direction d2 at x is  [[2.]]  \n",
      " and the one in direction d3 in x is  [[2.]]\n"
     ]
    },
    {
     "name": "stderr",
     "output_type": "stream",
     "text": [
      "C:\\Users\\cecil\\Anaconda3\\lib\\site-packages\\ipykernel_launcher.py:3: RuntimeWarning: invalid value encountered in true_divide\n",
      "  This is separate from the ipykernel package so we can avoid doing imports until\n"
     ]
    }
   ],
   "source": [
    "d1x3 = - g3\n",
    "\n",
    "curvd1x3 = np.dot(np.dot(d1x3.T,h3),d1x3)/np.dot(d1x3.T,d1x3)\n",
    "curvd2x3 = np.dot(np.dot(d2.T,h3),d2)/np.dot(d2.T,d2)\n",
    "curvd3x3 = np.dot(np.dot(d3.T,h3),d3)/np.dot(d3.T,d3)\n",
    "\n",
    "print('The curvature in direction d1 at x is ',curvd1x3,' since the gradient is null, \\n the one in direction d2 at x is ',curvd2x3,' \\n and the one in direction d3 in x is ',curvd3x3)"
   ]
  },
  {
   "cell_type": "markdown",
   "metadata": {},
   "source": [
    "- $f(x_1,x_2)= x_1^2 +2x_1x_2 + 2x_2^2$ at $x=(1,1)^T$.\n",
    "\n"
   ]
  },
  {
   "cell_type": "code",
   "execution_count": 15,
   "metadata": {},
   "outputs": [
    {
     "name": "stdout",
     "output_type": "stream",
     "text": [
      "The value of the function at x= [1 1]  is f(x)= 5  \n",
      " and its Hessian matrix is H(f)(x)= [[2 2]\n",
      " [2 4]]\n"
     ]
    }
   ],
   "source": [
    "def func4(x):\n",
    "    f = x.item(0)**2 + 2*x.item(0)*x.item(1) + 2*x.item(1)**2\n",
    "    g = np.array([[2*x.item(0)+2*x.item(1)],[4*x.item(1)+2*x.item(0)]])\n",
    "    h = np.array([[2,2],[2,4]])\n",
    "    return (f,g,h)\n",
    "\n",
    "x4 = np.array([1,1]).T\n",
    "(f4,g4,h4) = func4(x4)\n",
    "print('The value of the function at x=',x4,' is f(x)=',f4,' \\n and its Hessian matrix is H(f)(x)=',h4)"
   ]
  },
  {
   "cell_type": "code",
   "execution_count": 16,
   "metadata": {},
   "outputs": [
    {
     "name": "stdout",
     "output_type": "stream",
     "text": [
      "The curvature in direction d1 at x is  [[5.23076923]] , \n",
      " the one in direction d2 at x is  [[5.]]  \n",
      " and the one in direction d3 in x is  [[1.53846154]]\n"
     ]
    }
   ],
   "source": [
    "d1x4 = - g4\n",
    "\n",
    "curvd1x4 = np.dot(np.dot(d1x4.T,h4),d1x4)/np.dot(d1x4.T,d1x4)\n",
    "curvd2x4 = np.dot(np.dot(d2.T,h4),d2)/np.dot(d2.T,d2)\n",
    "curvd3x4 = np.dot(np.dot(d3.T,h4),d3)/np.dot(d3.T,d3)\n",
    "\n",
    "print('The curvature in direction d1 at x is ',curvd1x4,', \\n the one in direction d2 at x is ',curvd2x4,' \\n and the one in direction d3 in x is ',curvd3x4)"
   ]
  },
  {
   "cell_type": "markdown",
   "metadata": {},
   "source": [
    "- $f(x_1,x_2)=x_1^2 - x_1x_2 +2x_2^2-2x_1+\\exp(x_1+x_2)$ at $x=(0,0)^T$."
   ]
  },
  {
   "cell_type": "code",
   "execution_count": 17,
   "metadata": {},
   "outputs": [
    {
     "name": "stdout",
     "output_type": "stream",
     "text": [
      "The value of the function at x= [0 0]  is f(x)= 1.0  \n",
      " and its Hessian matrix is H(f)(x)= [[3. 0.]\n",
      " [0. 5.]]\n"
     ]
    }
   ],
   "source": [
    "def func5(x):\n",
    "    f = x.item(0)**2 - x.item(0)*x.item(1) + 2*x.item(1)**2 -2*x.item(0) + np.exp(x.item(0)+x.item(1))\n",
    "    g = np.array([[2*x.item(0)-x.item(1) - 2 + np.exp(x.item(0)+x.item(1))],[4*x.item(1) - x.item(0) + np.exp(x.item(0)+x.item(1))]])\n",
    "    h = np.array([[2+np.exp(x.item(0)+x.item(1)),-1+np.exp(x.item(0)+x.item(1))],[-1+np.exp(x.item(0)+x.item(1)),4+np.exp(x.item(0)+x.item(1))]])\n",
    "    return (f,g,h)\n",
    "\n",
    "x5 = np.array([0,0]).T\n",
    "(f5,g5,h5) = func5(x5)\n",
    "print('The value of the function at x=',x5,' is f(x)=',f5,' \\n and its Hessian matrix is H(f)(x)=',h5)"
   ]
  },
  {
   "cell_type": "code",
   "execution_count": 20,
   "metadata": {},
   "outputs": [
    {
     "name": "stdout",
     "output_type": "stream",
     "text": [
      "The curvature in direction d1 at x is  [[4.]] , \n",
      " the one in direction d2 at x is  [[4.]]  \n",
      " and the one in direction d3 in x is  [[4.38461538]]\n"
     ]
    }
   ],
   "source": [
    "d1x5 = - g5\n",
    "\n",
    "curvd1x5 = np.dot(np.dot(d1x5.T,h5),d1x5)/np.dot(d1x5.T,d1x5)\n",
    "curvd2x5 = np.dot(np.dot(d2.T,h5),d2)/np.dot(d2.T,d2)\n",
    "curvd3x5 = np.dot(np.dot(d3.T,h5),d3)/np.dot(d3.T,d3)\n",
    "\n",
    "print('The curvature in direction d1 at x is ',curvd1x5,', \\n the one in direction d2 at x is ',curvd2x5,' \\n and the one in direction d3 in x is ',curvd3x5)"
   ]
  },
  {
   "cell_type": "code",
   "execution_count": null,
   "metadata": {
    "collapsed": true
   },
   "outputs": [],
   "source": []
  }
 ],
 "metadata": {
  "kernelspec": {
   "display_name": "Python 3",
   "language": "python",
   "name": "python3"
  },
  "language_info": {
   "codemirror_mode": {
    "name": "ipython",
    "version": 3
   },
   "file_extension": ".py",
   "mimetype": "text/x-python",
   "name": "python",
   "nbconvert_exporter": "python",
   "pygments_lexer": "ipython3",
   "version": "3.6.1"
  }
 },
 "nbformat": 4,
 "nbformat_minor": 2
}
