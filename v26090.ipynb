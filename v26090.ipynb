{
 "cells": [
  {
   "cell_type": "markdown",
   "metadata": {},
   "source": [
    "# Gomory cuts for integer optimization"
   ]
  },
  {
   "cell_type": "markdown",
   "metadata": {},
   "source": [
    "## [Michel Bierlaire](https://people.epfl.ch/michel.bierlaire), EPFL."
   ]
  },
  {
   "cell_type": "code",
   "execution_count": 1,
   "metadata": {},
   "outputs": [],
   "source": [
    "import numpy as np"
   ]
  },
  {
   "cell_type": "markdown",
   "metadata": {},
   "source": [
    "The cutting plane algorithm for integer optimization relies on the simplex algorithm. For the notebook to be self-contained, we include the code of the algorithm below, so that it can be called by the Gomory cut algorithm."
   ]
  },
  {
   "cell_type": "markdown",
   "metadata": {},
   "source": [
    "# Simplex algorithm"
   ]
  },
  {
   "cell_type": "code",
   "execution_count": 2,
   "metadata": {},
   "outputs": [],
   "source": [
    "def simplexTableau(tableau):\n",
    "    \"\"\"\n",
    "    :param tableau: the first simplex tableau\n",
    "    :type tableau: pandas dataframe\n",
    "    \n",
    "    :return: p, q, opt, bounded  where \n",
    "               - p is the column of the variable that must enter the basis, or None,\n",
    "               - q is the row of the variable that must leave the basis, or None,\n",
    "               - opt is True if the tableau is optimal (in this case, p and q are None)\n",
    "               - bounded is True if basic direction is unbounded (in this case, p and q are None)\n",
    "    :rtype: int, int, bool, bool\n",
    "    \"\"\"\n",
    "    mtab, ntab = tableau.shape\n",
    "    m = mtab - 1\n",
    "    n = ntab - 1\n",
    "\n",
    "    reducedCost = tableau[-1, : -1]\n",
    "    # Identify the negative reduced costs\n",
    "    \n",
    "    negativeReducedCost = reducedCost < -np.finfo(float).eps\n",
    "    if not negativeReducedCost.any():\n",
    "        # The tableau is optimal\n",
    "        return None, None, True, True\n",
    "\n",
    "    # In Python, True is larger than False. The next statement returns the \n",
    "    # index of a True entry in the array, that is the index of a negative reduced cost.\n",
    "    # It is the index of the variable that will enter the basis.\n",
    "    p = np.argmax(negativeReducedCost)\n",
    "\n",
    "    # Calculate the maximum step that can be done along the basic direction d[p]\n",
    "    xb = tableau[:-1, -1]\n",
    "    minusd = tableau[:-1, p]\n",
    "    steps = np.array([xb[k] / minusd[k] if minusd[k] > 0 else np.inf for k in range(m)])\n",
    "    q = np.argmin(steps)            \n",
    "    step = steps[q]\n",
    "    if step == np.inf:\n",
    "        # The tableau is unbounded\n",
    "        return None, None, False, False\n",
    "    else:\n",
    "        return p, q, False, True"
   ]
  },
  {
   "cell_type": "code",
   "execution_count": 3,
   "metadata": {},
   "outputs": [],
   "source": [
    "def pivoting(tableau, p, q):\n",
    "    \"\"\"\n",
    "    :param tableau: valid simplex tableau\n",
    "    :type tableau: numpy.array 2D\n",
    "    \n",
    "    :param p: columns of the pivot\n",
    "    :type p: int\n",
    "    \n",
    "    :param q: row of the pivot\n",
    "    :type q: int\n",
    "    \n",
    "    :return: pivoted tableau\n",
    "    :rtype: numpy.array 2D\n",
    "    \"\"\"\n",
    "    m, n = tableau.shape\n",
    "    if q >= m:\n",
    "        raise Exception(f'The row of the pivot ({q}) must be between 0 and {m-1})')\n",
    "    if p >= n:\n",
    "        raise Exception(f'The column of the pivot ({p}) must be between 0 and {n - 1})')\n",
    "    thepivot = tableau[q][p]\n",
    "    if np.abs(thepivot) < np.finfo(float).eps:\n",
    "        print(f'Tableau: {tableau})')\n",
    "        print(f'Row {q} Col {p}')\n",
    "        raise Exception(f'The pivot is too close to zero: {thepivot}')\n",
    "    thepivotrow = tableau[q, :]\n",
    "    newtableau = np.empty(tableau.shape)\n",
    "    newtableau[q, :] = tableau[q, :] / thepivot\n",
    "    for i in set(range(m)) - {q}:\n",
    "        newtableau[i, :] = tableau[i, :] - tableau[i][p] * thepivotrow / thepivot\n",
    "    return newtableau"
   ]
  },
  {
   "cell_type": "code",
   "execution_count": 4,
   "metadata": {},
   "outputs": [],
   "source": [
    "def prettyTableau(tableau):\n",
    "    m, n = tableau.shape\n",
    "    s = ''\n",
    "    for i in range(m - 1):\n",
    "        formattedRow = ['{:6.2g}' for k in tableau[i, :-1]]\n",
    "        s += '\\t'.join(formattedRow).format(*tableau[i, :-1])\n",
    "        s += f'|{tableau[i, -1]:6.2f}'\n",
    "        s += '\\n'\n",
    "    for i in range(n):\n",
    "        s += '------\\t'\n",
    "    s += '\\n'\n",
    "    formattedRow = ['{:6.2g}' for k in tableau[m - 1, :-1]]\n",
    "    s += '\\t'.join(formattedRow).format(*tableau[m - 1, :-1])\n",
    "    s += f'|{tableau[m - 1,- 1]:6.2f}'\n",
    "    s += '\\n'\n",
    "    \n",
    "    return s"
   ]
  },
  {
   "cell_type": "code",
   "execution_count": 5,
   "metadata": {},
   "outputs": [],
   "source": [
    "def simplexAlgorithmTableau(tableau):\n",
    "    \"\"\"\n",
    "    :param tableau: valid simplex tableau\n",
    "    :type tableau: numpy.array 2D\n",
    "\n",
    "    :return: tableau, optimal, unbounded, where tableau is the tableau from the last iteration,\n",
    "                                          optimal is True if the last tableau is optimal,\n",
    "                                          unbounded is True if the problem is unbounded.\n",
    "    :rtype: numpy.array 2D, bool, bool\n",
    "    \"\"\"\n",
    "    while True:\n",
    "        colPivot, rowPivot, optimal, bounded = simplexTableau(tableau)\n",
    "        if optimal:\n",
    "            return tableau, True, False\n",
    "        if not bounded:\n",
    "            return tableau, False, True\n",
    "        tableau = pivoting(tableau, colPivot, rowPivot)"
   ]
  },
  {
   "cell_type": "code",
   "execution_count": 6,
   "metadata": {},
   "outputs": [],
   "source": [
    "def getRow(tableau, index):\n",
    "    \"\"\"\n",
    "    :param tableau: a valid simplex tableau.\n",
    "    :type tableau: numpy.array 2D\n",
    "    \n",
    "    :param index: the index of the variable\n",
    "    :type index: int\n",
    "    \n",
    "    :return: row index if the variable is basic, None otherwise\n",
    "    :rtype: int\n",
    "    \"\"\"\n",
    "    mtab, ntab = tableau.shape\n",
    "    m = mtab - 1\n",
    "    n = ntab - 1\n",
    "    if index not in range(n):\n",
    "         raise Exception(f'The index of the variable ({index}) must be between 0 and {n-1})')\n",
    "    column = tableau[:, index]\n",
    "    rowIndex = None\n",
    "    for j in range(mtab):\n",
    "        if np.abs(column[j]) > np.sqrt(np.finfo(float).eps):\n",
    "            # The entry is non zero\n",
    "            if rowIndex is None and np.abs(column[j] - 1) <= np.finfo(float).eps:\n",
    "                # The entry is one, and the index has not been found yet.\n",
    "                rowIndex = j\n",
    "            else:\n",
    "                return None\n",
    "    return rowIndex"
   ]
  },
  {
   "cell_type": "code",
   "execution_count": 7,
   "metadata": {},
   "outputs": [],
   "source": [
    "def simplex(A, b, c):\n",
    "    \"\"\"\n",
    "    :param A: m x n matrix of the constraints\n",
    "    :type A: numpy.array 2D\n",
    "    \n",
    "    :param b: m vector, left-hand side of the constraints.\n",
    "    :type b: numpy.array 1D\n",
    "    \n",
    "    :param c: n vector, coefficients of the objective function \n",
    "    :type c: numpy.array 1D\n",
    "\n",
    "    :return: tableau, unbounded, infeasible\n",
    "                where  - tableau is the tableau from the last iteration,\n",
    "                       - unbounded is True if the problem is unbounded,\n",
    "                       - infeasible is True if the problem is infeasible,\n",
    "    :rtype: numpy.array 2D, bool, bool\n",
    "    \"\"\"\n",
    "\n",
    "    m, n = A.shape\n",
    "    if b.shape[0] != m:\n",
    "        raise Exception(f'Incompatible sizes: A is {m}x{n}, b is of length {b.shape[0]}, and should be {m}')\n",
    "    if c.shape[0] != n:\n",
    "        raise Exception(f'Incompatible sizes: A is {m}x{n}, c is of length {c.shape[0]}, and should be {n}')\n",
    "    \n",
    "    # All elements of b must be non negative.\n",
    "    negativeb = np.argwhere(b < 0)\n",
    "    for i in negativeb:\n",
    "        A[i, :] = - A[i, :]\n",
    "        b[i] = - b[i]\n",
    "\n",
    "    # First tableau for the auxiliary problem\n",
    "    tableau = np.empty((m + 1, n + m + 1))\n",
    "    tableau[:m, :n] = A\n",
    "    tableau[:m, n:n + m] = np.eye(m)\n",
    "    tableau[:m, n + m:n + m + 1] = b.reshape(m, 1)\n",
    "    # The last row \n",
    "    tableau[-1, :n] = np.array([-np.sum(tableau[:m, k]) for k in range(n)]).copy()\n",
    "    tableau[-1, n:n + m] = 0.0\n",
    "    tableau[-1, -1] = -np.sum(tableau[:m, -1])\n",
    "    \n",
    "    \n",
    "    # Solve the auxiliary problem\n",
    "    phaseOneTableau, optimal, unbounded = simplexAlgorithmTableau(tableau)\n",
    "\n",
    "    if unbounded:\n",
    "        return tableau, True, False\n",
    "\n",
    "    if phaseOneTableau[-1, -1]  < -np.sqrt(np.finfo(float).eps):\n",
    "        # Infeasible problem\n",
    "        return phaseOneTableau, False, True\n",
    " \n",
    "    # Remove the auxiliary variables from the basis\n",
    "    clean = False\n",
    "    rowsToRemove = []\n",
    "    basicRows = np.array([getRow(phaseOneTableau,k) for k in range(m + n)])\n",
    "    \n",
    "    while not clean:\n",
    "        basicIndices = set(np.where(basicRows != None)[0])\n",
    "        # Check if some auxiliary variables are in the basis\n",
    "        tobeCleaned = set(basicIndices).intersection(set(range(n,n+m))) \n",
    "        if tobeCleaned == set():\n",
    "            clean = True\n",
    "        else:\n",
    "            auxiliaryColumn = tobeCleaned.pop()\n",
    "            rowpivotIndex = basicRows[auxiliaryColumn]\n",
    "            rowpivot = phaseOneTableau[rowpivotIndex,:]\n",
    "            originalNonbasic = list(set(range(n)) - set(basicIndices))\n",
    "            nonzerosPivots = abs(rowpivot[originalNonbasic]) > np.finfo(float).eps\n",
    "            if nonzerosPivots.any():\n",
    "                # It is possible to pivot\n",
    "                colpivot = originalNonbasic[np.argmax(nonzerosPivots)]\n",
    "                phaseOneTableau = pivoting(phaseOneTableau, colpivot, rowpivotIndex)      \n",
    "                basicRows[colpivot] = rowpivotIndex\n",
    "                basicRows[auxiliaryColumn] = None\n",
    "            else:\n",
    "                # It is not possible to pivot. There is a redundant \n",
    "                # constraint to be removed.\n",
    "                rowsToRemove.append(rowpivotIndex)\n",
    "                phaseOneTableau = np.delete(phaseOneTableau,rowsToRemove,0)\n",
    "                basicRows = np.array([getRow(phaseOneTableau,k) for k in range(m + n)])\n",
    "\n",
    "    # Delete columns\n",
    "    startPhaseTwo = np.delete(phaseOneTableau, range(n, n + m), 1)\n",
    "    m -= len(rowsToRemove)\n",
    "    basicRows = np.array([getRow(startPhaseTwo, k) for k in range(n)])\n",
    "    \n",
    "    # Calculate last row\n",
    "    \n",
    "    basicIndices = list(np.where(basicRows != None)[0])\n",
    "    nonbasicIndices = list(np.where(basicRows == None)[0])\n",
    "    cb = c[basicIndices]\n",
    "    for k in nonbasicIndices:\n",
    "        startPhaseTwo[-1, k] = c[k] - np.array([c[j] * startPhaseTwo[basicRows[j], k] for j in basicIndices]).sum()\n",
    "    startPhaseTwo[-1, -1] = - np.array([c[j] * startPhaseTwo[basicRows[j], -1] for j in basicIndices]).sum()\n",
    "\n",
    "    # Phase II\n",
    "    \n",
    "    phaseTwoTableau, optimal, unbounded = simplexAlgorithmTableau(startPhaseTwo)\n",
    "    return phaseTwoTableau, unbounded, False"
   ]
  },
  {
   "cell_type": "code",
   "execution_count": 8,
   "metadata": {},
   "outputs": [],
   "source": [
    "def getResults(finalTableau):\n",
    "    mtab, ntab = finalTableau.shape\n",
    "    m = mtab - 1\n",
    "    n = ntab - 1\n",
    "    basicRows = [getRow(finalTableau, k) for k in range(n)]\n",
    "    solution = [float(finalTableau[basicRows[k], -1]) if basicRows[k] is not None else 0 for k in range(n)] \n",
    "    copt = -finalTableau[-1, -1]\n",
    "    return solution, copt"
   ]
  },
  {
   "cell_type": "code",
   "execution_count": 9,
   "metadata": {},
   "outputs": [],
   "source": [
    "def printResults(res):\n",
    "    finalTableau, unbounded, infeasible = res\n",
    "    if unbounded:\n",
    "        print('Unbounded problem')\n",
    "        return None, None\n",
    "    elif infeasible:\n",
    "        print('Infeasible problem')\n",
    "        return None, None\n",
    "    else:\n",
    "        print(prettyTableau(finalTableau))\n",
    "        solution, copt = getResults(finalTableau)\n",
    "        print(f'Optimal solution: {solution}')\n",
    "        print(f'Optimal value: {copt}')\n",
    "        return solution, copt    "
   ]
  },
  {
   "cell_type": "markdown",
   "metadata": {},
   "source": [
    "# Gomory cut"
   ]
  },
  {
   "cell_type": "markdown",
   "metadata": {},
   "source": [
    "This is Algorithm 26.3 in <a href=\"http://optimizationprinciplesalgorithms.com/\">Bierlaire (2015) Optimization: principles and algorithms, EPFL Press.</a>"
   ]
  },
  {
   "cell_type": "markdown",
   "metadata": {},
   "source": [
    "The following function tests if a real number is actually an integer. "
   ]
  },
  {
   "cell_type": "code",
   "execution_count": 10,
   "metadata": {},
   "outputs": [],
   "source": [
    "def isInteger(x):\n",
    "    # We identify a solution as integer if it does not deviate from its\n",
    "    # rounded version by the square root of the machine epsilon. \n",
    "    return np.abs(x - np.round(x)) <= np.sqrt(np.finfo(float).eps)"
   ]
  },
  {
   "cell_type": "markdown",
   "metadata": {},
   "source": [
    "The following function takes an optimization problem as input, identifies all Gomory cuts and returns an updated problem and an optimal tableau."
   ]
  },
  {
   "cell_type": "code",
   "execution_count": 11,
   "metadata": {},
   "outputs": [],
   "source": [
    "def gomory(A, b, c):\n",
    "    \"\"\"This function solves a linear optimization problem, \n",
    "        identifies the Gomory cuts, and generates the data of a new \n",
    "        problem, including the cuts.\n",
    "        \n",
    "    :param A: matrix A of the constraints\n",
    "    :type A: numpy.array 2D\n",
    "    \n",
    "    :param b: vector right-hand side of the constraint\n",
    "    :type b: numpy.array 1D\n",
    "    \n",
    "    :param c: cost vector of the objective function\n",
    "    :type c: numpy.array 1D\n",
    "    \n",
    "    :return: nGomory, newA, newb, newc, tableau where \n",
    "    \n",
    "         - nGomory, is the number of cuts that have been introduced,\n",
    "         - newA, newb, newc is the data of the new optimization problem,\n",
    "         - tableau is the optimal tableau of the optimization problem.\n",
    "         \n",
    "    :rtype: int, numpy.array 2D, numpy.array 1D, numpy.array 1D, numpy.array 2D\n",
    "    \n",
    "    \"\"\"\n",
    "    m, n = A.shape\n",
    "    print('==================================')\n",
    "    print(f'Problem with {n} variables and {m} constraints')\n",
    "    tableau, unbounded, infeasible = simplex(A, b, c)\n",
    "    solution, copt = getResults(tableau)\n",
    "    print(f'Solution: {solution} [{copt}]')\n",
    "    if unbounded:\n",
    "        print('Unbounded problem')\n",
    "        return 0, None, None, None, None\n",
    "    if infeasible:\n",
    "        print('Infeasible')\n",
    "        return 0, None, None, None, None\n",
    "    lastColumn = tableau[:, -1]\n",
    "    fractionalRows = np.nonzero(np.logical_not(isInteger(lastColumn[:-1])))[0]\n",
    "    # Additional rows for the Gomory cut\n",
    "    nGomory = len(fractionalRows)\n",
    "    gamma = np.floor(tableau[fractionalRows, :-1])\n",
    "    bplus = np.floor(tableau[fractionalRows, -1])\n",
    "    # Build the new matrices and vectors\n",
    "    newA = np.concatenate((A, np.zeros((m, nGomory))), 1)\n",
    "    newRows = np.concatenate((gamma, np.eye(nGomory)), 1)\n",
    "    newA = np.concatenate((newA, newRows))\n",
    "    newb = np.concatenate((b, bplus))\n",
    "    newc = np.concatenate((c, np.zeros((nGomory))))\n",
    "    print(f'Number of Gomory cuts: {nGomory}')\n",
    "    return nGomory, newA, newb, newc, tableau\n",
    "    "
   ]
  },
  {
   "cell_type": "markdown",
   "metadata": {},
   "source": [
    "We keep on adding Gomory cuts until we obtain an integer solution."
   ]
  },
  {
   "cell_type": "code",
   "execution_count": 12,
   "metadata": {},
   "outputs": [],
   "source": [
    "def gomoryAlgorithm(A, b, c):\n",
    "    nGomory = None\n",
    "    while nGomory != 0:\n",
    "        nGomory, A, b, c, tableau = gomory(A, b, c)\n",
    "    return tableau"
   ]
  },
  {
   "cell_type": "markdown",
   "metadata": {},
   "source": [
    "# Example 1"
   ]
  },
  {
   "cell_type": "markdown",
   "metadata": {},
   "source": [
    "$$ \\min x_1 -2 x_2 $$ subject to $$\n",
    "\\begin{array}{rcl}\n",
    "-4 x_1 + 6 x_2 & \\leq 5, \\\\\n",
    "x_1 + x_2 & \\leq 5, \\\\\n",
    "x_1, x_2 & \\in \\mathbb{N}.\n",
    "\\end{array}\n",
    "$$"
   ]
  },
  {
   "cell_type": "code",
   "execution_count": 13,
   "metadata": {},
   "outputs": [],
   "source": [
    "A = np.array([[-4, 6, 1, 0], [1, 1, 0, 1]])\n",
    "b = np.array([5, 5])\n",
    "c = np.array([1, -2, 0, 0])"
   ]
  },
  {
   "cell_type": "code",
   "execution_count": 14,
   "metadata": {},
   "outputs": [
    {
     "name": "stdout",
     "output_type": "stream",
     "text": [
      "==================================\n",
      "Problem with 4 variables and 2 constraints\n",
      "Solution: [2.5000000000000004, 2.5, 0, 0] [-2.4999999999999996]\n",
      "Number of Gomory cuts: 2\n",
      "==================================\n",
      "Problem with 6 variables and 4 constraints\n",
      "Solution: [1.7499999999999998, 2.0, 0, 1.2500000000000009, 0, 0.2500000000000002] [-2.25]\n",
      "Number of Gomory cuts: 3\n",
      "==================================\n",
      "Problem with 9 variables and 7 constraints\n",
      "Solution: [1.9999999999999964, 1.9999999999999978, 0.9999999999999991, 1.0000000000000067, 2.220446049250309e-15, 1.0000000000000022, 0, 0, 2.2204460492502934e-16] [-1.9999999999999991]\n",
      "Number of Gomory cuts: 0\n"
     ]
    }
   ],
   "source": [
    "t = gomoryAlgorithm(A, b, c)\n",
    "solution, copt = getResults(t)"
   ]
  },
  {
   "cell_type": "code",
   "execution_count": 15,
   "metadata": {},
   "outputs": [
    {
     "data": {
      "text/plain": [
       "([1.9999999999999964,\n",
       "  1.9999999999999978,\n",
       "  0.9999999999999991,\n",
       "  1.0000000000000067,\n",
       "  2.220446049250309e-15,\n",
       "  1.0000000000000022,\n",
       "  0,\n",
       "  0,\n",
       "  2.2204460492502934e-16],\n",
       " -1.9999999999999991)"
      ]
     },
     "execution_count": 15,
     "metadata": {},
     "output_type": "execute_result"
    }
   ],
   "source": [
    "solution, copt"
   ]
  },
  {
   "cell_type": "markdown",
   "metadata": {},
   "source": [
    "Solution: $x_1 = 2$, $x_2 = 2$. Optimal value: $-2$."
   ]
  },
  {
   "cell_type": "markdown",
   "metadata": {},
   "source": [
    "# Example 2"
   ]
  },
  {
   "cell_type": "markdown",
   "metadata": {},
   "source": [
    "$$ \\min -3 x_1 - 13x_2 $$ subject to $$\n",
    "\\begin{array}{rcl}\n",
    "2 x_1 + 9 x_2 & \\leq 29, \\\\\n",
    "11 x_1 - 8 x_2 & \\leq 79, \\\\\n",
    "x_1, x_2 & \\in \\mathbb{N}.\n",
    "\\end{array}\n",
    "$$"
   ]
  },
  {
   "cell_type": "code",
   "execution_count": 16,
   "metadata": {},
   "outputs": [],
   "source": [
    "A = np.array([[2, 9, 1, 0], [11, -8, 0, 1]])\n",
    "b = np.array([29, 79])\n",
    "c = np.array([-3, -13, 0, 0])"
   ]
  },
  {
   "cell_type": "code",
   "execution_count": 17,
   "metadata": {},
   "outputs": [
    {
     "name": "stdout",
     "output_type": "stream",
     "text": [
      "==================================\n",
      "Problem with 4 variables and 2 constraints\n",
      "Solution: [8.2, 1.4, 0, 0] [-42.8]\n",
      "Number of Gomory cuts: 2\n",
      "==================================\n",
      "Problem with 6 variables and 4 constraints\n",
      "Solution: [8.0, 1.4444444444444438, 0, 2.555555555555546, 2.111111111111102, 0] [-42.77777777777777]\n",
      "Number of Gomory cuts: 3\n",
      "==================================\n",
      "Problem with 9 variables and 7 constraints\n",
      "Solution: [5.500000000000092, 1.9999999999999782, 0, 34.499999999998806, 33.49999999999882, 2.499999999999908, 0.9999999999999778, 1.4999999999999294, 0] [-42.5]\n",
      "Number of Gomory cuts: 5\n",
      "==================================\n",
      "Problem with 14 variables and 12 constraints\n",
      "Solution: [1.0000000000074172, 2.999999999998162, 1.5045742429720344e-12, 16.000000000000256, 89.99999999990588, 6.999999999992596, 2.9999999999980336, 4.999999999994401, 0.9999999999997475, 0, 0, 0, 0, 89.9999999999074] [-41.99999999999858]\n",
      "Number of Gomory cuts: 0\n"
     ]
    }
   ],
   "source": [
    "t = gomoryAlgorithm(A, b, c)\n",
    "solution, copt = getResults(t)"
   ]
  },
  {
   "cell_type": "code",
   "execution_count": 18,
   "metadata": {},
   "outputs": [
    {
     "data": {
      "text/plain": [
       "([1.0000000000074172,\n",
       "  2.999999999998162,\n",
       "  1.5045742429720344e-12,\n",
       "  16.000000000000256,\n",
       "  89.99999999990588,\n",
       "  6.999999999992596,\n",
       "  2.9999999999980336,\n",
       "  4.999999999994401,\n",
       "  0.9999999999997475,\n",
       "  0,\n",
       "  0,\n",
       "  0,\n",
       "  0,\n",
       "  89.9999999999074],\n",
       " -41.99999999999858)"
      ]
     },
     "execution_count": 18,
     "metadata": {},
     "output_type": "execute_result"
    }
   ],
   "source": [
    "solution, copt"
   ]
  },
  {
   "cell_type": "markdown",
   "metadata": {},
   "source": [
    "Solution: $x_1 = 1$, $x_2=3$. Optimal value: $-42$."
   ]
  },
  {
   "cell_type": "markdown",
   "metadata": {},
   "source": [
    "# Example 3"
   ]
  },
  {
   "cell_type": "markdown",
   "metadata": {},
   "source": [
    "$$ \\min -13 x_1 - 8 x_2 $$ \n",
    "subject to $$ \n",
    "\\begin{array}{rcl}\n",
    "x_1 + 2 x_2 & \\leq 10, \\\\\n",
    "5 x_1 + 2 x_2 & \\leq 20, \\\\\n",
    "x_1, x_2 & \\in \\mathbb{N}.\n",
    "\\end{array}\n",
    "$$"
   ]
  },
  {
   "cell_type": "code",
   "execution_count": 19,
   "metadata": {},
   "outputs": [],
   "source": [
    "A = np.array([[1, 2, 1, 0], [5, 2, 0, 1]])\n",
    "b = np.array([10, 20])\n",
    "c = np.array([-13, -8, 0, 0])"
   ]
  },
  {
   "cell_type": "code",
   "execution_count": 20,
   "metadata": {},
   "outputs": [
    {
     "name": "stdout",
     "output_type": "stream",
     "text": [
      "==================================\n",
      "Problem with 4 variables and 2 constraints\n",
      "Solution: [2.5, 3.75, 0, 0] [-62.5]\n",
      "Number of Gomory cuts: 2\n",
      "==================================\n",
      "Problem with 6 variables and 4 constraints\n",
      "Solution: [2.2857142857142856, 3.8571428571428577, 0, 0.8571428571428574, 0, 3.571428571428572] [-60.57142857142858]\n",
      "Number of Gomory cuts: 4\n",
      "==================================\n",
      "Problem with 10 variables and 8 constraints\n",
      "Solution: [3.0, 2.4999999999999982, 2.000000000000002, 0, 0.5000000000000004, 3.5000000000000013, 1.0000000000000036, 1.0000000000000036, 0, 1.0000000000000027] [-58.99999999999999]\n",
      "Number of Gomory cuts: 3\n",
      "==================================\n",
      "Problem with 13 variables and 11 constraints\n",
      "Solution: [2.0, 3.9999999999999996, 2.6645352591003757e-15, 2.0, 1.0000000000000018, 4.000000000000001, 0, 0.0, 6.661338147750939e-16, 8.881784197001252e-16, 1.0000000000000004, 1.0000000000000009, 0] [-57.99999999999999]\n",
      "Number of Gomory cuts: 0\n"
     ]
    }
   ],
   "source": [
    "t = gomoryAlgorithm(A, b, c)\n",
    "solution, copt = getResults(t)"
   ]
  },
  {
   "cell_type": "code",
   "execution_count": 21,
   "metadata": {},
   "outputs": [
    {
     "data": {
      "text/plain": [
       "([2.0,\n",
       "  3.9999999999999996,\n",
       "  2.6645352591003757e-15,\n",
       "  2.0,\n",
       "  1.0000000000000018,\n",
       "  4.000000000000001,\n",
       "  0,\n",
       "  0.0,\n",
       "  6.661338147750939e-16,\n",
       "  8.881784197001252e-16,\n",
       "  1.0000000000000004,\n",
       "  1.0000000000000009,\n",
       "  0],\n",
       " -57.99999999999999)"
      ]
     },
     "execution_count": 21,
     "metadata": {},
     "output_type": "execute_result"
    }
   ],
   "source": [
    "solution, copt"
   ]
  },
  {
   "cell_type": "markdown",
   "metadata": {},
   "source": [
    "Solution: $x_1=2$, $x_2=4$. Optimal value: $-58$."
   ]
  },
  {
   "cell_type": "markdown",
   "metadata": {},
   "source": [
    "# Example 4"
   ]
  },
  {
   "cell_type": "markdown",
   "metadata": {},
   "source": [
    "$$ \\min -4 x_1 + 6 x_2 $$ subject to $$\n",
    "\\begin{array}{rcl}\n",
    "-4 x_1 + 6 x_2 & \\leq 5, \\\\\n",
    "x_1 + x_2 & \\leq 5, \\\\\n",
    "x_1, x_2 & \\in \\mathbb{N}.\n",
    "\\end{array}\n",
    "$$"
   ]
  },
  {
   "cell_type": "code",
   "execution_count": 22,
   "metadata": {},
   "outputs": [],
   "source": [
    "A = np.array([[-4, 6, 1, 0], [1, 1, 0, 1]])\n",
    "b = np.array([5, 5])\n",
    "c = np.array([1, -2, 0, 0])"
   ]
  },
  {
   "cell_type": "code",
   "execution_count": 23,
   "metadata": {},
   "outputs": [
    {
     "name": "stdout",
     "output_type": "stream",
     "text": [
      "==================================\n",
      "Problem with 4 variables and 2 constraints\n",
      "Solution: [2.5000000000000004, 2.5, 0, 0] [-2.4999999999999996]\n",
      "Number of Gomory cuts: 2\n",
      "==================================\n",
      "Problem with 6 variables and 4 constraints\n",
      "Solution: [1.7499999999999998, 2.0, 0, 1.2500000000000009, 0, 0.2500000000000002] [-2.25]\n",
      "Number of Gomory cuts: 3\n",
      "==================================\n",
      "Problem with 9 variables and 7 constraints\n",
      "Solution: [1.9999999999999964, 1.9999999999999978, 0.9999999999999991, 1.0000000000000067, 2.220446049250309e-15, 1.0000000000000022, 0, 0, 2.2204460492502934e-16] [-1.9999999999999991]\n",
      "Number of Gomory cuts: 0\n"
     ]
    }
   ],
   "source": [
    "t = gomoryAlgorithm(A, b, c)\n",
    "solution, copt = getResults(t)"
   ]
  },
  {
   "cell_type": "code",
   "execution_count": 24,
   "metadata": {},
   "outputs": [
    {
     "data": {
      "text/plain": [
       "([1.9999999999999964,\n",
       "  1.9999999999999978,\n",
       "  0.9999999999999991,\n",
       "  1.0000000000000067,\n",
       "  2.220446049250309e-15,\n",
       "  1.0000000000000022,\n",
       "  0,\n",
       "  0,\n",
       "  2.2204460492502934e-16],\n",
       " -1.9999999999999991)"
      ]
     },
     "execution_count": 24,
     "metadata": {},
     "output_type": "execute_result"
    }
   ],
   "source": [
    "solution, copt"
   ]
  },
  {
   "cell_type": "markdown",
   "metadata": {},
   "source": [
    "Solution: $x_1=2$, $x_2=2$. Optimal value: $-2$. "
   ]
  },
  {
   "cell_type": "markdown",
   "metadata": {},
   "source": [
    "# Example 5"
   ]
  },
  {
   "cell_type": "markdown",
   "metadata": {},
   "source": [
    "$$ \\min 2 x_1 + 3 x_2 $$ subject to $$\n",
    "\\begin{array}{rcl}\n",
    "2 x_1 + x_2 \\geq 6, \\\\\n",
    "x_1 + 3 x_2 \\geq 7, \\\\\n",
    "x_1, x_2 & \\in \\mathbb{N}.\n",
    "\\end{array}\n",
    "$$"
   ]
  },
  {
   "cell_type": "code",
   "execution_count": 25,
   "metadata": {},
   "outputs": [],
   "source": [
    "A = np.array([[2, 1, -1, 0], [1, 3, 0, -1]])\n",
    "b = np.array([6, 7])\n",
    "c = np.array([2, 3, 0, 0])"
   ]
  },
  {
   "cell_type": "code",
   "execution_count": 26,
   "metadata": {},
   "outputs": [
    {
     "name": "stdout",
     "output_type": "stream",
     "text": [
      "==================================\n",
      "Problem with 4 variables and 2 constraints\n",
      "Solution: [2.2, 1.6, 0, 0] [9.200000000000001]\n",
      "Number of Gomory cuts: 2\n",
      "==================================\n",
      "Problem with 6 variables and 4 constraints\n",
      "Solution: [2.0, 2.0, 0, 1.0, 0.0, 0] [10.0]\n",
      "Number of Gomory cuts: 0\n"
     ]
    }
   ],
   "source": [
    "t = gomoryAlgorithm(A, b, c)\n",
    "solution, copt = getResults(t)"
   ]
  },
  {
   "cell_type": "code",
   "execution_count": 27,
   "metadata": {},
   "outputs": [
    {
     "data": {
      "text/plain": [
       "([2.0, 2.0, 0, 1.0, 0.0, 0], 10.0)"
      ]
     },
     "execution_count": 27,
     "metadata": {},
     "output_type": "execute_result"
    }
   ],
   "source": [
    "solution, copt"
   ]
  },
  {
   "cell_type": "markdown",
   "metadata": {},
   "source": [
    "Solution: $x_1 = 2$, $x_2 = 2$. Optimal value: $10$."
   ]
  },
  {
   "cell_type": "markdown",
   "metadata": {},
   "source": [
    "# Example 6"
   ]
  },
  {
   "cell_type": "markdown",
   "metadata": {},
   "source": [
    "$$ \\max 8 x_1 + 5 x_2 $$ subject to $$\n",
    "\\begin{array}{rcl}\n",
    "x_1 + x_2 & \\leq 6, \\\\\n",
    "9 x_1 + 5 x_2 & \\leq 45,\\\\\n",
    "x_1, x_2 & \\in \\mathbb{N}.\n",
    "\\end{array}\n",
    "$$"
   ]
  },
  {
   "cell_type": "code",
   "execution_count": 28,
   "metadata": {},
   "outputs": [],
   "source": [
    "A = np.array([[1, 1, 1, 0], [9, 5, 0, 1]])\n",
    "b = np.array([6, 45])\n",
    "c = np.array([-8, -5, 0, 0])"
   ]
  },
  {
   "cell_type": "code",
   "execution_count": 29,
   "metadata": {},
   "outputs": [
    {
     "name": "stdout",
     "output_type": "stream",
     "text": [
      "==================================\n",
      "Problem with 4 variables and 2 constraints\n",
      "Solution: [3.75, 2.25, 0, 0] [-41.25]\n",
      "Number of Gomory cuts: 2\n",
      "==================================\n",
      "Problem with 6 variables and 4 constraints\n",
      "Solution: [5.0, 0.0, 1.0, 0, 0.0, 0] [-40.0]\n",
      "Number of Gomory cuts: 0\n"
     ]
    }
   ],
   "source": [
    "t = gomoryAlgorithm(A, b, c)\n",
    "solution, copt = getResults(t)"
   ]
  },
  {
   "cell_type": "code",
   "execution_count": 30,
   "metadata": {},
   "outputs": [
    {
     "data": {
      "text/plain": [
       "([5.0, 0.0, 1.0, 0, 0.0, 0], -40.0)"
      ]
     },
     "execution_count": 30,
     "metadata": {},
     "output_type": "execute_result"
    }
   ],
   "source": [
    "solution, copt"
   ]
  },
  {
   "cell_type": "markdown",
   "metadata": {},
   "source": [
    "Solution: $x_1=5$, $x_2=0$. Optimal value: $-40$ for minimization, $40$ for maximization."
   ]
  }
 ],
 "metadata": {
  "kernelspec": {
   "display_name": "Python 3",
   "language": "python",
   "name": "python3"
  },
  "language_info": {
   "codemirror_mode": {
    "name": "ipython",
    "version": 3
   },
   "file_extension": ".py",
   "mimetype": "text/x-python",
   "name": "python",
   "nbconvert_exporter": "python",
   "pygments_lexer": "ipython3",
   "version": "3.8.0"
  }
 },
 "nbformat": 4,
 "nbformat_minor": 4
}
