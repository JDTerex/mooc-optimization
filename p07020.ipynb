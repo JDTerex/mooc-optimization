{
 "cells": [
  {
   "cell_type": "markdown",
   "metadata": {},
   "source": [
    "We implement Newton's method to find a root of one equation with one unknown. This is Algorithm 7.2 in <a href=\"http://optimizationprinciplesalgorithms.com/\">Bierlaire (2015) Optimization: principles and algorithms, EPFL Press.</a>"
   ]
  },
  {
   "cell_type": "code",
   "execution_count": 1,
   "metadata": {},
   "outputs": [],
   "source": [
    "import numpy as np\n",
    "def newtonEquationOneVariable(fct, x0, eps, maxiters=100): \n",
    "    \"\"\"\n",
    "    :param fct: function that returns the value of the function and its derivative\n",
    "    :type fct: function\n",
    "    \n",
    "    :param x0: starting point for the algorithm. \n",
    "    :type x0: numpy.array\n",
    "    \n",
    "    :param eps: precision to reach.\n",
    "    :type eps: float.\n",
    "    \n",
    "    :param maxiters: maximum number of iterations. Default: 100.\n",
    "    :type maxiters: int\n",
    "    \n",
    "    :return: x, message, where x is solution found, or None is unsuccessful,\n",
    "                         and message the reason why it stopped. \n",
    "    \"\"\"\n",
    "    k = 0\n",
    "    x = x0\n",
    "    f, g = fct(x)\n",
    "    while np.abs(f) > eps and k <= maxiters:\n",
    "        print(f\"Iteration {k}: x_{k} = {x} f(x_{k}) = f f'(x_{k})={g}\")\n",
    "        k += 1\n",
    "        # The method fails if the derivative is too close to zero\n",
    "        if g == 0.0:\n",
    "            return None, 'Division by zero'\n",
    "        try:    \n",
    "            x = x - f / g\n",
    "        except:\n",
    "            message = f'Numerical issue encountered in iteration {k}'\n",
    "            return x, message\n",
    "        f, g = fct(x)\n",
    "\n",
    "    if np.abs(f) <= eps:\n",
    "        return x, f'Required precision has been reached: {np.abs(f)} <= {eps}'\n",
    "    else:\n",
    "        return None, f'Maximum number of iterations reached: {maxiters}'\n"
   ]
  },
  {
   "cell_type": "markdown",
   "metadata": {},
   "source": [
    "Take the equation \\\\[F(x)=x^2-2=0.\\\\]\n"
   ]
  },
  {
   "cell_type": "markdown",
   "metadata": {},
   "source": [
    "We have $F'(x)=2x$. We apply Newton's method with $x_0=2$ and $\\varepsilon = 10^{-15}$."
   ]
  },
  {
   "cell_type": "code",
   "execution_count": 2,
   "metadata": {},
   "outputs": [
    {
     "name": "stdout",
     "output_type": "stream",
     "text": [
      "Iteration 0: x_0 = 2 f(x_0) = f f'(x_0)=4\n",
      "Iteration 1: x_1 = 1.5 f(x_1) = f f'(x_1)=3.0\n",
      "Iteration 2: x_2 = 1.4166666666666667 f(x_2) = f f'(x_2)=2.8333333333333335\n",
      "Iteration 3: x_3 = 1.4142156862745099 f(x_3) = f f'(x_3)=2.8284313725490198\n",
      "Iteration 4: x_4 = 1.4142135623746899 f(x_4) = f f'(x_4)=2.8284271247493797\n"
     ]
    }
   ],
   "source": [
    "def f(x):\n",
    "    return x**2 - 2, 2*x\n",
    "x0 = 2\n",
    "eps = 10**(-15)\n",
    "x, message = newtonEquationOneVariable(f,x0,eps)\n"
   ]
  },
  {
   "cell_type": "code",
   "execution_count": 3,
   "metadata": {},
   "outputs": [
    {
     "name": "stdout",
     "output_type": "stream",
     "text": [
      "Solution: 1.4142135623730951 Diagnostic: Required precision has been reached: 4.440892098500626e-16 <= 1e-15\n"
     ]
    }
   ],
   "source": [
    "print(f'Solution: {x} Diagnostic: {message}')"
   ]
  },
  {
   "cell_type": "markdown",
   "metadata": {},
   "source": [
    "According to that example, Newton's method seems quite fast, as only 5 iterations were necessary to converge. However, we illustrate by other examples that the method does not always work as well."
   ]
  },
  {
   "cell_type": "markdown",
   "metadata": {},
   "source": [
    "Take the equation \\\\[F(x) = x - \\sin(x) = 0.\\\\]"
   ]
  },
  {
   "cell_type": "markdown",
   "metadata": {},
   "source": [
    "We have $F'(x) = 1-\\cos(x)$. We apply Newton's method with $x_0=1$ and $\\varepsilon = 10^{-15}$."
   ]
  },
  {
   "cell_type": "code",
   "execution_count": 4,
   "metadata": {},
   "outputs": [
    {
     "name": "stdout",
     "output_type": "stream",
     "text": [
      "Iteration 0: x_0 = 1 f(x_0) = f f'(x_0)=0.45969769413186023\n",
      "Iteration 1: x_1 = 0.6551450720424304 f(x_1) = f f'(x_1)=0.2070404522188285\n",
      "Iteration 2: x_2 = 0.43359036836349285 f(x_2) = f f'(x_2)=0.09253682546673025\n",
      "Iteration 3: x_3 = 0.2881484008925013 f(x_3) = f f'(x_3)=0.041228298535459174\n",
      "Iteration 4: x_4 = 0.19183231215063873 f(x_4) = f f'(x_4)=0.018343461611362577\n",
      "Iteration 5: x_5 = 0.12780966756070838 f(x_5) = f f'(x_5)=0.008156543180431908\n",
      "Iteration 6: x_6 = 0.08518323360286417 f(x_6) = f f'(x_6)=0.003625898332586197\n",
      "Iteration 7: x_7 = 0.05678195278661648 f(x_7) = f f'(x_7)=0.001611661985920665\n",
      "Iteration 8: x_8 = 0.03785260078110906 f(x_8) = f f'(x_8)=0.0007163241565576461\n",
      "Iteration 9: x_9 = 0.02523446453500694 f(x_9) = f f'(x_9)=0.0003183722052729765\n",
      "Iteration 10: x_10 = 0.016822797810868144 f(x_10) = f f'(x_10)=0.00014149992592860094\n",
      "Iteration 11: x_11 = 0.011215145640484078 f(x_11) = f f'(x_11)=6.288908668472537e-05\n",
      "Iteration 12: x_12 = 0.007476748086530603 f(x_12) = f f'(x_12)=2.7950750766336796e-05\n",
      "Iteration 13: x_13 = 0.004984494080308925 f(x_13) = f f'(x_13)=1.242256489819571e-05\n",
      "Iteration 14: x_14 = 0.003322994677543406 f(x_14) = f f'(x_14)=5.521141733022539e-06\n",
      "Iteration 15: x_15 = 0.0022153293773660102 f(x_15) = f f'(x_15)=2.4538411215191402e-06\n",
      "Iteration 16: x_16 = 0.0014768861307234752 f(x_16) = f f'(x_16)=1.0905961232987593e-06\n",
      "Iteration 17: x_17 = 0.0009845907180112074 f(x_17) = f f'(x_17)=4.847094018378684e-07\n",
      "Iteration 18: x_18 = 0.0006563938012066849 f(x_18) = f f'(x_18)=2.1542640338267915e-07\n",
      "Iteration 19: x_19 = 0.00043759586408548083 f(x_19) = f f'(x_19)=9.574506865117627e-08\n",
      "Iteration 20: x_20 = 0.0002917305751028604 f(x_20) = f f'(x_20)=4.255336394365372e-08\n",
      "Iteration 21: x_21 = 0.00019448704938714912 f(x_21) = f f'(x_21)=1.8912606147836186e-08\n",
      "Iteration 22: x_22 = 0.0001296580323396044 f(x_22) = f f'(x_22)=8.40560265835677e-09\n",
      "Iteration 23: x_23 = 8.643868929100653e-05 f(x_23) = f f'(x_23)=3.735823539408045e-09\n",
      "Iteration 24: x_24 = 5.762579470310685e-05 f(x_24) = f f'(x_24)=1.6603660668579323e-09\n",
      "Iteration 25: x_25 = 3.8417196614694586e-05 f(x_25) = f f'(x_25)=7.379404864948924e-10\n",
      "Iteration 26: x_26 = 2.56114681708093e-05 f(x_26) = f f'(x_26)=3.279736482397766e-10\n"
     ]
    }
   ],
   "source": [
    "def f(x):\n",
    "    return x - np.sin(x), 1 - np.cos(x)\n",
    "x0 = 1\n",
    "eps = 10**(-15)\n",
    "x, message = newtonEquationOneVariable(f,x0,eps)"
   ]
  },
  {
   "cell_type": "code",
   "execution_count": 5,
   "metadata": {},
   "outputs": [
    {
     "name": "stdout",
     "output_type": "stream",
     "text": [
      "Solution: 1.7074311939305688e-05 Diagnostic: Required precision has been reached: 8.296179498587519e-16 <= 1e-15\n"
     ]
    }
   ],
   "source": [
    "print(f'Solution: {x} Diagnostic: {message}')"
   ]
  },
  {
   "cell_type": "markdown",
   "metadata": {},
   "source": [
    "Here, the method needs more iterations before converging than in the previous example (27 versus 5). Note that the solution of that equation is $x^*=0$. However, the derivative $F'(x)$ is getting closer and closer to 0 as the iterations proceed. As Newton's method divides by $F'(x_k)$ at each iteration, the fact that $F'(x^*)=0$ is the source of the slow behavior of the method."
   ]
  },
  {
   "cell_type": "markdown",
   "metadata": {},
   "source": [
    "Take the equation \\\\[F(x) = \\arctan(x) = 0.\\\\]"
   ]
  },
  {
   "cell_type": "markdown",
   "metadata": {},
   "source": [
    "We have $F'(x) = \\frac{1}{1+x^2}$. We apply Newton's method with $x_0=1.5$ and $\\varepsilon = 10^{-15}$."
   ]
  },
  {
   "cell_type": "code",
   "execution_count": 6,
   "metadata": {},
   "outputs": [
    {
     "name": "stdout",
     "output_type": "stream",
     "text": [
      "Iteration 0: x_0 = 1.5 f(x_0) = f f'(x_0)=0.3076923076923077\n",
      "Iteration 1: x_1 = -1.6940796005538195 f(x_1) = f f'(x_1)=0.25840422979959865\n",
      "Iteration 2: x_2 = 2.321126961438388 f(x_2) = f f'(x_2)=0.15655257770108813\n",
      "Iteration 3: x_3 = -5.1140878367775136 f(x_3) = f f'(x_3)=0.03682713003097605\n",
      "Iteration 4: x_4 = 32.29568391421001 f(x_4) = f f'(x_4)=0.0009578441308788569\n",
      "Iteration 5: x_5 = -1575.3169508212038 f(x_5) = f f'(x_5)=4.0296185091473353e-07\n",
      "Iteration 6: x_6 = 3894976.007760882 f(x_6) = f f'(x_6)=6.591593643938825e-14\n",
      "Iteration 7: x_7 = -23830288973552.098 f(x_7) = f f'(x_7)=1.7609271215949348e-27\n",
      "Iteration 8: x_8 = 8.920280161123796e+26 f(x_8) = f f'(x_8)=1.2567329759343525e-54\n",
      "Iteration 9: x_9 = -1.2499045993657045e+54 f(x_9) = f f'(x_9)=6.400977014343109e-109\n",
      "Iteration 10: x_10 = 2.4539946374984715e+108 f(x_10) = f f'(x_10)=1.6605531518011595e-217\n",
      "Iteration 11: x_11 = -9.459476350342017e+216 f(x_11) = f f'(x_11)=0.0\n"
     ]
    },
    {
     "name": "stderr",
     "output_type": "stream",
     "text": [
      "<ipython-input-6-1442c1b7dfaa>:2: RuntimeWarning: overflow encountered in double_scalars\n",
      "  return np.arctan(x), 1/(1+x**2)\n"
     ]
    }
   ],
   "source": [
    "def f(x):\n",
    "    return np.arctan(x), 1/(1+x**2)\n",
    "x0 = 1.5\n",
    "eps = 10**(-15)\n",
    "x, message = newtonEquationOneVariable(f,x0,eps)"
   ]
  },
  {
   "cell_type": "code",
   "execution_count": 7,
   "metadata": {},
   "outputs": [
    {
     "name": "stdout",
     "output_type": "stream",
     "text": [
      "Solution: None Diagnostic: Division by zero\n"
     ]
    }
   ],
   "source": [
    "print(f'Solution: {x} Diagnostic: {message}')"
   ]
  }
 ],
 "metadata": {
  "kernelspec": {
   "display_name": "Python 3",
   "language": "python",
   "name": "python3"
  },
  "language_info": {
   "codemirror_mode": {
    "name": "ipython",
    "version": 3
   },
   "file_extension": ".py",
   "mimetype": "text/x-python",
   "name": "python",
   "nbconvert_exporter": "python",
   "pygments_lexer": "ipython3",
   "version": "3.8.0"
  }
 },
 "nbformat": 4,
 "nbformat_minor": 2
}
