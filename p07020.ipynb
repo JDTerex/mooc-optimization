{
 "cells": [
  {
   "cell_type": "markdown",
   "metadata": {},
   "source": [
    "# Solving equations: Newton for one variable"
   ]
  },
  {
   "cell_type": "markdown",
   "metadata": {},
   "source": [
    "## [Michel Bierlaire](https://people.epfl.ch/michel.bierlaire), EPFL."
   ]
  },
  {
   "cell_type": "markdown",
   "metadata": {},
   "source": [
    "We implement Newton's method to find a root of one equation with one unknown. This is Algorithm 7.2 in <a href=\"http://optimizationprinciplesalgorithms.com/\">Bierlaire (2015) Optimization: principles and algorithms, EPFL Press.</a>"
   ]
  },
  {
   "cell_type": "code",
   "execution_count": 1,
   "metadata": {},
   "outputs": [],
   "source": [
    "import numpy as np"
   ]
  },
  {
   "cell_type": "code",
   "execution_count": 2,
   "metadata": {},
   "outputs": [],
   "source": [
    "def newtonEquationOneVariable(fct, x0, eps, maxiters = 100): \n",
    "    \"\"\"\n",
    "    :param fct: function that returns the value of the function and its derivative\n",
    "    :type fct: function\n",
    "    \n",
    "    :param x0: starting point for the algorithm. \n",
    "    :type x0: numpy.array\n",
    "    \n",
    "    :param eps: precision to reach.\n",
    "    :type eps: float.\n",
    "    \n",
    "    :param maxiters: maximum number of iterations. Default: 100.\n",
    "    :type maxiters: int\n",
    "    \n",
    "    :return: x, message, where x is solution found, or None is unsuccessful,\n",
    "                         and message the reason why it stopped. \n",
    "    \"\"\"\n",
    "    k = 0\n",
    "    x = x0\n",
    "    f, g = fct(x)\n",
    "    while np.abs(f) > eps and k <= maxiters:\n",
    "        print(f\"Iteration {k}: x_{k} = {x:.4g} f(x_{k}) = {f:.4g} f'(x_{k})={g:.4g}\")\n",
    "        k += 1\n",
    "        # The method fails if the derivative is too close to zero\n",
    "        if g == 0.0:\n",
    "            return None, 'Division by zero'\n",
    "        try:    \n",
    "            x = x - f / g\n",
    "        except:\n",
    "            message = f'Numerical issue encountered in iteration {k}'\n",
    "            return x, message\n",
    "        f, g = fct(x)\n",
    "\n",
    "    if np.abs(f) <= eps:\n",
    "        return x, f'Required precision has been reached: {np.abs(f)} <= {eps}'\n",
    "    else:\n",
    "        return None, f'Maximum number of iterations reached: {maxiters}'\n"
   ]
  },
  {
   "cell_type": "markdown",
   "metadata": {},
   "source": [
    "Take the equation \\\\[F(x)=x^2-2=0.\\\\]\n"
   ]
  },
  {
   "cell_type": "markdown",
   "metadata": {},
   "source": [
    "We have $F'(x)=2x$. We apply Newton's method with $x_0=2$ and $\\varepsilon = 10^{-15}$."
   ]
  },
  {
   "cell_type": "code",
   "execution_count": 3,
   "metadata": {},
   "outputs": [
    {
     "name": "stdout",
     "output_type": "stream",
     "text": [
      "Iteration 0: x_0 = 2 f(x_0) = 2 f'(x_0)=4\n",
      "Iteration 1: x_1 = 1.5 f(x_1) = 0.25 f'(x_1)=3\n",
      "Iteration 2: x_2 = 1.417 f(x_2) = 0.006944 f'(x_2)=2.833\n",
      "Iteration 3: x_3 = 1.414 f(x_3) = 6.007e-06 f'(x_3)=2.828\n",
      "Iteration 4: x_4 = 1.414 f(x_4) = 4.511e-12 f'(x_4)=2.828\n"
     ]
    }
   ],
   "source": [
    "def f(x):\n",
    "    return x**2 - 2, 2*x\n",
    "x0 = 2\n",
    "eps = 1.0e-15\n",
    "x, message = newtonEquationOneVariable(f, x0, eps)"
   ]
  },
  {
   "cell_type": "code",
   "execution_count": 4,
   "metadata": {},
   "outputs": [
    {
     "name": "stdout",
     "output_type": "stream",
     "text": [
      "Solution: 1.4142135623730951 Diagnostic: Required precision has been reached: 4.440892098500626e-16 <= 1e-15\n"
     ]
    }
   ],
   "source": [
    "print(f'Solution: {x} Diagnostic: {message}')"
   ]
  },
  {
   "cell_type": "markdown",
   "metadata": {},
   "source": [
    "According to that example, Newton's method seems quite fast, as only 5 iterations were necessary to converge. However, we illustrate by other examples that the method does not always work as well."
   ]
  },
  {
   "cell_type": "markdown",
   "metadata": {},
   "source": [
    "Take the equation \\\\[F(x) = x - \\sin(x) = 0.\\\\]"
   ]
  },
  {
   "cell_type": "markdown",
   "metadata": {},
   "source": [
    "We have $F'(x) = 1-\\cos(x)$. We apply Newton's method with $x_0=1$ and $\\varepsilon = 10^{-15}$."
   ]
  },
  {
   "cell_type": "code",
   "execution_count": 5,
   "metadata": {},
   "outputs": [
    {
     "name": "stdout",
     "output_type": "stream",
     "text": [
      "Iteration 0: x_0 = 1 f(x_0) = 0.1585 f'(x_0)=0.4597\n",
      "Iteration 1: x_1 = 0.6551 f(x_1) = 0.04587 f'(x_1)=0.207\n",
      "Iteration 2: x_2 = 0.4336 f(x_2) = 0.01346 f'(x_2)=0.09254\n",
      "Iteration 3: x_3 = 0.2881 f(x_3) = 0.003971 f'(x_3)=0.04123\n",
      "Iteration 4: x_4 = 0.1918 f(x_4) = 0.001174 f'(x_4)=0.01834\n",
      "Iteration 5: x_5 = 0.1278 f(x_5) = 0.0003477 f'(x_5)=0.008157\n",
      "Iteration 6: x_6 = 0.08518 f(x_6) = 0.000103 f'(x_6)=0.003626\n",
      "Iteration 7: x_7 = 0.05678 f(x_7) = 3.051e-05 f'(x_7)=0.001612\n",
      "Iteration 8: x_8 = 0.03785 f(x_8) = 9.039e-06 f'(x_8)=0.0007163\n",
      "Iteration 9: x_9 = 0.02523 f(x_9) = 2.678e-06 f'(x_9)=0.0003184\n",
      "Iteration 10: x_10 = 0.01682 f(x_10) = 7.935e-07 f'(x_10)=0.0001415\n",
      "Iteration 11: x_11 = 0.01122 f(x_11) = 2.351e-07 f'(x_11)=6.289e-05\n",
      "Iteration 12: x_12 = 0.007477 f(x_12) = 6.966e-08 f'(x_12)=2.795e-05\n",
      "Iteration 13: x_13 = 0.004984 f(x_13) = 2.064e-08 f'(x_13)=1.242e-05\n",
      "Iteration 14: x_14 = 0.003323 f(x_14) = 6.116e-09 f'(x_14)=5.521e-06\n",
      "Iteration 15: x_15 = 0.002215 f(x_15) = 1.812e-09 f'(x_15)=2.454e-06\n",
      "Iteration 16: x_16 = 0.001477 f(x_16) = 5.369e-10 f'(x_16)=1.091e-06\n",
      "Iteration 17: x_17 = 0.0009846 f(x_17) = 1.591e-10 f'(x_17)=4.847e-07\n",
      "Iteration 18: x_18 = 0.0006564 f(x_18) = 4.713e-11 f'(x_18)=2.154e-07\n",
      "Iteration 19: x_19 = 0.0004376 f(x_19) = 1.397e-11 f'(x_19)=9.575e-08\n",
      "Iteration 20: x_20 = 0.0002917 f(x_20) = 4.138e-12 f'(x_20)=4.255e-08\n",
      "Iteration 21: x_21 = 0.0001945 f(x_21) = 1.226e-12 f'(x_21)=1.891e-08\n",
      "Iteration 22: x_22 = 0.0001297 f(x_22) = 3.633e-13 f'(x_22)=8.406e-09\n",
      "Iteration 23: x_23 = 8.644e-05 f(x_23) = 1.076e-13 f'(x_23)=3.736e-09\n",
      "Iteration 24: x_24 = 5.763e-05 f(x_24) = 3.189e-14 f'(x_24)=1.66e-09\n",
      "Iteration 25: x_25 = 3.842e-05 f(x_25) = 9.45e-15 f'(x_25)=7.379e-10\n",
      "Iteration 26: x_26 = 2.561e-05 f(x_26) = 2.8e-15 f'(x_26)=3.28e-10\n"
     ]
    }
   ],
   "source": [
    "def f(x):\n",
    "    return x - np.sin(x), 1 - np.cos(x)\n",
    "x0 = 1\n",
    "eps = 1.0e-15\n",
    "x, message = newtonEquationOneVariable(f, x0, eps)"
   ]
  },
  {
   "cell_type": "code",
   "execution_count": 6,
   "metadata": {},
   "outputs": [
    {
     "name": "stdout",
     "output_type": "stream",
     "text": [
      "Solution: 1.7074311939305688e-05 Diagnostic: Required precision has been reached: 8.296179498587519e-16 <= 1e-15\n"
     ]
    }
   ],
   "source": [
    "print(f'Solution: {x} Diagnostic: {message}')"
   ]
  },
  {
   "cell_type": "markdown",
   "metadata": {},
   "source": [
    "Here, the method needs more iterations before converging than in the previous example (27 versus 5). Note that the solution of that equation is $x^*=0$. However, the derivative $F'(x)$ is getting closer and closer to 0 as the iterations proceed. As Newton's method divides by $F'(x_k)$ at each iteration, the fact that $F'(x^*)=0$ is the source of the slow behavior of the method."
   ]
  },
  {
   "cell_type": "markdown",
   "metadata": {},
   "source": [
    "Take the equation \\\\[F(x) = \\arctan(x) = 0.\\\\]"
   ]
  },
  {
   "cell_type": "markdown",
   "metadata": {},
   "source": [
    "We have $F'(x) = \\frac{1}{1+x^2}$. We apply Newton's method with $x_0=1.5$ and $\\varepsilon = 10^{-15}$."
   ]
  },
  {
   "cell_type": "code",
   "execution_count": 7,
   "metadata": {},
   "outputs": [
    {
     "name": "stdout",
     "output_type": "stream",
     "text": [
      "Iteration 0: x_0 = 1.5 f(x_0) = 0.9828 f'(x_0)=0.3077\n",
      "Iteration 1: x_1 = -1.694 f(x_1) = -1.038 f'(x_1)=0.2584\n",
      "Iteration 2: x_2 = 2.321 f(x_2) = 1.164 f'(x_2)=0.1566\n",
      "Iteration 3: x_3 = -5.114 f(x_3) = -1.378 f'(x_3)=0.03683\n",
      "Iteration 4: x_4 = 32.3 f(x_4) = 1.54 f'(x_4)=0.0009578\n",
      "Iteration 5: x_5 = -1575 f(x_5) = -1.57 f'(x_5)=4.03e-07\n",
      "Iteration 6: x_6 = 3.895e+06 f(x_6) = 1.571 f'(x_6)=6.592e-14\n",
      "Iteration 7: x_7 = -2.383e+13 f(x_7) = -1.571 f'(x_7)=1.761e-27\n",
      "Iteration 8: x_8 = 8.92e+26 f(x_8) = 1.571 f'(x_8)=1.257e-54\n",
      "Iteration 9: x_9 = -1.25e+54 f(x_9) = -1.571 f'(x_9)=6.401e-109\n",
      "Iteration 10: x_10 = 2.454e+108 f(x_10) = 1.571 f'(x_10)=1.661e-217\n",
      "Iteration 11: x_11 = -9.459e+216 f(x_11) = -1.571 f'(x_11)=0\n"
     ]
    },
    {
     "name": "stderr",
     "output_type": "stream",
     "text": [
      "<ipython-input-7-7cf9bb450f90>:2: RuntimeWarning: overflow encountered in double_scalars\n",
      "  return np.arctan(x), 1 / (1 + x**2)\n"
     ]
    }
   ],
   "source": [
    "def f(x):\n",
    "    return np.arctan(x), 1 / (1 + x**2)\n",
    "x0 = 1.5\n",
    "eps = 1.0e-15\n",
    "x, message = newtonEquationOneVariable(f, x0, eps)"
   ]
  },
  {
   "cell_type": "code",
   "execution_count": 8,
   "metadata": {},
   "outputs": [
    {
     "name": "stdout",
     "output_type": "stream",
     "text": [
      "Solution: None Diagnostic: Division by zero\n"
     ]
    }
   ],
   "source": [
    "print(f'Solution: {x} Diagnostic: {message}')"
   ]
  }
 ],
 "metadata": {
  "kernelspec": {
   "display_name": "Python 3",
   "language": "python",
   "name": "python3"
  },
  "language_info": {
   "codemirror_mode": {
    "name": "ipython",
    "version": 3
   },
   "file_extension": ".py",
   "mimetype": "text/x-python",
   "name": "python",
   "nbconvert_exporter": "python",
   "pygments_lexer": "ipython3",
   "version": "3.8.0"
  }
 },
 "nbformat": 4,
 "nbformat_minor": 2
}
