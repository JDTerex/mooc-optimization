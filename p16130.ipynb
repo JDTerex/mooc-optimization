{
 "cells": [
  {
   "cell_type": "markdown",
   "metadata": {},
   "source": [
    "# Pivoting"
   ]
  },
  {
   "cell_type": "markdown",
   "metadata": {},
   "source": [
    "## [Michel Bierlaire](https://people.epfl.ch/michel.bierlaire), EPFL."
   ]
  },
  {
   "cell_type": "code",
   "execution_count": 1,
   "metadata": {},
   "outputs": [],
   "source": [
    "import numpy as np\n",
    "import pandas as pd"
   ]
  },
  {
   "cell_type": "markdown",
   "metadata": {},
   "source": [
    "The following algorithm performs a pivoting on a simplex tableau. "
   ]
  },
  {
   "cell_type": "markdown",
   "metadata": {},
   "source": [
    "This is Algorithm 16.3 in <a href=\"http://optimizationprinciplesalgorithms.com/\">Bierlaire (2015) Optimization: principles and algorithms, EPFL Press.</a>"
   ]
  },
  {
   "cell_type": "code",
   "execution_count": 2,
   "metadata": {},
   "outputs": [],
   "source": [
    "def pivoting(tableau, p, q):\n",
    "    \"\"\"\n",
    "    :param tableau: valid simplex tableau\n",
    "    :type tableau: numpy.array 2D\n",
    "    \n",
    "    :param p: columns of the pivot\n",
    "    :type p: int\n",
    "    \n",
    "    :param q: row of the pivot\n",
    "    ;type q: int\n",
    "    \"\"\"\n",
    "    m, n = tableau.shape\n",
    "    if q >= m:\n",
    "        raise Exception(f'The row of the pivot ({q}) must be between 0 and {m - 1})')\n",
    "    if p >= n:\n",
    "        raise Exception(f'The column of the pivot ({p}) must be between 0 and {n - 1})')\n",
    "    thepivot = tableau[q][p]\n",
    "    if np.abs(thepivot) < np.finfo(float).eps:\n",
    "        raise Exception(f'The pivot is too close to zero: {thepivot}')\n",
    "    thepivotrow = tableau[q, :]\n",
    "    newtableau = np.empty(tableau.shape)\n",
    "    newtableau[q, :] = tableau[q, :] / thepivot\n",
    "    for i in set(range(m)) - {q}:\n",
    "        newtableau[i, :] = tableau[i, :] - tableau[i][p] * thepivotrow / thepivot\n",
    "    return newtableau\n",
    "       "
   ]
  },
  {
   "cell_type": "markdown",
   "metadata": {},
   "source": [
    "# Example 1"
   ]
  },
  {
   "cell_type": "markdown",
   "metadata": {},
   "source": [
    "Consider the tableau \\\\[\\begin{array}{|c c c c c c | c |}\n",
    "\\hline x_1 & x_2 & x_3 & x_4 & x_5 & x_6 & \\\\\n",
    "\\hline\n",
    "0 & 1.5 & 1 & 1 & -0.5 & 0 & 10\\\\\n",
    "1 & 0.5 & 1 & 0 & 0.5 & 0 & 10\\\\\n",
    "0 & 1 & -1 & 0 & -1 & 1 & 0\\\\\n",
    "\\hline\n",
    "0 & -7 & -2 & 0 & 5 & 0 & 100\\\\\n",
    "\\hline\n",
    "\\end{array}\\\\]"
   ]
  },
  {
   "cell_type": "markdown",
   "metadata": {},
   "source": [
    "Perform a pivoting where the row of the pivot is 3 and the column of the pivot is 2. Remember that Python starts counting from 0 and not from 1. "
   ]
  },
  {
   "cell_type": "code",
   "execution_count": 3,
   "metadata": {},
   "outputs": [],
   "source": [
    "tableau = np.array([[0, 1.5, 1, 1, -0.5, 0, 10], \n",
    "                    [1, 0.5, 1, 0, 0.5, 0, 10], \n",
    "                    [0, 1, -1, 0, -1, 1, 0], \n",
    "                    [0, -7, -2, 0, 5, 0, 100]])\n",
    "p = 1 # Column 2 - 1\n",
    "q = 2 # Row 3 - 1\n",
    "newtableau = pivoting(tableau, p, q)"
   ]
  },
  {
   "cell_type": "code",
   "execution_count": 4,
   "metadata": {},
   "outputs": [
    {
     "name": "stdout",
     "output_type": "stream",
     "text": [
      "The new tableau is :\n",
      " 0.0  0.0  2.5  1.0  1.0 -1.5   10.0\n",
      " 1.0  0.0  1.5  0.0  1.0 -0.5   10.0\n",
      " 0.0  1.0 -1.0  0.0 -1.0  1.0    0.0\n",
      " 0.0  0.0 -9.0  0.0 -2.0  7.0  100.0\n"
     ]
    }
   ],
   "source": [
    "print('The new tableau is :')\n",
    "print(pd.DataFrame(newtableau).to_string(index = False, header = False))"
   ]
  },
  {
   "cell_type": "markdown",
   "metadata": {},
   "source": [
    "# Example 2"
   ]
  },
  {
   "cell_type": "markdown",
   "metadata": {},
   "source": [
    "Consider the tableau \\\\[\\begin{array}{|c c c c c c | c |} \\hline x_1 & x_2 & x_3 & x_4 & x_5 & x_6 &\\\\ \\hline 1&5&3&7&0&0 & 12 \\\\ 0&6&9&0&1&0 & 6\\\\ \\hline 0&0&3&7&0&1 & 0\\\\ \\hline \\end{array}. \\\\]\n",
    "\n",
    "The basic variable are $x_1,x_5,x_6$. We want to remove the variable $x_5$ from the basis and incorporate the variable $x_2$. The pivot is at row 2, column 2. Note that this pivoting strategy is not related to a meaningful simplex iteration. "
   ]
  },
  {
   "cell_type": "code",
   "execution_count": 5,
   "metadata": {},
   "outputs": [],
   "source": [
    "tableau = np.array([[1, 5, 3, 7, 0, 0, 12], \n",
    "                    [0, 6, 9, 0, 1, 0, 6], \n",
    "                    [0, 0, 3, 7, 0, 1, 0]])\n",
    "p = 1 # Column 2 - 1 \n",
    "q = 1 # Row 2 - 1\n",
    "newtableau = pivoting(tableau, q, p)"
   ]
  },
  {
   "cell_type": "code",
   "execution_count": 6,
   "metadata": {},
   "outputs": [
    {
     "name": "stdout",
     "output_type": "stream",
     "text": [
      "The new tableau is :\n",
      " 1.0  0.0 -4.5  7.0 -0.833333  0.0  7.0\n",
      " 0.0  1.0  1.5  0.0  0.166667  0.0  1.0\n",
      " 0.0  0.0  3.0  7.0  0.000000  1.0  0.0\n"
     ]
    }
   ],
   "source": [
    "print('The new tableau is :')\n",
    "print(pd.DataFrame(newtableau).to_string(index = False, header = False))"
   ]
  }
 ],
 "metadata": {
  "kernelspec": {
   "display_name": "Python 3",
   "language": "python",
   "name": "python3"
  },
  "language_info": {
   "codemirror_mode": {
    "name": "ipython",
    "version": 3
   },
   "file_extension": ".py",
   "mimetype": "text/x-python",
   "name": "python",
   "nbconvert_exporter": "python",
   "pygments_lexer": "ipython3",
   "version": "3.8.0"
  }
 },
 "nbformat": 4,
 "nbformat_minor": 2
}
