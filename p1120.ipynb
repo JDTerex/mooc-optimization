{
 "cells": [
  {
   "cell_type": "code",
   "execution_count": 11,
   "metadata": {},
   "outputs": [],
   "source": [
    "# Declare an exception\n",
    "from optimizationExceptions import *\n",
    "\n",
    "# Define a function simple to call for the inner product\n",
    "def scalarInner(a,b):\n",
    "    return np.asscalar(a.T.dot(b)) \n",
    "\n",
    "\n",
    "def lineSearch(obj,x,d,alpha0,beta1,beta2,lbd):\n",
    "    if  lbd <= 1:\n",
    "        raise OptimizationValueOutOfRange(\"lambda is {} and must be > 1\".format(lbd))\n",
    "    if  alpha0 <= 0:\n",
    "        raise OptimizationValueOutOfRange(\"alpha0 is {} and must be > 0\".format(alpha0))\n",
    "    if  beta1 >= beta2:\n",
    "        raise OptimizationValueOutOfRange(\"Incompatible Wolfe cond. parsmeters: beta1={} is greater than beta2={}\".format(beta1,beta2))\n",
    "    (f,g) = obj(x)\n",
    "    deriv = scalarInner(g,d)\n",
    "    if deriv >= 0:\n",
    "        raise OptimizationInputError(\"d is not a descent direction: {} >= 0\".format(deriv))\n",
    "    i = 0\n",
    "    alpha = alpha0\n",
    "    alphal = 0\n",
    "    alphar = np.finfo(np.float64).max\n",
    "    finished = False\n",
    "    iters = list()\n",
    "    iters.append([alpha,alphal,alphar,\"\"])\n",
    "    while not finished:\n",
    "        xnew = x+alpha * d ;\n",
    "        (fnew,gnew) = obj(xnew)\n",
    "        # First Wolfe condition\n",
    "        if fnew > f + alpha * beta1 * deriv:\n",
    "            reason = \"too long\"\n",
    "            alphar = alpha ;\n",
    "            alpha = (alphal + alphar) / 2.0 ;\n",
    "        # Second Wolfe condition\n",
    "        elif scalarInner(gnew,d) < beta2 * deriv:\n",
    "            reason = \"too short\"\n",
    "            alphal = alpha ;\n",
    "            if alphar == np.finfo(np.float64).max:\n",
    "                alpha = lbd * alpha ;\n",
    "            else:\n",
    "                alpha = (alphal + alphar) / 2.0\n",
    "        else:\n",
    "            reason = \"ok\"\n",
    "            finished = True\n",
    "        iters.append([alpha,alphal,alphar,reason])\n",
    "    return (alpha,iters)\n"
   ]
  },
  {
   "cell_type": "code",
   "execution_count": 21,
   "metadata": {},
   "outputs": [],
   "source": [
    "import numpy as np\n",
    "from scipy import optimize\n",
    "\n",
    "def steepestDescent(obj,D,x0,eps,alpha0,beta1,beta2,lbd,maxiters=100):\n",
    "    xk = list()\n",
    "    x = x0\n",
    "    k = 0\n",
    "    (f,g) = obj(x)\n",
    "    while np.linalg.norm(g) > eps and k < maxiters:\n",
    "        De = D(x)\n",
    "        d = - np.dot(De,g)\n",
    "        (alpha,iters) = lineSearch(obj,x,d,alpha0,beta1,beta2,lbd)\n",
    "\n",
    "        x = x + alpha*d\n",
    "        xk.append(x)\n",
    "        k = k+1\n",
    "    if k == maxiters:\n",
    "        print('Method failed')\n",
    "    return (xk,k)\n"
   ]
  },
  {
   "cell_type": "markdown",
   "metadata": {},
   "source": [
    "Consider the problem \\\\[ \\min 3x_1^2+x_2^4 \\\\]\n",
    "with starting point $x_0=(1,-2)^T$."
   ]
  },
  {
   "cell_type": "code",
   "execution_count": 55,
   "metadata": {},
   "outputs": [
    {
     "name": "stdout",
     "output_type": "stream",
     "text": [
      "Method failed\n",
      "Method failed\n"
     ]
    },
    {
     "ename": "OptimizationInputError",
     "evalue": "d is not a descent direction: 3.75884800000005 >= 0",
     "output_type": "error",
     "traceback": [
      "\u001b[1;31m---------------------------------------------------------------------------\u001b[0m",
      "\u001b[1;31mOptimizationInputError\u001b[0m                    Traceback (most recent call last)",
      "\u001b[1;32m<ipython-input-55-a3222abbe63d>\u001b[0m in \u001b[0;36m<module>\u001b[1;34m()\u001b[0m\n\u001b[0;32m     25\u001b[0m \u001b[1;33m(\u001b[0m\u001b[0mxk1\u001b[0m\u001b[1;33m,\u001b[0m\u001b[0mk1\u001b[0m\u001b[1;33m)\u001b[0m \u001b[1;33m=\u001b[0m \u001b[0msteepestDescent\u001b[0m\u001b[1;33m(\u001b[0m\u001b[0mfunc\u001b[0m\u001b[1;33m,\u001b[0m\u001b[0mD1\u001b[0m\u001b[1;33m,\u001b[0m\u001b[0mx0\u001b[0m\u001b[1;33m,\u001b[0m\u001b[0meps\u001b[0m\u001b[1;33m,\u001b[0m\u001b[0malpha0\u001b[0m\u001b[1;33m,\u001b[0m\u001b[0mbeta1\u001b[0m\u001b[1;33m,\u001b[0m\u001b[0mbeta2\u001b[0m\u001b[1;33m,\u001b[0m\u001b[0mlbd\u001b[0m\u001b[1;33m,\u001b[0m\u001b[1;36m100\u001b[0m\u001b[1;33m)\u001b[0m\u001b[1;33m\u001b[0m\u001b[0m\n\u001b[0;32m     26\u001b[0m \u001b[1;33m(\u001b[0m\u001b[0mxk2\u001b[0m\u001b[1;33m,\u001b[0m\u001b[0mk2\u001b[0m\u001b[1;33m)\u001b[0m \u001b[1;33m=\u001b[0m \u001b[0msteepestDescent\u001b[0m\u001b[1;33m(\u001b[0m\u001b[0mfunc\u001b[0m\u001b[1;33m,\u001b[0m\u001b[0mD2\u001b[0m\u001b[1;33m,\u001b[0m\u001b[0mx0\u001b[0m\u001b[1;33m,\u001b[0m\u001b[0meps\u001b[0m\u001b[1;33m,\u001b[0m\u001b[0malpha0\u001b[0m\u001b[1;33m,\u001b[0m\u001b[0mbeta1\u001b[0m\u001b[1;33m,\u001b[0m\u001b[0mbeta2\u001b[0m\u001b[1;33m,\u001b[0m\u001b[0mlbd\u001b[0m\u001b[1;33m,\u001b[0m\u001b[1;36m100\u001b[0m\u001b[1;33m)\u001b[0m\u001b[1;33m\u001b[0m\u001b[0m\n\u001b[1;32m---> 27\u001b[1;33m \u001b[1;33m(\u001b[0m\u001b[0mxk3\u001b[0m\u001b[1;33m,\u001b[0m\u001b[0mk3\u001b[0m\u001b[1;33m)\u001b[0m \u001b[1;33m=\u001b[0m \u001b[0msteepestDescent\u001b[0m\u001b[1;33m(\u001b[0m\u001b[0mfunc\u001b[0m\u001b[1;33m,\u001b[0m\u001b[0mD3\u001b[0m\u001b[1;33m,\u001b[0m\u001b[0mx0\u001b[0m\u001b[1;33m,\u001b[0m\u001b[0meps\u001b[0m\u001b[1;33m,\u001b[0m\u001b[0malpha0\u001b[0m\u001b[1;33m,\u001b[0m\u001b[0mbeta1\u001b[0m\u001b[1;33m,\u001b[0m\u001b[0mbeta2\u001b[0m\u001b[1;33m,\u001b[0m\u001b[0mlbd\u001b[0m\u001b[1;33m,\u001b[0m\u001b[1;36m100\u001b[0m\u001b[1;33m)\u001b[0m\u001b[1;33m\u001b[0m\u001b[0m\n\u001b[0m",
      "\u001b[1;32m<ipython-input-21-6b796bc3fe1c>\u001b[0m in \u001b[0;36msteepestDescent\u001b[1;34m(obj, D, x0, eps, alpha0, beta1, beta2, lbd, maxiters)\u001b[0m\n\u001b[0;32m     10\u001b[0m         \u001b[0mDe\u001b[0m \u001b[1;33m=\u001b[0m \u001b[0mD\u001b[0m\u001b[1;33m(\u001b[0m\u001b[0mx\u001b[0m\u001b[1;33m)\u001b[0m\u001b[1;33m\u001b[0m\u001b[0m\n\u001b[0;32m     11\u001b[0m         \u001b[0md\u001b[0m \u001b[1;33m=\u001b[0m \u001b[1;33m-\u001b[0m \u001b[0mnp\u001b[0m\u001b[1;33m.\u001b[0m\u001b[0mdot\u001b[0m\u001b[1;33m(\u001b[0m\u001b[0mDe\u001b[0m\u001b[1;33m,\u001b[0m\u001b[0mg\u001b[0m\u001b[1;33m)\u001b[0m\u001b[1;33m\u001b[0m\u001b[0m\n\u001b[1;32m---> 12\u001b[1;33m         \u001b[1;33m(\u001b[0m\u001b[0malpha\u001b[0m\u001b[1;33m,\u001b[0m\u001b[0miters\u001b[0m\u001b[1;33m)\u001b[0m \u001b[1;33m=\u001b[0m \u001b[0mlineSearch\u001b[0m\u001b[1;33m(\u001b[0m\u001b[0mobj\u001b[0m\u001b[1;33m,\u001b[0m\u001b[0mx\u001b[0m\u001b[1;33m,\u001b[0m\u001b[0md\u001b[0m\u001b[1;33m,\u001b[0m\u001b[0malpha0\u001b[0m\u001b[1;33m,\u001b[0m\u001b[0mbeta1\u001b[0m\u001b[1;33m,\u001b[0m\u001b[0mbeta2\u001b[0m\u001b[1;33m,\u001b[0m\u001b[0mlbd\u001b[0m\u001b[1;33m)\u001b[0m\u001b[1;33m\u001b[0m\u001b[0m\n\u001b[0m\u001b[0;32m     13\u001b[0m \u001b[1;33m\u001b[0m\u001b[0m\n\u001b[0;32m     14\u001b[0m         \u001b[0mx\u001b[0m \u001b[1;33m=\u001b[0m \u001b[0mx\u001b[0m \u001b[1;33m+\u001b[0m \u001b[0malpha\u001b[0m\u001b[1;33m*\u001b[0m\u001b[0md\u001b[0m\u001b[1;33m\u001b[0m\u001b[0m\n",
      "\u001b[1;32m<ipython-input-11-65ac95bc62e9>\u001b[0m in \u001b[0;36mlineSearch\u001b[1;34m(obj, x, d, alpha0, beta1, beta2, lbd)\u001b[0m\n\u001b[0;32m     17\u001b[0m     \u001b[0mderiv\u001b[0m \u001b[1;33m=\u001b[0m \u001b[0mscalarInner\u001b[0m\u001b[1;33m(\u001b[0m\u001b[0mg\u001b[0m\u001b[1;33m,\u001b[0m\u001b[0md\u001b[0m\u001b[1;33m)\u001b[0m\u001b[1;33m\u001b[0m\u001b[0m\n\u001b[0;32m     18\u001b[0m     \u001b[1;32mif\u001b[0m \u001b[0mderiv\u001b[0m \u001b[1;33m>=\u001b[0m \u001b[1;36m0\u001b[0m\u001b[1;33m:\u001b[0m\u001b[1;33m\u001b[0m\u001b[0m\n\u001b[1;32m---> 19\u001b[1;33m         \u001b[1;32mraise\u001b[0m \u001b[0mOptimizationInputError\u001b[0m\u001b[1;33m(\u001b[0m\u001b[1;34m\"d is not a descent direction: {} >= 0\"\u001b[0m\u001b[1;33m.\u001b[0m\u001b[0mformat\u001b[0m\u001b[1;33m(\u001b[0m\u001b[0mderiv\u001b[0m\u001b[1;33m)\u001b[0m\u001b[1;33m)\u001b[0m\u001b[1;33m\u001b[0m\u001b[0m\n\u001b[0m\u001b[0;32m     20\u001b[0m     \u001b[0mi\u001b[0m \u001b[1;33m=\u001b[0m \u001b[1;36m0\u001b[0m\u001b[1;33m\u001b[0m\u001b[0m\n\u001b[0;32m     21\u001b[0m     \u001b[0malpha\u001b[0m \u001b[1;33m=\u001b[0m \u001b[0malpha0\u001b[0m\u001b[1;33m\u001b[0m\u001b[0m\n",
      "\u001b[1;31mOptimizationInputError\u001b[0m: d is not a descent direction: 3.75884800000005 >= 0"
     ]
    }
   ],
   "source": [
    "def func(x):\n",
    "    f = 3*x.item(0)**2+x.item(1)**4\n",
    "    g = np.array([[6*x.item(0)],[4*x.item(1)**3]])\n",
    "    return (f,g)\n",
    "\n",
    "x0 = np.array([[1],[-2]])\n",
    "lbd = 2\n",
    "beta1 = 10**(-4)\n",
    "beta2 = 0.99\n",
    "alpha0 = 0.01\n",
    "eps = 10**(-15)\n",
    "def D1(x):\n",
    "    y = max(1,12*x.item(1)**2)\n",
    "    D1= np.array([[1/6,0],[0,1/y]])\n",
    "    return D1\n",
    "\n",
    "def D2(x):\n",
    "    return D1(x0)\n",
    "\n",
    "def D3(x):\n",
    "    y1 = 1/max(1,x[0])\n",
    "    y2 = 1/max(1,x[1])\n",
    "    return np.array([[y1,0],[0,y2]])\n",
    "\n",
    "(xk1,k1) = steepestDescent(func,D1,x0,eps,alpha0,beta1,beta2,lbd,100)\n",
    "(xk2,k2) = steepestDescent(func,D2,x0,eps,alpha0,beta1,beta2,lbd,100)\n",
    "(xk3,k3) = steepestDescent(func,D3,x0,eps,alpha0,beta1,beta2,lbd,100)"
   ]
  },
  {
   "cell_type": "code",
   "execution_count": 44,
   "metadata": {},
   "outputs": [
    {
     "data": {
      "image/png": "[encoded data removed]",
      "text/plain": [
       "<matplotlib.figure.Figure at 0x26183a44d30>"
      ]
     },
     "metadata": {},
     "output_type": "display_data"
    }
   ],
   "source": [
    "import matplotlib.pyplot as plt\n",
    "from mpl_toolkits.mplot3d import axes3d\n",
    "\n",
    "def f(x):\n",
    "    f =  3*x[0]**2+x[1]**4\n",
    "    return f\n",
    "\n",
    "fig = plt.figure()\n",
    "\n",
    "xmesh, ymesh = np.mgrid[-0.1:4.1:50j,-1:1.1:50j]\n",
    "fmesh = f(np.array([xmesh, ymesh]))\n",
    "\n",
    "plt.axis(\"equal\")\n",
    "plt.contour(xmesh, ymesh, fmesh, 20)\n",
    "xiter = [xk[k][0] for k in range(len(xk))]\n",
    "xiter.insert(0,x0[0])\n",
    "yiter = [xk[k][1] for k in range(len(xk))]\n",
    "yiter.insert(0,x0[1])\n",
    "plt.plot(xiter,yiter,color='r')\n",
    "plt.show()"
   ]
  },
  {
   "cell_type": "code",
   "execution_count": 42,
   "metadata": {},
   "outputs": [
    {
     "data": {
      "text/plain": [
       "[array([[ 0.98      ],\n",
       "        [-1.98666667]]), array([[ 0.97      ],\n",
       "        [-1.97991021]]), array([[ 0.96      ],\n",
       "        [-1.97310757]]), array([[ 0.95      ],\n",
       "        [-1.96625794]]), array([[ 0.94     ],\n",
       "        [-1.9593605]]), array([[ 0.93      ],\n",
       "        [-1.95241442]]), array([[ 0.92      ],\n",
       "        [-1.94541882]]), array([[ 0.91      ],\n",
       "        [-1.93837282]]), array([[ 0.9       ],\n",
       "        [-1.93127551]]), array([[ 0.89      ],\n",
       "        [-1.92412593]]), array([[ 0.88      ],\n",
       "        [-1.91692313]]), array([[ 0.87      ],\n",
       "        [-1.90966609]]), array([[ 0.86      ],\n",
       "        [-1.90235379]]), array([[ 0.85      ],\n",
       "        [-1.89498517]]), array([[ 0.84      ],\n",
       "        [-1.88755913]]), array([[ 0.83      ],\n",
       "        [-1.88007455]]), array([[ 0.82      ],\n",
       "        [-1.87253026]]), array([[ 0.81      ],\n",
       "        [-1.86492505]]), array([[ 0.8       ],\n",
       "        [-1.85725769]]), array([[ 0.79      ],\n",
       "        [-1.84952689]]), array([[ 0.78      ],\n",
       "        [-1.84173133]]), array([[ 0.77      ],\n",
       "        [-1.83386963]]), array([[ 0.76      ],\n",
       "        [-1.82594039]]), array([[ 0.75      ],\n",
       "        [-1.81794213]]), array([[ 0.74      ],\n",
       "        [-1.80987333]]), array([[ 0.73      ],\n",
       "        [-1.80173243]]), array([[ 0.72     ],\n",
       "        [-1.7935178]]), array([[ 0.71      ],\n",
       "        [-1.78522775]]), array([[ 0.7       ],\n",
       "        [-1.77686052]]), array([[ 0.69      ],\n",
       "        [-1.76841431]]), array([[ 0.68      ],\n",
       "        [-1.75988722]]), array([[ 0.67     ],\n",
       "        [-1.7512773]]), array([[ 0.66      ],\n",
       "        [-1.74258252]]), array([[ 0.65      ],\n",
       "        [-1.73380075]]), array([[ 0.64      ],\n",
       "        [-1.72492979]]), array([[ 0.63      ],\n",
       "        [-1.71596736]]), array([[ 0.62      ],\n",
       "        [-1.70691106]]), array([[ 0.61      ],\n",
       "        [-1.69775841]]), array([[ 0.6       ],\n",
       "        [-1.68850681]]), array([[ 0.59      ],\n",
       "        [-1.67915355]]), array([[ 0.58     ],\n",
       "        [-1.6696958]]), array([[ 0.57     ],\n",
       "        [-1.6601306]]), array([[ 0.56      ],\n",
       "        [-1.65045486]]), array([[ 0.55      ],\n",
       "        [-1.64066534]]), array([[ 0.54      ],\n",
       "        [-1.63075864]]), array([[ 0.53      ],\n",
       "        [-1.62073122]]), array([[ 0.52      ],\n",
       "        [-1.61057933]]), array([[ 0.51      ],\n",
       "        [-1.60029906]]), array([[ 0.5       ],\n",
       "        [-1.58988629]]), array([[ 0.49      ],\n",
       "        [-1.57933667]]), array([[ 0.48      ],\n",
       "        [-1.56864565]]), array([[ 0.47     ],\n",
       "        [-1.5578084]]), array([[ 0.46      ],\n",
       "        [-1.54681985]]), array([[ 0.45      ],\n",
       "        [-1.53567461]]), array([[ 0.44      ],\n",
       "        [-1.52436701]]), array([[ 0.43      ],\n",
       "        [-1.51289104]]), array([[ 0.42     ],\n",
       "        [-1.5012403]]), array([[ 0.41      ],\n",
       "        [-1.48940802]]), array([[ 0.4     ],\n",
       "        [-1.477387]]), array([[ 0.39      ],\n",
       "        [-1.46516956]]), array([[ 0.38      ],\n",
       "        [-1.45274752]]), array([[ 0.37      ],\n",
       "        [-1.44011214]]), array([[ 0.36      ],\n",
       "        [-1.42725406]]), array([[ 0.35      ],\n",
       "        [-1.41416326]]), array([[ 0.34      ],\n",
       "        [-1.40082898]]), array([[ 0.33      ],\n",
       "        [-1.38723963]]), array([[ 0.32      ],\n",
       "        [-1.37338274]]), array([[ 0.31      ],\n",
       "        [-1.35924482]]), array([[ 0.3       ],\n",
       "        [-1.34481126]]), array([[ 0.29      ],\n",
       "        [-1.33006622]]), array([[ 0.28      ],\n",
       "        [-1.31499244]]), array([[ 0.27     ],\n",
       "        [-1.2995711]]), array([[ 0.26      ],\n",
       "        [-1.28378159]]), array([[ 0.25      ],\n",
       "        [-1.26760129]]), array([[ 0.24      ],\n",
       "        [-1.25100529]]), array([[ 0.23      ],\n",
       "        [-1.23396604]]), array([[ 0.22      ],\n",
       "        [-1.21645297]]), array([[ 0.21      ],\n",
       "        [-1.19843201]]), array([[ 0.2     ],\n",
       "        [-1.179865]]), array([[ 0.19      ],\n",
       "        [-1.16070903]]), array([[ 0.18      ],\n",
       "        [-1.14091556]]), array([[ 0.17      ],\n",
       "        [-1.12042934]]), array([[ 0.16      ],\n",
       "        [-1.09918713]]), array([[ 0.15      ],\n",
       "        [-1.07711595]]), array([[ 0.14      ],\n",
       "        [-1.05413099]]), array([[ 0.13      ],\n",
       "        [-1.03013274]]), array([[ 0.12      ],\n",
       "        [-1.00500332]]), array([[ 0.11      ],\n",
       "        [-0.97860151]]), array([[ 0.1       ],\n",
       "        [-0.95075589]]), array([[ 0.09     ],\n",
       "        [-0.9212553]]), array([[ 0.08      ],\n",
       "        [-0.88983511]]), array([[ 0.07      ],\n",
       "        [-0.85615685]]), array([[ 0.06      ],\n",
       "        [-0.81977691]]), array([[ 0.05      ],\n",
       "        [-0.78009639]]), array([[ 0.04     ],\n",
       "        [-0.7362764]]), array([[ 0.03      ],\n",
       "        [-0.68708525]]), array([[ 0.02      ],\n",
       "        [-0.63059839]]), array([[ 0.01      ],\n",
       "        [-0.56353847]]), array([[-7.52869989e-16],\n",
       "        [-4.79568965e-01]]), array([[-0.01      ],\n",
       "        [-0.36362008]])]"
      ]
     },
     "execution_count": 42,
     "metadata": {},
     "output_type": "execute_result"
    }
   ],
   "source": [
    "xk"
   ]
  },
  {
   "cell_type": "code",
   "execution_count": 56,
   "metadata": {},
   "outputs": [
    {
     "name": "stdout",
     "output_type": "stream",
     "text": [
      "Method failed\n"
     ]
    }
   ],
   "source": [
    "def Rosenbrock(x):\n",
    "    f = 100*(x[1]-x[0]**2)**2+(1-x[0])**2\n",
    "    df = np.array([-400*(x[1]-x[0]**2)*x[0] - 2*(1-x[0]),200*(x[1]-x[0]**2)])\n",
    "    return (f,df)\n",
    "\n",
    "x0 = np.array([[-1.5],[1.5]])\n",
    "\n",
    "def D1(x):\n",
    "    y1 = 1/max(1,1200*x[0]**2 - 400*x[1] +2)\n",
    "    y2 = 1/200\n",
    "    return np.array([[y1,0],[0,y2]])\n",
    "\n",
    "(xk1,k1) = steepestDescent(func,D1,x0,eps,alpha0,beta1,beta2,lbd,100)\n",
    "\n",
    "    \n"
   ]
  },
  {
   "cell_type": "code",
   "execution_count": null,
   "metadata": {
    "collapsed": true
   },
   "outputs": [],
   "source": []
  }
 ],
 "metadata": {
  "kernelspec": {
   "display_name": "Python 3",
   "language": "python",
   "name": "python3"
  },
  "language_info": {
   "codemirror_mode": {
    "name": "ipython",
    "version": 3
   },
   "file_extension": ".py",
   "mimetype": "text/x-python",
   "name": "python",
   "nbconvert_exporter": "python",
   "pygments_lexer": "ipython3",
   "version": "3.6.1"
  }
 },
 "nbformat": 4,
 "nbformat_minor": 2
}
