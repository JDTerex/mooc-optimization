{
 "cells": [
  {
   "cell_type": "markdown",
   "metadata": {},
   "source": [
    "# Tableau"
   ]
  },
  {
   "cell_type": "markdown",
   "metadata": {},
   "source": [
    "## [Michel Bierlaire](https://people.epfl.ch/michel.bierlaire), EPFL."
   ]
  },
  {
   "cell_type": "code",
   "execution_count": 1,
   "metadata": {},
   "outputs": [],
   "source": [
    "import numpy as np"
   ]
  },
  {
   "cell_type": "markdown",
   "metadata": {},
   "source": [
    "Given a tableau, we perform an iteration of the simplex algorithm. There are three possible outcomes:\n",
    "\n",
    "- the tableau is optimal,\n",
    "- the tableau is not optimal and the basic direction is unbounded,\n",
    "- the tableau is not optimal and the basic direction is bounded.\n",
    "    \n",
    "In the last case,  the column of the variable that enters the basis, and the row of the variable that leaves the basis are identified."
   ]
  },
  {
   "cell_type": "markdown",
   "metadata": {},
   "source": [
    "Note that the algorithm is the simplex algorithm, where the quantities \"reducedcost\", \"xb\" and \"minusd\" are obtained from the tableau instead of being calculated."
   ]
  },
  {
   "cell_type": "code",
   "execution_count": 2,
   "metadata": {},
   "outputs": [],
   "source": [
    "def simplexTableau(tableau):\n",
    "    \"\"\"\n",
    "    :param tableau: the first simplex tableau\n",
    "    :type tableau: pandas dataframe\n",
    "    \n",
    "    :return: p, q, opt, bounded  where \n",
    "               - p is the column of the variable that must enter the basis, or None,\n",
    "               - q is the row of the variable that must leave the basis, or None,\n",
    "               - opt is True if the tableau is optimal (in this case, p and q are None)\n",
    "               - bounded is False if basic direction is unbounded (in this case, p and q are None)\n",
    "    :rtype: int, int, bool, bool\n",
    "    \"\"\"\n",
    "    mtab, ntab = tableau.shape\n",
    "    m = mtab - 1\n",
    "    n = ntab - 1\n",
    "\n",
    "    reducedCost = tableau[-1, :-1]\n",
    "    # Identify the negative reduced costs\n",
    "    negativeReducedCost = reducedCost < 0\n",
    "    if not negativeReducedCost.any():\n",
    "        # The tableau is optimal\n",
    "        return None, None, True, True\n",
    "\n",
    "    # In Python, True is larger than False. The next statement returns the \n",
    "    # index of a True entry in the array, that is the index of a negative reduced cost.\n",
    "    # It is the index of the variable that will enter the basis.\n",
    "    p = np.argmax(negativeReducedCost)\n",
    "\n",
    "    # Calculate the maximum step that can be done along the basic direction d[p]\n",
    "    xb = tableau[:-1, -1]\n",
    "    minusd = tableau[:-1, p]\n",
    "    steps = np.array([xb[k] / minusd[k] if minusd[k] > 0 else np.inf for k in range(m)])\n",
    "    q = np.argmin(steps)            \n",
    "    step = steps[q]\n",
    "\n",
    "    if step == np.inf:\n",
    "        # The tableau is unbounded\n",
    "        return None, None, False, False\n",
    "    else:\n",
    "        return p, q, False, True"
   ]
  },
  {
   "cell_type": "markdown",
   "metadata": {},
   "source": [
    "Consider the tableau \n",
    "\\\\[T= \\begin{array}{|rrrr|r|} \\hline x_1 & x_2 & x_3 & x_4 &  \\\\ \\hline 1 & -1 & 1 & 0 & 2\\\\ 0 & 2 & -1 & 1 & 4\\\\ \\hline 0 & -3 & 2 & 0 & 4 \\\\ \\hline\\end{array}. \\\\]"
   ]
  },
  {
   "cell_type": "code",
   "execution_count": 3,
   "metadata": {},
   "outputs": [
    {
     "data": {
      "text/plain": [
       "array([[ 1, -1,  1,  0,  2],\n",
       "       [ 0,  2, -1,  1,  4],\n",
       "       [ 0, -3,  2,  0,  4]])"
      ]
     },
     "execution_count": 3,
     "metadata": {},
     "output_type": "execute_result"
    }
   ],
   "source": [
    "tableau = np.array([[1, -1, 1, 0, 2], [0, 2, -1, 1, 4], [0, -3, 2, 0, 4]])\n",
    "tableau"
   ]
  },
  {
   "cell_type": "code",
   "execution_count": 4,
   "metadata": {},
   "outputs": [],
   "source": [
    "def printResult(res):\n",
    "    p, q, opt, bounded = res\n",
    "    if opt:\n",
    "        print('Optimal tableau')\n",
    "    elif not bounded:\n",
    "        print('Unbounded direction')\n",
    "    else:\n",
    "        # Python numbering starts at 0. We report starting at 1.\n",
    "        print(f'Column of the variable that enters the basis: {p+1}')\n",
    "        print(f'Row of the variable that leaves the basis:    {q+1}')"
   ]
  },
  {
   "cell_type": "code",
   "execution_count": 5,
   "metadata": {},
   "outputs": [
    {
     "name": "stdout",
     "output_type": "stream",
     "text": [
      "Column of the variable that enters the basis: 2\n",
      "Row of the variable that leaves the basis:    2\n"
     ]
    }
   ],
   "source": [
    "res = simplexTableau(tableau)\n",
    "printResult(res)"
   ]
  },
  {
   "cell_type": "markdown",
   "metadata": {},
   "source": [
    "Consider the tableau \n",
    "\\\\[T= \\begin{array}{|rrrr|r|} \\hline x_1 & x_2 & x_3 & x_4 &  \\\\ \\hline 1 & -1 & 1 & 0 & 2\\\\ 0 & -2 & -1 & 1 & 4\\\\ \\hline 0 & -3 & 2 & 0 & 4 \\\\ \\hline\\end{array}. \\\\]"
   ]
  },
  {
   "cell_type": "code",
   "execution_count": 6,
   "metadata": {},
   "outputs": [
    {
     "data": {
      "text/plain": [
       "array([[ 1, -1,  1,  0,  2],\n",
       "       [ 0, -2, -1,  1,  4],\n",
       "       [ 0, -3,  2,  0,  4]])"
      ]
     },
     "execution_count": 6,
     "metadata": {},
     "output_type": "execute_result"
    }
   ],
   "source": [
    "tableau = np.array([[1, -1, 1, 0, 2], [0, -2, -1, 1, 4], [0, -3, 2, 0, 4]])\n",
    "tableau"
   ]
  },
  {
   "cell_type": "code",
   "execution_count": 7,
   "metadata": {},
   "outputs": [
    {
     "name": "stdout",
     "output_type": "stream",
     "text": [
      "Unbounded direction\n"
     ]
    }
   ],
   "source": [
    "res = simplexTableau(tableau)\n",
    "printResult(res)"
   ]
  },
  {
   "cell_type": "markdown",
   "metadata": {},
   "source": [
    "Consider the tableau \n",
    "\\\\[T= \\begin{array}{|ccccc|c|} \\hline x_1 & x_2 & x_3 & x_4 & x_5 & \\\\ \\hline 1&5&3&7&0&0\\\\ 0&6&9&0&1&0\\\\ \\hline 0&0&3&7&0&1 \\\\ \\hline\\end{array}. \\\\]"
   ]
  },
  {
   "cell_type": "code",
   "execution_count": 8,
   "metadata": {},
   "outputs": [],
   "source": [
    "tableau = np.array([[1, 5, 3, 7, 0, 0],\n",
    "                    [0, 6, 9, 0, 1, 0],\n",
    "                    [0, 0, 3, 7, 0, 1]])\n"
   ]
  },
  {
   "cell_type": "code",
   "execution_count": 9,
   "metadata": {},
   "outputs": [
    {
     "name": "stdout",
     "output_type": "stream",
     "text": [
      "Optimal tableau\n"
     ]
    }
   ],
   "source": [
    "res = simplexTableau(tableau)\n",
    "printResult(res)"
   ]
  }
 ],
 "metadata": {
  "kernelspec": {
   "display_name": "Python 3",
   "language": "python",
   "name": "python3"
  },
  "language_info": {
   "codemirror_mode": {
    "name": "ipython",
    "version": 3
   },
   "file_extension": ".py",
   "mimetype": "text/x-python",
   "name": "python",
   "nbconvert_exporter": "python",
   "pygments_lexer": "ipython3",
   "version": "3.8.2"
  }
 },
 "nbformat": 4,
 "nbformat_minor": 4
}
