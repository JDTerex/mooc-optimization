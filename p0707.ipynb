{
 "cells": [
  {
   "cell_type": "markdown",
   "metadata": {},
   "source": [
    "Consider the system of equations \\\\[ F(x) =\\left( \\begin{array}{c} x_1^2 -x_1x_2 + x_2^2 - 21\\\\ x_1^2 +2x_1x_2 - 8x_2^2 \\end{array} \\right) =0.\\\\]\n",
    "It has four solutions: \\\\[ x^\\star(b)= \\left( \\begin{array}{c} -2/\\sqrt{7} \\\\ -\\sqrt{7} \\end{array} \\right), \\quad x^\\star(g)= \\left( \\begin{array}{c} 2/\\sqrt{7} \\\\ \\sqrt{7} \\end{array} \\right), \\quad x^\\star(w)= \\left( \\begin{array}{c}  -4 \\\\ 1 \\end{array} \\right), \\quad x^\\star(z)= \\left( \\begin{array}{c}  4 \\\\ -1 \\end{array} \\right). \\\\]"
   ]
  },
  {
   "cell_type": "markdown",
   "metadata": {},
   "source": [
    "We apply Newton's method to this problem, starting from different points. To visualize the process, we take on the following convention:\n",
    "1. if Newton's method, when starting from the point $x_0$, converges toward the solution $x^\\star(b)$, the point $x_0$ is colored in red;\n",
    "2. if Newton's method, when starting from the point $x_0$, converges toward the solution $x^\\star(g)$, the point $x_0$ is colored in blue;\n",
    "3. if Newton's method, when starting from the point $x_0$, converges toward the solution $x^\\star(w)$, the point $x_0$ is colored in yellow;\n",
    "3. if Newton's method, when starting from the point $x_0$, converges toward the solution $x^\\star(z)$, the point $x_0$ is colored in pink;\n"
   ]
  },
  {
   "cell_type": "code",
   "execution_count": 9,
   "metadata": {
    "collapsed": true
   },
   "outputs": [],
   "source": [
    "import numpy as np\n",
    "\n",
    "from scipy import linalg\n",
    "def newtonNVariables(obj,x0,eps,maxiter=100):\n",
    "    xk = x0\n",
    "    (f,J) = obj(xk)\n",
    "    k = 0\n",
    "    iters = list()\n",
    "    iters.append([k,xk,f,J])\n",
    "    while linalg.norm(f) > eps and k < maxiter:\n",
    "        # We need to enforce the column vector shape\n",
    "        d = linalg.solve(J,-f).reshape(2,1)\n",
    "        xk = xk + d\n",
    "        (f,J) = obj(xk)\n",
    "        k += 1\n",
    "        iters.append([k,xk,f,J])\n",
    "    return (xk,iters)"
   ]
  },
  {
   "cell_type": "code",
   "execution_count": 10,
   "metadata": {},
   "outputs": [
    {
     "data": {
      "image/png": "[encoded data removed]",
      "text/plain": [
       "<matplotlib.figure.Figure at 0x1c00a283588>"
      ]
     },
     "metadata": {},
     "output_type": "display_data"
    }
   ],
   "source": [
    "\n",
    "x1 = np.arange(-4,4,0.05)\n",
    "x2 = np.arange(-3,3,0.05)\n",
    "def func(x):\n",
    "    f = np.array([x.item(0)**2 - x.item(0)*x.item(1) + x.item(1)**2 -21, x.item(0)**2 +2*x.item(0)*x.item(1) - 8*x.item(1)**2])\n",
    "    J = np.array([[2*x.item(0)-x.item(1), -x.item(0)+2*x.item(1)],[ 2*x.item(0)+2*x.item(1), 2*x.item(0)-16*x.item(1)]])\n",
    "    return (f,J)\n",
    "\n",
    "eps = 10**(-15)\n",
    "\n",
    "import matplotlib.pyplot as plt\n",
    "\n",
    "black = list()\n",
    "for i in x1:\n",
    "    for j in x2:\n",
    "        x0 = np.array([[i,j]]).T\n",
    "        (f,J) = func(x0)\n",
    "        if np.linalg.det(J)==0:\n",
    "            black.append(x0)\n",
    "        else:\n",
    "            (x,iters) = newtonNVariables(func,x0,eps,1000)\n",
    "            if np.linalg.norm(x-np.array([[-2/np.sqrt(7),-np.sqrt(7)]]).T) <= eps:\n",
    "                plt.scatter(x0[0],x0[1], c='red')\n",
    "            if np.linalg.norm(x-np.array([[2/np.sqrt(7),np.sqrt(7)]]).T) <= eps:\n",
    "                plt.scatter(x0[0],x0[1], c='blue')\n",
    "            if np.linalg.norm(x-np.array([[-4,1]]).T) <= eps:\n",
    "                plt.scatter(x0[0],x0[1], c='yellow')\n",
    "            if np.linalg.norm(x-np.array([[4,-1]]).T) <= eps:\n",
    "                plt.scatter(x0[0],x0[1], c='pink')\n",
    "\n",
    "plt.show()\n"
   ]
  },
  {
   "cell_type": "code",
   "execution_count": null,
   "metadata": {
    "collapsed": true
   },
   "outputs": [],
   "source": []
  }
 ],
 "metadata": {
  "kernelspec": {
   "display_name": "Python 3",
   "language": "python",
   "name": "python3"
  },
  "language_info": {
   "codemirror_mode": {
    "name": "ipython",
    "version": 3
   },
   "file_extension": ".py",
   "mimetype": "text/x-python",
   "name": "python",
   "nbconvert_exporter": "python",
   "pygments_lexer": "ipython3",
   "version": "3.6.1"
  }
 },
 "nbformat": 4,
 "nbformat_minor": 2
}
