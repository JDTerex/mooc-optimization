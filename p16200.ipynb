{
 "cells": [
  {
   "cell_type": "markdown",
   "metadata": {},
   "source": [
    "# The complete simplex tableau method"
   ]
  },
  {
   "cell_type": "markdown",
   "metadata": {},
   "source": [
    "## [Michel Bierlaire](https://people.epfl.ch/michel.bierlaire), EPFL."
   ]
  },
  {
   "cell_type": "markdown",
   "metadata": {},
   "source": [
    "This is Algorithm 16.5 in <a href=\"http://optimizationprinciplesalgorithms.com/\">Bierlaire (2015) Optimization: principles and algorithms, EPFL Press.</a>"
   ]
  },
  {
   "cell_type": "code",
   "execution_count": 1,
   "metadata": {},
   "outputs": [],
   "source": [
    "import numpy as np\n",
    "import pandas as pd"
   ]
  },
  {
   "cell_type": "markdown",
   "metadata": {},
   "source": [
    "We also import the scipy optimization library to compare the results."
   ]
  },
  {
   "cell_type": "code",
   "execution_count": 2,
   "metadata": {},
   "outputs": [],
   "source": [
    "import scipy.optimize as opt"
   ]
  },
  {
   "cell_type": "markdown",
   "metadata": {},
   "source": [
    "First, the routine that performs one iteration of the simplex using the tableau."
   ]
  },
  {
   "cell_type": "code",
   "execution_count": 3,
   "metadata": {},
   "outputs": [],
   "source": [
    "def simplexTableau(tableau):\n",
    "    \"\"\"\n",
    "    :param tableau: the first simplex tableau\n",
    "    :type tableau: pandas dataframe\n",
    "    \n",
    "    :return: p, q, opt, bounded  where \n",
    "               - p is the column of the variable that must enter the basis, or None,\n",
    "               - q is the row of the variable that must leave the basis, or None,\n",
    "               - opt is True if the tableau is optimal (in this case, p and q are None)\n",
    "               - bounded is True if basic direction is unbounded (in this case, p and q are None)\n",
    "    :rtype: int, int, bool, bool\n",
    "    \"\"\"\n",
    "    mtab, ntab = tableau.shape\n",
    "    m = mtab - 1\n",
    "    n = ntab - 1\n",
    "\n",
    "    reducedCost = tableau[-1, : -1]\n",
    "    # Identify the negative reduced costs\n",
    "    negativeReducedCost = reducedCost < 0\n",
    "    if not negativeReducedCost.any():\n",
    "        # The tableau is optimal\n",
    "        return None, None, True, True\n",
    "\n",
    "    # In Python, True is larger than False. The next statement returns the \n",
    "    # index of a True entry in the array, that is the index of a negative reduced cost.\n",
    "    # It is the index of the variable that will enter the basis.\n",
    "    p = np.argmax(negativeReducedCost)\n",
    "\n",
    "    # Calculate the maximum step that can be done along the basic direction d[p]\n",
    "    xb = tableau[:-1, -1]\n",
    "    minusd = tableau[:-1, p]\n",
    "    steps = np.array([xb[k] / minusd[k] if minusd[k] > 0 else np.inf for k in range(m)])\n",
    "    q = np.argmin(steps)            \n",
    "    step = steps[q]\n",
    "\n",
    "    if step == np.inf:\n",
    "        # The tableau is unbounded\n",
    "        return None, None, False, False\n",
    "    else:\n",
    "        return p, q, False, True"
   ]
  },
  {
   "cell_type": "markdown",
   "metadata": {},
   "source": [
    "Then, the routine to pivot the tableau."
   ]
  },
  {
   "cell_type": "code",
   "execution_count": 4,
   "metadata": {},
   "outputs": [],
   "source": [
    "def pivoting(tableau, p, q):\n",
    "    \"\"\"\n",
    "    :param tableau: valid simplex tableau\n",
    "    :type tableau: numpy.array 2D\n",
    "    \n",
    "    :param p: columns of the pivot\n",
    "    :type p: int\n",
    "    \n",
    "    :param q: row of the pivot\n",
    "    :type q: int\n",
    "    \n",
    "    :return: pivoted tableau\n",
    "    :rtype: numpy.array 2D\n",
    "    \"\"\"\n",
    "    m, n = tableau.shape\n",
    "    if q >= m:\n",
    "        raise Exception(f'The row of the pivot ({q}) must be between 0 and {m - 1})')\n",
    "    if p >= n:\n",
    "        raise Exception(f'The column of the pivot ({p}) must be between 0 and {n - 1})')\n",
    "    thepivot = tableau[q][p]\n",
    "    if np.abs(thepivot) < np.finfo(float).eps:\n",
    "        print(f'Tableau: {tableau})')\n",
    "        print(f'Row {q} Col {p}')\n",
    "        raise Exception(f'The pivot is too close to zero: {thepivot}')\n",
    "    thepivotrow = tableau[q, :]\n",
    "    newtableau = np.empty(tableau.shape)\n",
    "    newtableau[q, :] = tableau[q, :] / thepivot\n",
    "    for i in set(range(m)) - {q}:\n",
    "        newtableau[i, :] = tableau[i, :] - tableau[i][p] * thepivotrow / thepivot\n",
    "    return newtableau"
   ]
  },
  {
   "cell_type": "markdown",
   "metadata": {},
   "source": [
    "The phase II algorithm."
   ]
  },
  {
   "cell_type": "code",
   "execution_count": 5,
   "metadata": {},
   "outputs": [],
   "source": [
    "def simplexAlgorithmTableau(tableau):\n",
    "    \"\"\"\n",
    "    :param tableau: valid simplex tableau\n",
    "    :type tableau: numpy.array 2D\n",
    "\n",
    "    :return: tableau, optimal, unbounded, where tableau is the tableau from the last iteration,\n",
    "                                          optimal is True if the last tableau is optimal,\n",
    "                                          unbounded is True if the problem is unbounded.\n",
    "    :rtype: numpy.array 2D, bool, bool\n",
    "    \"\"\"\n",
    "    while True:\n",
    "        colPivot, rowPivot, optimal, bounded = simplexTableau(tableau)\n",
    "        if optimal:\n",
    "            return tableau, True, False\n",
    "        if not bounded:\n",
    "            return tableau, False, True\n",
    "        tableau = pivoting(tableau, colPivot, rowPivot)"
   ]
  },
  {
   "cell_type": "markdown",
   "metadata": {},
   "source": [
    "The following routine identifies the row of the tableau corresponding to a given variable."
   ]
  },
  {
   "cell_type": "code",
   "execution_count": 6,
   "metadata": {},
   "outputs": [],
   "source": [
    "def getRow(tableau, index):\n",
    "    \"\"\"\n",
    "    :param tableau: a valid simplex tableau.\n",
    "    :type tableau: numpy.array 2D\n",
    "    \n",
    "    :param index: the index of the variable\n",
    "    :type index: int\n",
    "    \n",
    "    :return: row index if the variable is basic, None otherwise\n",
    "    :rtype: int\n",
    "    \"\"\"\n",
    "    mtab, ntab = tableau.shape\n",
    "    m = mtab - 1\n",
    "    n = ntab - 1\n",
    "    if index not in range(n):\n",
    "         raise Exception(f'The index of the variable ({index}) must be between 0 and {n - 1})')\n",
    "    column = tableau[:, index]\n",
    "    rowIndex = None\n",
    "    for j in range(mtab):\n",
    "        if np.abs(column[j]) > np.sqrt(np.finfo(float).eps):\n",
    "            # The entry is non zero\n",
    "            if rowIndex is None and np.abs(column[j] - 1) <= np.finfo(float).eps:\n",
    "                # The entry is one, and the index has not been found yet.\n",
    "                rowIndex = j\n",
    "            else:\n",
    "                return None\n",
    "    return rowIndex"
   ]
  },
  {
   "cell_type": "markdown",
   "metadata": {},
   "source": [
    "Finally, the complete simplex algorithm."
   ]
  },
  {
   "cell_type": "code",
   "execution_count": 7,
   "metadata": {},
   "outputs": [],
   "source": [
    "def simplex(A, b, c):\n",
    "    \"\"\"\n",
    "    :param A: m x n matrix of the constraints\n",
    "    :type A: numpy.array 2D\n",
    "    \n",
    "    :param b: m vector, left-hand side of the constraints.\n",
    "    :type b: numpy.array 1D\n",
    "    \n",
    "    :param c: n vector, coefficients of the objective function \n",
    "    :type c: numpy.array 1D\n",
    "\n",
    "    :return: tableau, unbounded, infeasible\n",
    "                where  - tableau is the tableau from the last iteration,\n",
    "                       - unbounded is True if the problem is unbounded,\n",
    "                       - infeasible is True if the problem is infeasible,\n",
    "    :rtype: numpy.array 2D, bool, bool\n",
    "    \"\"\"\n",
    "\n",
    "    m, n = A.shape\n",
    "    if b.shape[0] != m:\n",
    "        raise Exception(f'Incompatible sizes: A is {m}x{n}, b is of length {b.shape[0]}, and should be {m}')\n",
    "    if c.shape[0] != n:\n",
    "        raise Exception(f'Incompatible sizes: A is {m}x{n}, c is of length {c.shape[0]}, and should be {n}')\n",
    "    \n",
    "    # All elements of b must be non negative.\n",
    "    negativeb = np.argwhere(b < 0)\n",
    "    for i in negativeb:\n",
    "        A[i, :] = - A[i, :]\n",
    "        b[i] = - b[i]\n",
    "\n",
    "    # First tableau for the auxiliary problem\n",
    "    tableau = np.empty((m + 1, n + m + 1))\n",
    "    tableau[:m, :n] = A\n",
    "    tableau[:m, n:n + m] = np.eye(m)\n",
    "    tableau[:m, n + m:n + m + 1] = b.reshape(m, 1)\n",
    "    # The last row \n",
    "    tableau[-1, :n] = np.array([-np.sum(tableau[:m, k]) for k in range(n)]).copy()\n",
    "    tableau[-1, n:n + m] = 0.0\n",
    "    tableau[-1, -1] = -np.sum(tableau[:m, -1])\n",
    "    \n",
    "    \n",
    "    # Solve the auxiliary problem\n",
    "    phaseOneTableau, optimal, unbounded = simplexAlgorithmTableau(tableau)\n",
    "\n",
    "    if unbounded:\n",
    "        print('UNBOUNDED')\n",
    "        return tableau, True, False\n",
    "\n",
    "    if phaseOneTableau[-1, -1]  < -np.sqrt(np.finfo(float).eps):\n",
    "        # Infeasible problem\n",
    "        print('INFEASIBLE')\n",
    "        return phaseOneTableau, False, True\n",
    " \n",
    "    # Remove the auxiliary variables from the basis\n",
    "    clean = False\n",
    "    rowsToRemove = []\n",
    "    basicRows = np.array([getRow(phaseOneTableau,k) for k in range(m + n)])\n",
    "    \n",
    "    while not clean:\n",
    "        basicIndices = set(np.where(basicRows != None)[0])\n",
    "        # Check if some auxiliary variables are in the basis\n",
    "        tobeCleaned = set(basicIndices).intersection(set(range(n,n+m))) \n",
    "        if tobeCleaned == set():\n",
    "            clean = True\n",
    "        else:\n",
    "            auxiliaryColumn = tobeCleaned.pop()\n",
    "            rowpivotIndex = basicRows[auxiliaryColumn]\n",
    "            rowpivot = phaseOneTableau[rowpivotIndex,:]\n",
    "            originalNonbasic = list(set(range(n)) - set(basicIndices))\n",
    "            nonzerosPivots = abs(rowpivot[originalNonbasic]) > np.finfo(float).eps\n",
    "            if nonzerosPivots.any():\n",
    "                # It is possible to pivot\n",
    "                colpivot = originalNonbasic[np.argmax(nonzerosPivots)]\n",
    "                phaseOneTableau = pivoting(phaseOneTableau, colpivot, rowpivotIndex)      \n",
    "                basicRows[colpivot] = rowpivotIndex\n",
    "                basicRows[auxiliaryColumn] = None\n",
    "            else:\n",
    "                # It is not possible to pivot. There is a redundant \n",
    "                # constraint to be removed.\n",
    "                rowsToRemove.append(rowpivotIndex)\n",
    "                phaseOneTableau = np.delete(phaseOneTableau,rowsToRemove,0)\n",
    "                basicRows = np.array([getRow(phaseOneTableau,k) for k in range(m + n)])\n",
    "\n",
    "    # Delete columns\n",
    "    startPhaseTwo = np.delete(phaseOneTableau, range(n, n + m), 1)\n",
    "    m -= len(rowsToRemove)\n",
    "    basicRows = np.array([getRow(startPhaseTwo, k) for k in range(n)])\n",
    "    \n",
    "    # Calculate last row\n",
    "    \n",
    "    basicIndices = list(np.where(basicRows != None)[0])\n",
    "    nonbasicIndices = list(np.where(basicRows == None)[0])\n",
    "    cb = c[basicIndices]\n",
    "    for k in nonbasicIndices:\n",
    "        startPhaseTwo[-1, k] = c[k] - np.array([c[j] * startPhaseTwo[basicRows[j],k] for j in basicIndices]).sum()\n",
    "    startPhaseTwo[-1, -1] = - np.array([c[j] * startPhaseTwo[basicRows[j],-1] for j in basicIndices]).sum()\n",
    "\n",
    "    # Phase II\n",
    "    \n",
    "    phaseTwoTableau, optimal, unbounded = simplexAlgorithmTableau(startPhaseTwo)\n",
    "    return phaseTwoTableau, unbounded, False"
   ]
  },
  {
   "cell_type": "markdown",
   "metadata": {},
   "source": [
    "A couple of routines to format the output."
   ]
  },
  {
   "cell_type": "code",
   "execution_count": 8,
   "metadata": {},
   "outputs": [],
   "source": [
    "def prettyTableau(tableau):\n",
    "    m, n = tableau.shape\n",
    "    s = ''\n",
    "    for i in range(m - 1):\n",
    "        formattedRow = ['{:6.2g}' for k in tableau[i, :-1]]\n",
    "        s += '\\t'.join(formattedRow).format(*tableau[i, :-1])\n",
    "        s += f'|{tableau[i, -1]:6.2f}'\n",
    "        s += '\\n'\n",
    "    for i in range(n):\n",
    "        s += '------\\t'\n",
    "    s += '\\n'\n",
    "    formattedRow = ['{:6.2g}' for k in tableau[m - 1, :-1]]\n",
    "    s += '\\t'.join(formattedRow).format(*tableau[m - 1, :-1])\n",
    "    s += f'|{tableau[m - 1,- 1]:6.2f}'\n",
    "    s += '\\n'\n",
    "    \n",
    "    return s"
   ]
  },
  {
   "cell_type": "code",
   "execution_count": 9,
   "metadata": {},
   "outputs": [],
   "source": [
    "def printResults(res):\n",
    "    finalTableau, unbounded, infeasible = res\n",
    "    if unbounded:\n",
    "        print('Unbounded problem')\n",
    "    elif infeasible:\n",
    "        print('Infeasible problem')\n",
    "    else:\n",
    "        print(prettyTableau(finalTableau))\n",
    "        mtab, ntab = finalTableau.shape\n",
    "        m = mtab - 1\n",
    "        n = ntab - 1\n",
    "        basicRows = [getRow(finalTableau, k) for k in range(n)]\n",
    "        solution = [finalTableau[basicRows[k], -1] if basicRows[k] is not None else 0 for k in range(n)] \n",
    "        copt = -finalTableau[-1, -1]\n",
    "        print(f'Optimal solution: {solution}')\n",
    "        print(f'Optimal value: {copt}')"
   ]
  },
  {
   "cell_type": "markdown",
   "metadata": {},
   "source": [
    "# Example 1"
   ]
  },
  {
   "cell_type": "markdown",
   "metadata": {},
   "source": [
    "\\\\[ A = \\left(\\begin{array}{cccc} 1 & 2 & 3 & 0 \\\\ -1 & 2 & 6 & 0 \\\\ 0 & 4 & 9& 0 \\\\ 0 & 0 & 3 & 1 \\\\ \\end{array} \\right), \\qquad b = \\left( \\begin{array}{c} 3 \\\\ 2 \\\\ 5 \\\\ 1 \\end{array} \\right), \\qquad c = \\left( \\begin{array}{c} 1 \\\\ 1 \\\\ 1 \\\\ 0\\end{array} \\right). \\\\]"
   ]
  },
  {
   "cell_type": "code",
   "execution_count": 10,
   "metadata": {},
   "outputs": [],
   "source": [
    "A = np.array([[1, 2, 3, 0], [-1, 2, 6, 0], [0, 4, 9, 0], [0, 0, 3, 1]])\n",
    "b = np.array([3, 2, 5, 1])\n",
    "c = np.array([1, 1, 1, 0])"
   ]
  },
  {
   "cell_type": "code",
   "execution_count": 11,
   "metadata": {},
   "outputs": [
    {
     "name": "stdout",
     "output_type": "stream",
     "text": [
      "     1\t     0\t  -1.5\t     0|  0.50\n",
      "     0\t     1\t   2.2\t     0|  1.25\n",
      "     0\t     0\t     3\t     1|  1.00\n",
      "------\t------\t------\t------\t------\t\n",
      "     0\t     0\t  0.25\t     0| -1.75\n",
      "\n",
      "Optimal solution: [0.5, 1.25, 0, 1.0]\n",
      "Optimal value: 1.75\n"
     ]
    }
   ],
   "source": [
    "res = simplex(A, b, c)\n",
    "printResults(res)"
   ]
  },
  {
   "cell_type": "markdown",
   "metadata": {},
   "source": [
    "We compare the results with scipy"
   ]
  },
  {
   "cell_type": "code",
   "execution_count": 12,
   "metadata": {},
   "outputs": [
    {
     "name": "stderr",
     "output_type": "stream",
     "text": [
      "<ipython-input-12-b2dbb1be18ba>:1: OptimizeWarning: A_eq does not appear to be of full row rank. To improve performance, check the problem formulation for redundant equality constraints.\n",
      "  sc = opt.linprog(c, A_eq = A, b_eq = b )\n"
     ]
    }
   ],
   "source": [
    "sc = opt.linprog(c, A_eq = A, b_eq = b )"
   ]
  },
  {
   "cell_type": "code",
   "execution_count": 13,
   "metadata": {},
   "outputs": [
    {
     "name": "stdout",
     "output_type": "stream",
     "text": [
      "     con: array([-9.61007451e-09, -1.60167883e-08, -2.56268633e-08, -9.61007363e-09])\n",
      "     fun: 1.7500000032699403\n",
      " message: 'Optimization terminated successfully.'\n",
      "     nit: 4\n",
      "   slack: array([], dtype=float64)\n",
      "  status: 0\n",
      " success: True\n",
      "       x: array([4.99999997e-01, 1.25000001e+00, 2.66325791e-10, 1.00000001e+00])\n"
     ]
    }
   ],
   "source": [
    "print(sc)"
   ]
  },
  {
   "cell_type": "markdown",
   "metadata": {},
   "source": [
    "# Example 2"
   ]
  },
  {
   "cell_type": "markdown",
   "metadata": {},
   "source": [
    "\\\\[ A = \\left(\\begin{array}{cccc} 1 & 2 & 3 & 0 \\\\ -1 & 2 & 6 & 0 \\\\ 0 & 4 & 9 & 0 \\\\ 0 & 4 & 9 & 0 \\\\ 0 & 0 & 3 & 1  \\end{array} \\right), \\qquad b = \\left( \\begin{array}{c} 3 \\\\ 2 \\\\ 5 \\\\ 5\\\\ 1 \\end{array} \\right), \\qquad c = \\left( \\begin{array}{c} 1 \\\\ 1 \\\\ 1 \\\\ 0\\end{array} \\right). \\\\]"
   ]
  },
  {
   "cell_type": "code",
   "execution_count": 14,
   "metadata": {},
   "outputs": [],
   "source": [
    "A = np.array([[1, 2, 3, 0], [-1, 2, 6, 0], [0, 4, 9, 0], [0, 4, 9, 0], [0, 0, 3, 1]])\n",
    "b = np.array([3, 2, 5, 5, 1])\n",
    "c = np.array([1, 1, 1, 0])"
   ]
  },
  {
   "cell_type": "code",
   "execution_count": 15,
   "metadata": {},
   "outputs": [
    {
     "name": "stdout",
     "output_type": "stream",
     "text": [
      "     1\t     0\t  -1.5\t     0|  0.50\n",
      "     0\t     1\t   2.2\t     0|  1.25\n",
      "     0\t     0\t     3\t     1|  1.00\n",
      "------\t------\t------\t------\t------\t\n",
      "     0\t     0\t  0.25\t     0| -1.75\n",
      "\n",
      "Optimal solution: [0.5, 1.25, 0, 1.0]\n",
      "Optimal value: 1.75\n"
     ]
    }
   ],
   "source": [
    "res = simplex(A, b, c)\n",
    "printResults(res)"
   ]
  },
  {
   "cell_type": "markdown",
   "metadata": {},
   "source": [
    "We compare the results with scipy"
   ]
  },
  {
   "cell_type": "code",
   "execution_count": 16,
   "metadata": {},
   "outputs": [
    {
     "name": "stdout",
     "output_type": "stream",
     "text": [
      "     con: array([-9.61007451e-09, -1.60167883e-08, -2.56268633e-08, -2.56268633e-08,\n",
      "       -9.61007363e-09])\n",
      "     fun: 1.7500000032699403\n",
      " message: 'Optimization terminated successfully.'\n",
      "     nit: 4\n",
      "   slack: array([], dtype=float64)\n",
      "  status: 0\n",
      " success: True\n",
      "       x: array([4.99999997e-01, 1.25000001e+00, 2.66325791e-10, 1.00000001e+00])\n"
     ]
    },
    {
     "name": "stderr",
     "output_type": "stream",
     "text": [
      "<ipython-input-16-da9fd6071a23>:1: OptimizeWarning: A_eq does not appear to be of full row rank. To improve performance, check the problem formulation for redundant equality constraints.\n",
      "  sc = opt.linprog(c, A_eq = A, b_eq = b )\n"
     ]
    }
   ],
   "source": [
    "sc = opt.linprog(c, A_eq = A, b_eq = b )\n",
    "print(sc)"
   ]
  },
  {
   "cell_type": "markdown",
   "metadata": {},
   "source": [
    "# Example 3"
   ]
  },
  {
   "cell_type": "markdown",
   "metadata": {},
   "source": [
    "\\\\[ A = \\left(\\begin{array}{cccc} 1 & -1 & 1 & 0 \\\\ -1 & 1 & 0 & 1  \\end{array} \\right), \\qquad b = \\left( \\begin{array}{c} -2 \\\\ -1 \\end{array} \\right), \\qquad c = \\left( \\begin{array}{r} -4 \\\\ 2 \\\\ 0 \\\\ 0\\end{array} \\right). \\\\]"
   ]
  },
  {
   "cell_type": "code",
   "execution_count": 17,
   "metadata": {},
   "outputs": [],
   "source": [
    "A = np.array([[1, -1, 1, 0], [-1, 1, 0, 1]])\n",
    "b = np.array([-2, -1])\n",
    "c = np.array([-4, 2, 0, 0])"
   ]
  },
  {
   "cell_type": "code",
   "execution_count": 18,
   "metadata": {},
   "outputs": [
    {
     "name": "stdout",
     "output_type": "stream",
     "text": [
      "INFEASIBLE\n",
      "Infeasible problem\n"
     ]
    }
   ],
   "source": [
    "res = simplex(A, b, c)\n",
    "printResults(res)"
   ]
  },
  {
   "cell_type": "markdown",
   "metadata": {},
   "source": [
    "We compare the results with scipy"
   ]
  },
  {
   "cell_type": "code",
   "execution_count": 19,
   "metadata": {},
   "outputs": [
    {
     "name": "stdout",
     "output_type": "stream",
     "text": [
      "     con: array([9.55219364, 6.33930206])\n",
      "     fun: -12402393951.668787\n",
      " message: 'The algorithm terminated successfully and determined that the problem is infeasible.'\n",
      "     nit: 4\n",
      "   slack: array([], dtype=float64)\n",
      "  status: 2\n",
      " success: False\n",
      "       x: array([6.20119697e+09, 6.20119697e+09, 3.16055006e+00, 9.73094586e+00])\n"
     ]
    }
   ],
   "source": [
    "sc = opt.linprog(c, A_eq = A, b_eq = b )\n",
    "print(sc)"
   ]
  },
  {
   "cell_type": "markdown",
   "metadata": {},
   "source": [
    "# Example 4"
   ]
  },
  {
   "cell_type": "markdown",
   "metadata": {},
   "source": [
    "\\\\[ A = \\left(\\begin{array}{ccccc} 1 & 3 & 0 & 4 & 1 \\\\ 1 & 2 & 0 & -3 & 1 \\\\ -1 & -4 & 3 & 0 & 0 \\end{array} \\right), \\qquad b = \\left( \\begin{array}{c} 2 \\\\ 2 \\\\ 1 \\end{array} \\right), \\qquad c = \\left( \\begin{array}{r} 2 \\\\ 3 \\\\ 3 \\\\ 1 \\\\ -2\\end{array} \\right). \\\\]"
   ]
  },
  {
   "cell_type": "code",
   "execution_count": 20,
   "metadata": {},
   "outputs": [],
   "source": [
    "A = np.array([[1, 3, 0, 4, 1], [1, 2, 0, -3, 1], [-1, -4, 3, 0, 0]])\n",
    "b = np.array([2, 2, 1])\n",
    "c = np.array([2, 3, 3, 1, -2])"
   ]
  },
  {
   "cell_type": "code",
   "execution_count": 21,
   "metadata": {},
   "outputs": [
    {
     "name": "stdout",
     "output_type": "stream",
     "text": [
      "     1\t   2.4\t     0\t     0\t     1|  2.00\n",
      "     0\t  0.14\t     0\t     1\t     0|  0.00\n",
      " -0.33\t  -1.3\t     1\t     0\t     0|  0.33\n",
      "------\t------\t------\t------\t------\t------\t\n",
      "     5\t    12\t     0\t     0\t     0|  3.00\n",
      "\n",
      "Optimal solution: [0, 0, 0.33333333333333337, 0.0, 2.0]\n",
      "Optimal value: -3.0\n"
     ]
    }
   ],
   "source": [
    "res = simplex(A, b, c)\n",
    "printResults(res)"
   ]
  },
  {
   "cell_type": "markdown",
   "metadata": {},
   "source": [
    "We compare the results with scipy"
   ]
  },
  {
   "cell_type": "code",
   "execution_count": 22,
   "metadata": {},
   "outputs": [
    {
     "name": "stdout",
     "output_type": "stream",
     "text": [
      "     con: array([-4.15534274e-12,  5.93969318e-13,  1.78124182e-12])\n",
      "     fun: -2.9999999999980593\n",
      " message: 'Optimization terminated successfully.'\n",
      "     nit: 5\n",
      "   slack: array([], dtype=float64)\n",
      "  status: 0\n",
      " success: True\n",
      "       x: array([8.22979221e-13, 1.54636594e-13, 3.33333333e-01, 6.56391777e-13,\n",
      "       2.00000000e+00])\n"
     ]
    }
   ],
   "source": [
    "sc = opt.linprog(c, A_eq = A, b_eq = b )\n",
    "print(sc)"
   ]
  },
  {
   "cell_type": "markdown",
   "metadata": {},
   "source": [
    "# Example 5"
   ]
  },
  {
   "cell_type": "markdown",
   "metadata": {},
   "source": [
    "\\\\[ A = \\left(\\begin{array}{ccccc} 1 & 2 & 1 & 0 & 0 \\\\ -3 & 2 & 0 & 1 & 0 \\\\ -2 & -3 & 0 & 0 & 1\\end{array} \\right), \\qquad b = \\left( \\begin{array}{c} 31 \\\\ 5 \\\\ -1 \\end{array} \\right), \\qquad c = \\left( \\begin{array}{r} -9 \\\\ -4 \\\\ 0 \\\\ 0 \\\\ 0\\end{array} \\right). \\\\]"
   ]
  },
  {
   "cell_type": "code",
   "execution_count": 23,
   "metadata": {},
   "outputs": [],
   "source": [
    "A = np.array([[1, 2, 1, 0, 0], [-3, 2, 0, 1, 0], [-2, -3, 0, 0, 1]])\n",
    "b = np.array([31, 5, -1])\n",
    "c = np.array([-9, -4, 0, 0, 0])"
   ]
  },
  {
   "cell_type": "code",
   "execution_count": 24,
   "metadata": {},
   "outputs": [
    {
     "name": "stdout",
     "output_type": "stream",
     "text": [
      "     1\t     2\t     1\t     0\t     0| 31.00\n",
      "     0\t     1\t     2\t     0\t     1| 61.00\n",
      "     0\t     8\t     3\t     1\t     0| 98.00\n",
      "------\t------\t------\t------\t------\t------\t\n",
      "     0\t    14\t     9\t     0\t     0|279.00\n",
      "\n",
      "Optimal solution: [31.0, 0, 0, 98.0, 61.0]\n",
      "Optimal value: -279.0\n"
     ]
    }
   ],
   "source": [
    "res = simplex(A, b, c)\n",
    "printResults(res)"
   ]
  },
  {
   "cell_type": "markdown",
   "metadata": {},
   "source": [
    "We compare the results with scipy"
   ]
  },
  {
   "cell_type": "code",
   "execution_count": 25,
   "metadata": {},
   "outputs": [
    {
     "name": "stdout",
     "output_type": "stream",
     "text": [
      "     con: array([ 7.55616760e-08,  1.39929881e-08, -8.39573744e-09])\n",
      "     fun: -278.99999910864204\n",
      " message: 'Optimization terminated successfully.'\n",
      "     nit: 5\n",
      "   slack: array([], dtype=float64)\n",
      "  status: 0\n",
      " success: True\n",
      "       x: array([3.09999999e+01, 3.64640767e-09, 1.78059094e-08, 9.79999997e+01,\n",
      "       6.09999998e+01])\n"
     ]
    }
   ],
   "source": [
    "sc = opt.linprog(c, A_eq = A, b_eq = b )\n",
    "print(sc)"
   ]
  },
  {
   "cell_type": "markdown",
   "metadata": {},
   "source": [
    "# Example 6"
   ]
  },
  {
   "cell_type": "markdown",
   "metadata": {},
   "source": [
    "\\\\[ A = \\left(\\begin{array}{cc} 1 & 0\\end{array} \\right), \\qquad b = \\left( \\begin{array}{c} 1 \\end{array} \\right), \\qquad c = \\left( \\begin{array}{r}3 \\\\ -2\\end{array} \\right). \\\\]"
   ]
  },
  {
   "cell_type": "code",
   "execution_count": 26,
   "metadata": {},
   "outputs": [],
   "source": [
    "A = np.array([[1, 0]])\n",
    "b = np.array([1])\n",
    "c = np.array([3, -2])"
   ]
  },
  {
   "cell_type": "code",
   "execution_count": 27,
   "metadata": {},
   "outputs": [
    {
     "name": "stdout",
     "output_type": "stream",
     "text": [
      "Unbounded problem\n"
     ]
    }
   ],
   "source": [
    "res = simplex(A, b, c)\n",
    "printResults(res)"
   ]
  },
  {
   "cell_type": "markdown",
   "metadata": {},
   "source": [
    "We compare the results with scipy"
   ]
  },
  {
   "cell_type": "code",
   "execution_count": 28,
   "metadata": {},
   "outputs": [
    {
     "name": "stdout",
     "output_type": "stream",
     "text": [
      "     con: array([nan])\n",
      "     fun: -inf\n",
      " message: 'If feasible, the problem is (trivially) unbounded due  to a zero column in the constraint matrices. If you wish to check whether the problem is infeasible, turn presolve off.'\n",
      "     nit: 0\n",
      "   slack: array([], dtype=float64)\n",
      "  status: 3\n",
      " success: False\n",
      "       x: array([ 0., inf])\n"
     ]
    }
   ],
   "source": [
    "sc = opt.linprog(c, A_eq = A, b_eq = b )\n",
    "print(sc)"
   ]
  },
  {
   "cell_type": "markdown",
   "metadata": {},
   "source": [
    "# Example 7"
   ]
  },
  {
   "cell_type": "code",
   "execution_count": 29,
   "metadata": {},
   "outputs": [],
   "source": [
    "A = np.array([[-1,  0, -1,  0,  0,  0],\n",
    "              [ 1,  1,  0,  0,  0,  0],\n",
    "              [ 0, -1,  0,  0, -1,  0],\n",
    "              [ 0,  0,  0,  0,  1,  1],\n",
    "              [ 0,  0,  0, -1,  0, -1],\n",
    "              [ 0,  0,  1,  1,  0,  0]\n",
    "             ])\n",
    "b = np.array([-30, 40, -40, 20, -30, 40])\n",
    "c = np.array([0, 0.5, 0, 1, 0, 0.8])\n"
   ]
  },
  {
   "cell_type": "code",
   "execution_count": 30,
   "metadata": {},
   "outputs": [
    {
     "data": {
      "text/plain": [
       "array([0, 0, 0, 0, 0, 0])"
      ]
     },
     "execution_count": 30,
     "metadata": {},
     "output_type": "execute_result"
    }
   ],
   "source": [
    "np.sum(A,axis=0)"
   ]
  },
  {
   "cell_type": "code",
   "execution_count": 31,
   "metadata": {},
   "outputs": [
    {
     "name": "stdout",
     "output_type": "stream",
     "text": [
      "     0\t     0\t     1\t     0\t     0\t    -1| 10.00\n",
      "     0\t     1\t     0\t     0\t     0\t    -1| 20.00\n",
      "     0\t     0\t     0\t     0\t     1\t     1| 20.00\n",
      "     1\t     0\t     0\t     0\t     0\t     1| 20.00\n",
      "     0\t     0\t     0\t     1\t     0\t     1| 30.00\n",
      "------\t------\t------\t------\t------\t------\t------\t\n",
      "     0\t     0\t     0\t     0\t     0\t   0.3|-40.00\n",
      "\n",
      "Optimal solution: [20.0, 20.0, 10.0, 30.0, 20.0, 0]\n",
      "Optimal value: 40.0\n"
     ]
    }
   ],
   "source": [
    "res = simplex(A, b, c)\n",
    "printResults(res)"
   ]
  },
  {
   "cell_type": "markdown",
   "metadata": {},
   "source": [
    "We compare the results with scipy"
   ]
  },
  {
   "cell_type": "code",
   "execution_count": 32,
   "metadata": {},
   "outputs": [
    {
     "name": "stdout",
     "output_type": "stream",
     "text": [
      "     con: array([6.73352929e-10, 9.13900067e-10, 9.13956910e-10, 4.32898162e-10,\n",
      "       6.73399114e-10, 9.13914278e-10])\n",
      "     fun: 39.999999999086995\n",
      " message: 'Optimization terminated successfully.'\n",
      "     nit: 5\n",
      "   slack: array([], dtype=float64)\n",
      "  status: 0\n",
      " success: True\n",
      "       x: array([2.0000000e+01, 2.0000000e+01, 1.0000000e+01, 3.0000000e+01,\n",
      "       2.0000000e+01, 3.0868254e-12])\n"
     ]
    },
    {
     "name": "stderr",
     "output_type": "stream",
     "text": [
      "<ipython-input-32-da9fd6071a23>:1: OptimizeWarning: A_eq does not appear to be of full row rank. To improve performance, check the problem formulation for redundant equality constraints.\n",
      "  sc = opt.linprog(c, A_eq = A, b_eq = b )\n"
     ]
    }
   ],
   "source": [
    "sc = opt.linprog(c, A_eq = A, b_eq = b )\n",
    "print(sc)"
   ]
  }
 ],
 "metadata": {
  "kernelspec": {
   "display_name": "Python 3",
   "language": "python",
   "name": "python3"
  },
  "language_info": {
   "codemirror_mode": {
    "name": "ipython",
    "version": 3
   },
   "file_extension": ".py",
   "mimetype": "text/x-python",
   "name": "python",
   "nbconvert_exporter": "python",
   "pygments_lexer": "ipython3",
   "version": "3.8.0"
  }
 },
 "nbformat": 4,
 "nbformat_minor": 4
}
