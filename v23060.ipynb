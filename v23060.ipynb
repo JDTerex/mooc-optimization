{
 "cells": [
  {
   "cell_type": "code",
   "execution_count": 1,
   "metadata": {},
   "outputs": [],
   "source": [
    "import numpy as np\n",
    "import networkx as nx\n",
    "import matplotlib.pyplot as plt"
   ]
  },
  {
   "cell_type": "markdown",
   "metadata": {},
   "source": [
    "# Network representation"
   ]
  },
  {
   "cell_type": "markdown",
   "metadata": {},
   "source": [
    "We first define a class representing a network. It provides the successors of each node as requested by the algorithm. It also allows to draw the network, using the networkx package. "
   ]
  },
  {
   "cell_type": "code",
   "execution_count": 2,
   "metadata": {},
   "outputs": [],
   "source": [
    "class network:\n",
    "    \"\"\"\n",
    "    Network representation\n",
    "    \"\"\"\n",
    "    def __init__(self, nodes, arcs, coordinates=None):\n",
    "        \"\"\"Constructor\n",
    "        \n",
    "        :param nodes: list with the names of the m nodes\n",
    "        :type nodes: list(str)\n",
    "        \n",
    "        :param arcs: a list of tuples (n1, n2, c) where \n",
    "                       - n1 is the name of the upstream node\n",
    "                       - n2 is the name of the downstream node\n",
    "                       - c is the cost of the arc.\n",
    "        :type arcs: list(str, str, float)  \n",
    "        \n",
    "        :param coordinates: coordinates of the nodes for graphical representation\n",
    "        :type nodes: list(float, float)\n",
    "        \n",
    "        \"\"\"\n",
    "        self.nodes = nodes\n",
    "        self.arcs = arcs\n",
    "        self.arcCosts = {}\n",
    "        self.coordinates = coordinates\n",
    "        \n",
    "        self.m = len(nodes)\n",
    "        self.n = len(arcs)\n",
    "        \n",
    "        self.successors = [list() for i in range(self.m)] \n",
    "        \n",
    "        self.negativeCosts = False\n",
    "        self.minCost = None\n",
    "        \n",
    "        for n1, n2, c in arcs:\n",
    "            self.arcCosts[(n1, n2)] = c\n",
    "            i1 = self.nodeIndex(n1)\n",
    "            i2 = self.nodeIndex(n2)\n",
    "            self.successors[i1].append((i2, c))\n",
    "            if self.minCost is None:\n",
    "                self.minCost = c\n",
    "            elif c < self.minCost:\n",
    "                self.minCost = c\n",
    "            if c < 0:\n",
    "                self.negativeCosts = True\n",
    "                \n",
    "    def nodeIndex(self, node):\n",
    "        \"\"\"\n",
    "        The nodes are numbered from 0 to m-1. The index is this\n",
    "        internal number of the node. \n",
    "        \"\"\"\n",
    "        return self.nodes.index(node)\n",
    "\n",
    "    def draw(self):\n",
    "        \"\"\"\n",
    "        A simple drawing of the graph based on the networkx package.\n",
    "        \"\"\"\n",
    "        g = nx.DiGraph()\n",
    "        for n, c in zip(self.nodes, self.coordinates):\n",
    "            g.add_node(n, pos=c)\n",
    "        edge_labels = {}\n",
    "        for n1, n2, c in self.arcs:\n",
    "            g.add_edge(n1, n2, cost = c)\n",
    "            edge_labels[(n1, n2)] = f'{c}'\n",
    "        pos = nx.get_node_attributes(g, 'pos')\n",
    "        nx.draw(g, pos, with_labels = True, font_weight = 'bold') \n",
    "        nx.draw_networkx_edge_labels(g, pos, edge_labels = edge_labels)\n",
    "        g.clear()"
   ]
  },
  {
   "cell_type": "markdown",
   "metadata": {},
   "source": [
    "# Dijkstra's algorithm"
   ]
  },
  {
   "cell_type": "markdown",
   "metadata": {},
   "source": [
    "We now implement Dijkstra's algorithm. In this implementation, we keep in memory the previous node in the path, in order to easily reconstruct the shortest path tree. We use a heap structure to keep the labels of the nodes sorted."
   ]
  },
  {
   "cell_type": "code",
   "execution_count": 3,
   "metadata": {},
   "outputs": [],
   "source": [
    "def dijkstra(network, startingNode):\n",
    "    \"\"\"\n",
    "    :param network: the network.\n",
    "    :type network: class network\n",
    "    \n",
    "    :param startingNode: name of the starting node.\n",
    "    :type startingNode: str\n",
    "    \"\"\"\n",
    "    \n",
    "    def generateOutput():\n",
    "        \"\"\"\n",
    "        Function preparing the output.\n",
    "        \"\"\"\n",
    "        return {network.nodes[i]: (labels[i], network.nodes[pred[i]]) if pred[i] is not None else (labels[i], None) for i in range(m)}\n",
    "    \n",
    "    m = network.m\n",
    "    n = network.n\n",
    "    \n",
    "    # We check if there are negative costs.\n",
    "    if network.negativeCosts:\n",
    "        raise Exception(\"Dijkstra's algortihm requires all costs to be non negative.\")\n",
    "    \n",
    "    # Initialization of the labels.\n",
    "    labels = np.array([np.inf for i in range(m)])\n",
    "    i0 = network.nodeIndex(startingNode)\n",
    "    labels[i0] = 0\n",
    "\n",
    "    # Initialization of the predecessors\n",
    "    pred = [None for i in range(m)]\n",
    "\n",
    "    # Initialization of the set.\n",
    "    S = set([i0])\n",
    "\n",
    "    iterations = []\n",
    "    while S:\n",
    "        # Choose the node with the smallest label\n",
    "        Slist = list(S)\n",
    "        i = Slist[np.argmin(labels[Slist])]\n",
    "        iterations.append(f'{[network.nodes[k] for k in S]}\\t{network.nodes[i]}\\t{labels}')\n",
    "        S.remove(i)\n",
    "        # Process all the successors.\n",
    "        for j, c in network.successors[i]:\n",
    "            if labels[j] > labels[i] + c:\n",
    "                labels[j] = labels[i] + c\n",
    "                S.add(j)\n",
    "                pred[j] = i\n",
    "       \n",
    "    iterations.append(f'{[network.nodes[k] for k in S]}\\t{network.nodes[i]}\\t{labels}')\n",
    "\n",
    "    return generateOutput(), iterations"
   ]
  },
  {
   "cell_type": "markdown",
   "metadata": {},
   "source": [
    "# Network 1"
   ]
  },
  {
   "cell_type": "markdown",
   "metadata": {},
   "source": [
    "Preparing the network."
   ]
  },
  {
   "cell_type": "code",
   "execution_count": 4,
   "metadata": {},
   "outputs": [],
   "source": [
    "nodes = [f'{i}' for i in range(1,10)]\n",
    "coordinates = [(0, 0), (2, 1.5), (2, -1.5), (4, 1.5), (4, -1.5), (6, 0), (8, 1.5), (10, 0), (8, -1.5)]\n",
    "arcs = [('1', '2', 8),\n",
    "        ('1', '3', 14),\n",
    "        ('2','3', 4),\n",
    "        ('2','4', 9),\n",
    "        ('2','5', 7),\n",
    "        ('3', '5', 11),\n",
    "        ('4', '5', 12),\n",
    "        ('4', '6', 17),\n",
    "        ('5', '6', 3),\n",
    "        ('5', '9', 8),\n",
    "        ('6', '7', 5),\n",
    "        ('6', '8', 9),\n",
    "        ('7', '8', 3),\n",
    "        ('9', '8', 9)]"
   ]
  },
  {
   "cell_type": "code",
   "execution_count": 5,
   "metadata": {},
   "outputs": [
    {
     "data": {
      "image/png": "[encoded data removed]",
      "text/plain": [
       "<Figure size 432x288 with 1 Axes>"
      ]
     },
     "metadata": {},
     "output_type": "display_data"
    }
   ],
   "source": [
    "theNetwork = network(nodes, arcs, coordinates)\n",
    "theNetwork.draw()"
   ]
  },
  {
   "cell_type": "markdown",
   "metadata": {},
   "source": [
    "Calculating the shortest paths from node '1'."
   ]
  },
  {
   "cell_type": "code",
   "execution_count": 6,
   "metadata": {},
   "outputs": [],
   "source": [
    "labels, iterations = dijkstra(theNetwork, '1')"
   ]
  },
  {
   "cell_type": "code",
   "execution_count": 7,
   "metadata": {},
   "outputs": [],
   "source": [
    "def printLabels(labels):\n",
    "    for k, v in labels.items():\n",
    "        print(f'Label of node {k}: {v[0]}. Predecessor in the shortest path: {v[1]}')   "
   ]
  },
  {
   "cell_type": "code",
   "execution_count": 8,
   "metadata": {},
   "outputs": [
    {
     "name": "stdout",
     "output_type": "stream",
     "text": [
      "Label of node 1: 0.0. Predecessor in the shortest path: None\n",
      "Label of node 2: 8.0. Predecessor in the shortest path: 1\n",
      "Label of node 3: 12.0. Predecessor in the shortest path: 2\n",
      "Label of node 4: 17.0. Predecessor in the shortest path: 2\n",
      "Label of node 5: 15.0. Predecessor in the shortest path: 2\n",
      "Label of node 6: 18.0. Predecessor in the shortest path: 5\n",
      "Label of node 7: 23.0. Predecessor in the shortest path: 6\n",
      "Label of node 8: 26.0. Predecessor in the shortest path: 7\n",
      "Label of node 9: 23.0. Predecessor in the shortest path: 5\n"
     ]
    }
   ],
   "source": [
    "printLabels(labels)"
   ]
  },
  {
   "cell_type": "code",
   "execution_count": 9,
   "metadata": {},
   "outputs": [
    {
     "name": "stdout",
     "output_type": "stream",
     "text": [
      "['1']\t1\t[ 0. inf inf inf inf inf inf inf inf]\n",
      "['2', '3']\t2\t[ 0.  8. 14. inf inf inf inf inf inf]\n",
      "['3', '4', '5']\t3\t[ 0.  8. 12. 17. 15. inf inf inf inf]\n",
      "['4', '5']\t5\t[ 0.  8. 12. 17. 15. inf inf inf inf]\n",
      "['4', '6', '9']\t4\t[ 0.  8. 12. 17. 15. 18. inf inf 23.]\n",
      "['6', '9']\t6\t[ 0.  8. 12. 17. 15. 18. inf inf 23.]\n",
      "['7', '8', '9']\t7\t[ 0.  8. 12. 17. 15. 18. 23. 27. 23.]\n",
      "['8', '9']\t9\t[ 0.  8. 12. 17. 15. 18. 23. 26. 23.]\n",
      "['8']\t8\t[ 0.  8. 12. 17. 15. 18. 23. 26. 23.]\n",
      "[]\t8\t[ 0.  8. 12. 17. 15. 18. 23. 26. 23.]\n"
     ]
    }
   ],
   "source": [
    "for i in iterations:\n",
    "    print(i)"
   ]
  },
  {
   "cell_type": "markdown",
   "metadata": {},
   "source": [
    "Displaying the shortest path tree."
   ]
  },
  {
   "cell_type": "code",
   "execution_count": 10,
   "metadata": {},
   "outputs": [
    {
     "data": {
      "text/plain": [
       "[('1', '2', 8),\n",
       " ('2', '3', 4),\n",
       " ('2', '4', 9),\n",
       " ('2', '5', 7),\n",
       " ('5', '6', 3),\n",
       " ('6', '7', 5),\n",
       " ('7', '8', 3),\n",
       " ('5', '9', 8)]"
      ]
     },
     "execution_count": 10,
     "metadata": {},
     "output_type": "execute_result"
    }
   ],
   "source": [
    "shortestPathArcs = [(v[1], k, theNetwork.arcCosts[(v[1], k)]) for k, v in labels.items() if v[1] is not None]\n",
    "shortestPathArcs"
   ]
  },
  {
   "cell_type": "code",
   "execution_count": 11,
   "metadata": {},
   "outputs": [
    {
     "data": {
      "image/png": "[encoded data removed]",
      "text/plain": [
       "<Figure size 432x288 with 1 Axes>"
      ]
     },
     "metadata": {},
     "output_type": "display_data"
    }
   ],
   "source": [
    "theShortestPathTree = network(nodes, shortestPathArcs, coordinates)\n",
    "theShortestPathTree.draw()"
   ]
  },
  {
   "cell_type": "markdown",
   "metadata": {},
   "source": [
    "# Network 2"
   ]
  },
  {
   "cell_type": "markdown",
   "metadata": {},
   "source": [
    "Preparing the network."
   ]
  },
  {
   "cell_type": "code",
   "execution_count": 12,
   "metadata": {},
   "outputs": [],
   "source": [
    "nodes = [f'{i}' for i in range(1,7)]\n",
    "coordinates = [(0,0), (2,1.5), (2,-1.5), (4,1.5), (4,-1.5), (6,0)]\n",
    "arcs = [\n",
    "    ('1', '2', 3),\n",
    "    ('1', '3', 1),\n",
    "    ('2', '4', 5),\n",
    "    ('2', '5', 2.5),\n",
    "    ('2', '3', 9), \n",
    "    ('4', '5', 3),\n",
    "    ('4', '6', 2),\n",
    "    ('5', '6', 4),\n",
    "    ('3', '5', 15)\n",
    "]"
   ]
  },
  {
   "cell_type": "code",
   "execution_count": 13,
   "metadata": {},
   "outputs": [
    {
     "data": {
      "image/png": "[encoded data removed]",
      "text/plain": [
       "<Figure size 432x288 with 1 Axes>"
      ]
     },
     "metadata": {},
     "output_type": "display_data"
    }
   ],
   "source": [
    "theNetwork = network(nodes, arcs, coordinates)\n",
    "theNetwork.draw()"
   ]
  },
  {
   "cell_type": "markdown",
   "metadata": {},
   "source": [
    "Calculating the shortest paths."
   ]
  },
  {
   "cell_type": "code",
   "execution_count": 14,
   "metadata": {},
   "outputs": [],
   "source": [
    "labels, iterations = dijkstra(theNetwork, '1')"
   ]
  },
  {
   "cell_type": "code",
   "execution_count": 15,
   "metadata": {},
   "outputs": [
    {
     "name": "stdout",
     "output_type": "stream",
     "text": [
      "Label of node 1: 0.0. Predecessor in the shortest path: None\n",
      "Label of node 2: 3.0. Predecessor in the shortest path: 1\n",
      "Label of node 3: 1.0. Predecessor in the shortest path: 1\n",
      "Label of node 4: 8.0. Predecessor in the shortest path: 2\n",
      "Label of node 5: 5.5. Predecessor in the shortest path: 2\n",
      "Label of node 6: 9.5. Predecessor in the shortest path: 5\n"
     ]
    }
   ],
   "source": [
    "printLabels(labels)"
   ]
  },
  {
   "cell_type": "code",
   "execution_count": 16,
   "metadata": {},
   "outputs": [
    {
     "name": "stdout",
     "output_type": "stream",
     "text": [
      "['1']\t1\t[ 0. inf inf inf inf inf]\n",
      "['2', '3']\t3\t[ 0.  3.  1. inf inf inf]\n",
      "['2', '5']\t2\t[ 0.  3.  1. inf 16. inf]\n",
      "['4', '5']\t5\t[0.  3.  1.  8.  5.5 inf]\n",
      "['4', '6']\t4\t[0.  3.  1.  8.  5.5 9.5]\n",
      "['6']\t6\t[0.  3.  1.  8.  5.5 9.5]\n",
      "[]\t6\t[0.  3.  1.  8.  5.5 9.5]\n"
     ]
    }
   ],
   "source": [
    "for i in iterations:\n",
    "    print(i)"
   ]
  },
  {
   "cell_type": "markdown",
   "metadata": {},
   "source": [
    "Displaying the shortest path tree."
   ]
  },
  {
   "cell_type": "code",
   "execution_count": 17,
   "metadata": {},
   "outputs": [
    {
     "data": {
      "text/plain": [
       "[('1', '2', 3), ('1', '3', 1), ('2', '4', 5), ('2', '5', 2.5), ('5', '6', 4)]"
      ]
     },
     "execution_count": 17,
     "metadata": {},
     "output_type": "execute_result"
    }
   ],
   "source": [
    "shortestPathArcs = [(v[1], k, theNetwork.arcCosts[(v[1], k)]) for k, v in labels.items() if v[1] is not None]\n",
    "shortestPathArcs"
   ]
  },
  {
   "cell_type": "code",
   "execution_count": 18,
   "metadata": {},
   "outputs": [
    {
     "data": {
      "image/png": "[encoded data removed]",
      "text/plain": [
       "<Figure size 432x288 with 1 Axes>"
      ]
     },
     "metadata": {},
     "output_type": "display_data"
    }
   ],
   "source": [
    "theShortestPathTree = network(nodes, shortestPathArcs, coordinates)\n",
    "theShortestPathTree.draw()"
   ]
  },
  {
   "cell_type": "markdown",
   "metadata": {},
   "source": [
    " # Network 3"
   ]
  },
  {
   "cell_type": "markdown",
   "metadata": {},
   "source": [
    "Preparing the network."
   ]
  },
  {
   "cell_type": "code",
   "execution_count": 19,
   "metadata": {},
   "outputs": [],
   "source": [
    "nodes = [f'{i}' for i in range(1,7)]\n",
    "coordinates = [(0,0), (2,1.5), (2,-1.5), (4,1.5), (4,-1.5), (6,0)]\n",
    "arcs = [\n",
    "    ('1', '2', 5),\n",
    "    ('1', '3', -3),\n",
    "    ('2', '4', 4),\n",
    "    ('2', '5', -2),\n",
    "    ('3', '2', 9), \n",
    "    ('4', '5', 3),\n",
    "    ('4', '6', 6),\n",
    "    ('5', '6', -8),\n",
    "    ('3', '5', 7)\n",
    "]"
   ]
  },
  {
   "cell_type": "code",
   "execution_count": 20,
   "metadata": {},
   "outputs": [
    {
     "data": {
      "image/png": "[encoded data removed]",
      "text/plain": [
       "<Figure size 432x288 with 1 Axes>"
      ]
     },
     "metadata": {},
     "output_type": "display_data"
    }
   ],
   "source": [
    "theNetwork = network(nodes, arcs, coordinates)\n",
    "theNetwork.draw()"
   ]
  },
  {
   "cell_type": "markdown",
   "metadata": {},
   "source": [
    "Calculating the shortest paths."
   ]
  },
  {
   "cell_type": "code",
   "execution_count": 21,
   "metadata": {},
   "outputs": [
    {
     "ename": "Exception",
     "evalue": "Dijkstra's algortihm requires all costs to be non negative.",
     "output_type": "error",
     "traceback": [
      "\u001b[0;31m---------------------------------------------------------------------------\u001b[0m",
      "\u001b[0;31mException\u001b[0m                                 Traceback (most recent call last)",
      "\u001b[0;32m<ipython-input-21-116aaa3580b2>\u001b[0m in \u001b[0;36m<module>\u001b[0;34m\u001b[0m\n\u001b[0;32m----> 1\u001b[0;31m \u001b[0mlabels\u001b[0m\u001b[0;34m,\u001b[0m \u001b[0miterations\u001b[0m \u001b[0;34m=\u001b[0m \u001b[0mdijkstra\u001b[0m\u001b[0;34m(\u001b[0m\u001b[0mtheNetwork\u001b[0m\u001b[0;34m,\u001b[0m \u001b[0;34m'1'\u001b[0m\u001b[0;34m)\u001b[0m\u001b[0;34m\u001b[0m\u001b[0;34m\u001b[0m\u001b[0m\n\u001b[0m",
      "\u001b[0;32m<ipython-input-3-aed5cc41467e>\u001b[0m in \u001b[0;36mdijkstra\u001b[0;34m(network, startingNode)\u001b[0m\n\u001b[1;32m     19\u001b[0m     \u001b[0;31m# We check if there are negative costs.\u001b[0m\u001b[0;34m\u001b[0m\u001b[0;34m\u001b[0m\u001b[0;34m\u001b[0m\u001b[0m\n\u001b[1;32m     20\u001b[0m     \u001b[0;32mif\u001b[0m \u001b[0mnetwork\u001b[0m\u001b[0;34m.\u001b[0m\u001b[0mnegativeCosts\u001b[0m\u001b[0;34m:\u001b[0m\u001b[0;34m\u001b[0m\u001b[0;34m\u001b[0m\u001b[0m\n\u001b[0;32m---> 21\u001b[0;31m         \u001b[0;32mraise\u001b[0m \u001b[0mException\u001b[0m\u001b[0;34m(\u001b[0m\u001b[0;34m\"Dijkstra's algortihm requires all costs to be non negative.\"\u001b[0m\u001b[0;34m)\u001b[0m\u001b[0;34m\u001b[0m\u001b[0;34m\u001b[0m\u001b[0m\n\u001b[0m\u001b[1;32m     22\u001b[0m \u001b[0;34m\u001b[0m\u001b[0m\n\u001b[1;32m     23\u001b[0m     \u001b[0;31m# Initialization of the labels.\u001b[0m\u001b[0;34m\u001b[0m\u001b[0;34m\u001b[0m\u001b[0;34m\u001b[0m\u001b[0m\n",
      "\u001b[0;31mException\u001b[0m: Dijkstra's algortihm requires all costs to be non negative."
     ]
    }
   ],
   "source": [
    "labels, iterations = dijkstra(theNetwork, '1')"
   ]
  }
 ],
 "metadata": {
  "kernelspec": {
   "display_name": "Python 3",
   "language": "python",
   "name": "python3"
  },
  "language_info": {
   "codemirror_mode": {
    "name": "ipython",
    "version": 3
   },
   "file_extension": ".py",
   "mimetype": "text/x-python",
   "name": "python",
   "nbconvert_exporter": "python",
   "pygments_lexer": "ipython3",
   "version": "3.8.0"
  }
 },
 "nbformat": 4,
 "nbformat_minor": 4
}
