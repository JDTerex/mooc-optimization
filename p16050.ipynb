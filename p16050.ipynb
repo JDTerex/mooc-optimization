{
 "cells": [
  {
   "cell_type": "markdown",
   "metadata": {},
   "source": [
    "# Simplex algorithm"
   ]
  },
  {
   "cell_type": "markdown",
   "metadata": {},
   "source": [
    "## [Michel Bierlaire](https://people.epfl.ch/michel.bierlaire), EPFL."
   ]
  },
  {
   "cell_type": "code",
   "execution_count": 1,
   "metadata": {},
   "outputs": [],
   "source": [
    "import numpy as np"
   ]
  },
  {
   "cell_type": "markdown",
   "metadata": {},
   "source": [
    "In this notebook, we present a possible implementation of the simplex algorithm, and we apply it on four examples. "
   ]
  },
  {
   "cell_type": "markdown",
   "metadata": {},
   "source": [
    "This is Algorithm 16.2 in <a href=\"http://optimizationprinciplesalgorithms.com/\">Bierlaire (2015) Optimization: principles and algorithms, EPFL Press.</a>"
   ]
  },
  {
   "cell_type": "markdown",
   "metadata": {},
   "source": [
    "The simplex algorithm solves a linear optimization problem written in standard form: \\\\[ \\min_{x \\in \\mathbb{R}^n} c^T x \\\\] subject to \\\\[ \\begin{aligned} Ax & = b, \\\\ x & \\geq 0, \\end{aligned}\\\\] where $A \\in \\mathbb{R}^{m \\times n}$, $b \\in \\mathbb{R}^m$, and $c \\in \\mathbb{R}^n$."
   ]
  },
  {
   "cell_type": "code",
   "execution_count": 2,
   "metadata": {},
   "outputs": [],
   "source": [
    "def simplex(A, b, c, basis):\n",
    "    \"\"\"\n",
    "    :param A: m x n matrix\n",
    "    :type A: numpy.array 2D\n",
    "    \n",
    "    :param b: m vector\n",
    "    :type b: numpy.array 1D\n",
    "    \n",
    "    :param c: n vector\n",
    "    :type c: numpy.array 1D\n",
    "    \n",
    "    :param basis: list of indices of the variables in the initial basis\n",
    "    :type basis: list(int)\n",
    "    \"\"\"\n",
    "    # Dimension of the problem\n",
    "    m, n = A.shape\n",
    "    if b.shape[0] != m:\n",
    "        raise Exception(f'Incompatible sizes: A is {m}x{n}, b is of length {b.shape[0]}, and should be {m}')\n",
    "    if c.shape[0] != n:\n",
    "        raise Exception(f'Incompatible sizes: A is {m}x{n}, c is of length {c.shape[0]}, and should be {n}')\n",
    "\n",
    "    # Initialization\n",
    "    optvalue = np.inf\n",
    "    iters = list()\n",
    "    stop = False\n",
    "    while not stop:\n",
    "        # Extract the basis matrix\n",
    "        B = A[:, basis]\n",
    "       \n",
    "        # Calculate the value of the basic variables\n",
    "        xb = np.linalg.solve(B,b)\n",
    "\n",
    "        # Each column of the matrix d is the dB vector of the corresponding index\n",
    "        minusd = np.linalg.solve(B,A)\n",
    "        # Calculation of the cost, for reporting only\n",
    "        cost = c[basis].T @ xb\n",
    "        # Calculation of the reduced costs\n",
    "        reducedCost = c.T - c[basis].T @ minusd\n",
    "        # Identify the negative reduced costs\n",
    "        negativeReducedCost = reducedCost < 0\n",
    "        if not negativeReducedCost.any():\n",
    "            iters.append([xb, cost, basis.copy(), reducedCost.copy(), None, None, None, None])\n",
    "            optimalbasis = basis\n",
    "            unbounded = False\n",
    "            stop = True\n",
    "        else:\n",
    "            # In Python, True is larger than False. The next statement returns the \n",
    "            # index of a True entry in the array, that is the index of a negative reduced cost.\n",
    "            # It is the index of the variable that will enter the basis.\n",
    "            p = np.argmax(negativeReducedCost)\n",
    "            \n",
    "\n",
    "            # Calculate the maximum step that can be done along the basic direction d[p]\n",
    "            steps = np.array([xb[k] / minusd[k][p] if minusd[k][p] > 0 else np.inf for k in range(m)])\n",
    "            q = np.argmin(steps)            \n",
    "            step = steps[q]\n",
    "            \n",
    "            # Store the quantities calculated during this iteration\n",
    "            iters.append([xb, cost, basis.copy(), reducedCost, -minusd[:, p], step, p, q])\n",
    "\n",
    "            if step == np.inf:\n",
    "                # The problem is unbounded\n",
    "                optimalbasis = np.zeros((m,1))\n",
    "                unbounded = True\n",
    "                stop = True\n",
    "            else:\n",
    "                # Variable q is replaced by variable p in the basis.\n",
    "                basis[q] = p\n",
    "    return optimalbasis, unbounded, iters"
   ]
  },
  {
   "cell_type": "markdown",
   "metadata": {},
   "source": [
    "The following function is designed to report the information of a given iteration"
   ]
  },
  {
   "cell_type": "code",
   "execution_count": 3,
   "metadata": {},
   "outputs": [],
   "source": [
    "def oneIteration(iteration):\n",
    "    xb = iteration[0]\n",
    "    cost = iteration[1]\n",
    "    basicIndices = iteration[2]\n",
    "    reducedCosts = iteration[3]\n",
    "    basicDirection = iteration[4]\n",
    "    step = iteration[5]\n",
    "    p = iteration[6]\n",
    "    q = iteration[7]\n",
    "    \n",
    "    n = len(reducedCosts)\n",
    "    strBasis = ', '.join(f'{k+1:2}' for k in basicIndices) \n",
    "    nonbasicIndices = list(set(range(n)) - set(basicIndices))\n",
    "    strReducedCosts = ', '.join(f'{reducedCosts[k]:+6.2f}' for k in nonbasicIndices)\n",
    "    x = [0] * n\n",
    "    for i, ik in enumerate(basicIndices):\n",
    "        x[ik] = xb[i]\n",
    "    strx = ', '.join(f'{k:+6.2f}' for k in x)\n",
    "    strdir = ', '.join(f'{k:+6.2f}' for k in basicDirection) if basicDirection is not None else ''\n",
    "    if basicDirection is None:\n",
    "        return f'{strBasis} | {strReducedCosts} | {strx} | {cost:+6.2f}'\n",
    "    else:        \n",
    "        return f'{strBasis} | {strReducedCosts} | {strx} | {cost:+6.2f} | {strdir} | {step:4.2f} | {p+1:2} | {q+1:2}'"
   ]
  },
  {
   "cell_type": "markdown",
   "metadata": {},
   "source": [
    "# Example 1"
   ]
  },
  {
   "cell_type": "markdown",
   "metadata": {},
   "source": [
    "Consider the optimization problem in standard from with \\\\[A = \\left(\\begin{array}{cccc}  1 & 1 & 1 & 0 \\\\ 1 & -1 & 0 & 1 \\end{array} \\right), \\qquad b= \\left(\\begin{array}{c}  1 \\\\ 1 \\end{array} \\right), \\qquad c= \\left(\\begin{array}{c} -1 \\\\ -2 \\\\0\\\\0 \\end{array} \\right). \\\\]"
   ]
  },
  {
   "cell_type": "code",
   "execution_count": 4,
   "metadata": {},
   "outputs": [
    {
     "name": "stdout",
     "output_type": "stream",
     "text": [
      " 3,  4 |  -1.00,  -2.00 |  +0.00,  +0.00,  +1.00,  +1.00 |  +0.00 |  -1.00,  -1.00 | 1.00 |  1 |  1\n",
      " 1,  4 |  -1.00,  +1.00 |  +1.00,  +0.00,  +0.00,  +0.00 |  -1.00 |  -1.00,  +2.00 | 1.00 |  2 |  1\n",
      " 2,  4 |  +1.00,  +2.00 |  +0.00,  +1.00,  +0.00,  +2.00 |  -2.00\n",
      "\n",
      "[Legend: Basis | Reduced costs | x | cost | dB | alpha | p | q]\n"
     ]
    }
   ],
   "source": [
    "A = np.array([[1, 1, 1, 0], [1, -1, 0, 1]])\n",
    "b = np.array([1, 1])\n",
    "c = np.array([-1, -2, 0, 0])\n",
    "basis = [2, 3]\n",
    "optimalbasis, unbounded, iters = simplex(A, b, c, basis)\n",
    "for i in iters:\n",
    "    print(oneIteration(i))\n",
    "print('\\n[Legend: Basis | Reduced costs | x | cost | dB | alpha | p | q]')"
   ]
  },
  {
   "cell_type": "markdown",
   "metadata": {},
   "source": [
    "The optimal solution is \\\\[x^*=\\left(\\begin{array}{c} 0\\\\1 \\\\ 0 \\\\2 \\end{array}\\right) \\\\] with optimal cost -2."
   ]
  },
  {
   "cell_type": "markdown",
   "metadata": {},
   "source": [
    "# Example 2"
   ]
  },
  {
   "cell_type": "markdown",
   "metadata": {},
   "source": [
    "Consider the optimization problem in standard from with \\\\[A = \\left(\\begin{array}{rrrrr}  1 & 3 & 0 & 4 & 1 \\\\ 1 & 2 & 0 & -3 & 1 \\\\ -1 & -4 & 3 & 0 & 0 \\end{array} \\right), \\qquad b= \\left(\\begin{array}{c}  2 \\\\ 2 \\\\ 1\\end{array} \\right), \\qquad c= \\left(\\begin{array}{r} 2 \\\\ 3 \\\\ 3 \\\\ 1 \\\\ -2 \\end{array} \\right). \\\\]"
   ]
  },
  {
   "cell_type": "code",
   "execution_count": 5,
   "metadata": {},
   "outputs": [
    {
     "name": "stdout",
     "output_type": "stream",
     "text": [
      " 1,  2,  3 |  +3.00,  -5.00 |  +2.00,  -0.00,  +1.00,  +0.00,  +0.00 |  +7.00 |  -1.00,  +0.00,  -0.33 | 2.00 |  5 |  1\n",
      " 5,  2,  3 |  +5.00, -82.00 |  +0.00,  -0.00,  +0.33,  +0.00,  +2.00 |  -3.00 | +17.00,  -7.00,  -9.33 | -0.00 |  4 |  2\n",
      " 5,  4,  3 |  +5.00, +11.71 |  +0.00,  +0.00,  +0.33,  -0.00,  +2.00 |  -3.00\n",
      "\n",
      "[Legend: Basis | Reduced costs | x | cost | dB | alpha | p | q]\n"
     ]
    }
   ],
   "source": [
    "A = np.array([[1, 3, 0, 4, 1], [1, 2, 0, -3, 1], [-1, -4, 3, 0, 0]])\n",
    "b = np.array([2, 2, 1])\n",
    "c = np.array([2, 3, 3, 1, -2])\n",
    "basis = [0, 1, 2]\n",
    "optimalbasis, unbounded, iters = simplex(A, b, c, basis)\n",
    "for i in iters:\n",
    "    print(oneIteration(i))\n",
    "print('\\n[Legend: Basis | Reduced costs | x | cost | dB | alpha | p | q]')"
   ]
  },
  {
   "cell_type": "markdown",
   "metadata": {},
   "source": [
    "The optimal solution is \\\\[x^*=\\left(\\begin{array}{c} 0\\\\ 0 \\\\ \\frac{1}{3} \\\\ 0 \\\\ 2 \\end{array}\\right) \\\\] with optimal cost -3."
   ]
  },
  {
   "cell_type": "markdown",
   "metadata": {},
   "source": [
    "# Example 3"
   ]
  },
  {
   "cell_type": "markdown",
   "metadata": {},
   "source": [
    "Consider the optimization problem in standard from with \\\\[A = \\left(\\begin{array}{rrrrrr}  1& 2& 2& 1& 0& 0 \\\\ 2& 1& 2& 0& 1& 0 \\\\ 2& 2& 1& 0& 0& 1 \\end{array} \\right), \\qquad b= \\left(\\begin{array}{c}  20\\\\ 20\\\\ 20\\end{array} \\right), \\qquad c= \\left(\\begin{array}{r} -10\\\\ -12\\\\ -12\\\\ 0\\\\ 0\\\\ 0 \\end{array} \\right). \\\\]"
   ]
  },
  {
   "cell_type": "code",
   "execution_count": 6,
   "metadata": {},
   "outputs": [
    {
     "name": "stdout",
     "output_type": "stream",
     "text": [
      " 4,  5,  6 | -10.00, -12.00, -12.00 |  +0.00,  +0.00,  +0.00, +20.00, +20.00, +20.00 |  +0.00 |  -1.00,  -2.00,  -2.00 | 10.00 |  1 |  2\n",
      " 4,  1,  6 |  -7.00,  -2.00,  +5.00 | +10.00,  +0.00,  +0.00, +10.00,  +0.00,  +0.00 | -100.00 |  -1.50,  -0.50,  -1.00 | 0.00 |  2 |  3\n",
      " 4,  1,  2 |  -9.00,  -2.00,  +7.00 | +10.00,  +0.00,  +0.00, +10.00,  +0.00,  +0.00 | -100.00 |  -2.50,  -1.50,  +1.00 | 4.00 |  3 |  1\n",
      " 3,  1,  2 |  +3.60,  +1.60,  +1.60 |  +4.00,  +4.00,  +4.00,  +0.00,  +0.00,  +0.00 | -136.00\n",
      "\n",
      "[Legend: Basis | Reduced costs | x | cost | dB | alpha | p | q]\n"
     ]
    }
   ],
   "source": [
    "A = np.array([[1, 2, 2, 1, 0, 0], [2, 1, 2, 0, 1, 0], [2, 2, 1, 0, 0, 1]])\n",
    "b = np.array([20, 20, 20])\n",
    "c = np.array([-10, -12, -12, 0, 0, 0])\n",
    "basis = [3, 4, 5]\n",
    "optimalbasis, unbounded, iters = simplex(A, b, c, basis)\n",
    "for i in iters:\n",
    "    print(oneIteration(i))\n",
    "print('\\n[Legend: Basis | Reduced costs | x | cost | dB | alpha | p | q]')"
   ]
  },
  {
   "cell_type": "markdown",
   "metadata": {},
   "source": [
    "The optimal solution is \\\\[x^*=\\left(\\begin{array}{c} 4 \\\\ 4 \\\\ 4 \\\\ 0 \\\\ 0 \\\\ 0\\end{array}\\right) \\\\] with optimal cost -136."
   ]
  },
  {
   "cell_type": "markdown",
   "metadata": {},
   "source": [
    "# Example 4"
   ]
  },
  {
   "cell_type": "markdown",
   "metadata": {},
   "source": [
    "Consider the following linear optimization problem: \\\\[ \\min_{x\\in\\mathbf{R}^2} -3 x_1 - 2 x_2\n",
    "\\\\]\n",
    "subject to\n",
    "\\\\[\n",
    "\\begin{aligned}\n",
    "  x_1 - x_2 & \\geq -2, \\\\\n",
    "  2x_1 + x_2 & \\leq 8, \\\\\n",
    "  x_1 + x_2 & \\leq 5, \\\\ \n",
    "  x_1 + 2x_2 & \\leq 10,\\\\\n",
    "  x_1, x_2 & \\geq 0.\n",
    "\\end{aligned}\n",
    "\\\\]"
   ]
  },
  {
   "cell_type": "markdown",
   "metadata": {},
   "source": [
    "In standard form, we have\\\\[A = \\left(\\begin{array}{rrrrrr}  -1 & 1 & 1 & 0 & 0 & 0 \\\\\n",
    "2 & 1 & 0 & 1 & 0 & 0 \\\\\n",
    "1 & 1 & 0 & 0 & 1 & 0 \\\\\n",
    "1 & 2 & 0 & 0 & 0 & 1 \\end{array} \\right), \\qquad b= \\left(\\begin{array}{c}  2 \\\\ 8 \\\\ 5  \\\\ 10\\end{array} \\right), \\qquad c= \\left(\\begin{array}{c} -3 \\\\ -2 \\\\ 0\n",
    "  \\\\ 0 \\\\ 0 \\\\ 0 \\end{array} \\right). \\\\]"
   ]
  },
  {
   "cell_type": "code",
   "execution_count": 7,
   "metadata": {},
   "outputs": [
    {
     "name": "stdout",
     "output_type": "stream",
     "text": [
      " 3,  4,  5,  6 |  -3.00,  -2.00 |  +0.00,  +0.00,  +2.00,  +8.00,  +5.00, +10.00 |  +0.00 |  +1.00,  -2.00,  -1.00,  -1.00 | 4.00 |  1 |  2\n",
      " 3,  1,  5,  6 |  -0.50,  +1.50 |  +4.00,  +0.00,  +6.00,  +0.00,  +1.00,  +6.00 | -12.00 |  -1.50,  -0.50,  -0.50,  -1.50 | 2.00 |  2 |  3\n",
      " 3,  1,  2,  6 |  +1.00,  +1.00 |  +3.00,  +2.00,  +3.00,  +0.00,  +0.00,  +3.00 | -13.00\n",
      "\n",
      "[Legend: Basis | Reduced costs | x | cost | dB | alpha | p | q]\n"
     ]
    }
   ],
   "source": [
    "A = np.array([[-1, 1, 1, 0, 0, 0], [2, 1, 0, 1, 0, 0], [1, 1, 0, 0, 1, 0], [1, 2, 0, 0, 0, 1]])\n",
    "b = np.array([2, 8, 5, 10])\n",
    "c = np.array([-3, -2, 0, 0, 0, 0])\n",
    "basis = [2, 3, 4, 5]\n",
    "optimalbasis, unbounded, iters = simplex(A,b,c,basis)\n",
    "for i in iters:\n",
    "    print(oneIteration(i))\n",
    "print('\\n[Legend: Basis | Reduced costs | x | cost | dB | alpha | p | q]')"
   ]
  },
  {
   "cell_type": "markdown",
   "metadata": {},
   "source": [
    "The optimal solution is \\\\[x^*=\\left(\\begin{array}{c} 3 \\\\ 2 \\\\ 3 \\\\ 0 \\\\ 0 \\\\ 3\\end{array}\\right) \\\\] with optimal cost -13."
   ]
  }
 ],
 "metadata": {
  "kernelspec": {
   "display_name": "Python 3",
   "language": "python",
   "name": "python3"
  },
  "language_info": {
   "codemirror_mode": {
    "name": "ipython",
    "version": 3
   },
   "file_extension": ".py",
   "mimetype": "text/x-python",
   "name": "python",
   "nbconvert_exporter": "python",
   "pygments_lexer": "ipython3",
   "version": "3.8.2"
  }
 },
 "nbformat": 4,
 "nbformat_minor": 2
}
